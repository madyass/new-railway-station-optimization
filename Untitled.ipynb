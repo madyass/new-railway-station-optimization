{
 "cells": [
  {
   "cell_type": "code",
   "execution_count": 1,
   "id": "9beb2dcc-0c27-418e-9dd4-877d64cf75e7",
   "metadata": {},
   "outputs": [],
   "source": [
    "%load_ext autoreload\n",
    "%autoreload 2"
   ]
  },
  {
   "cell_type": "code",
   "execution_count": 26,
   "id": "4a6c7451-e228-4e9b-a8cb-8d18a18125ce",
   "metadata": {},
   "outputs": [],
   "source": [
    "import pandas as pd\n",
    "import geopandas as gpd\n",
    "import numpy as np\n",
    "import matplotlib.pyplot as plt\n",
    "from collections import defaultdict\n",
    "import re\n",
    "import importlib\n",
    "from functions import *\n",
    "import random\n",
    "import folium\n",
    "from GA import *\n",
    "from shapely.geometry import Polygon"
   ]
  },
  {
   "cell_type": "markdown",
   "id": "0f4076e4-266c-46b7-9f6b-9b1d4d9864be",
   "metadata": {},
   "source": [
    "# 1) DATASETS and Data Cleaning"
   ]
  },
  {
   "cell_type": "markdown",
   "id": "e585a7fe-3b28-4214-9dd8-a1887a2f7a5e",
   "metadata": {},
   "source": [
    "## a) Population Dataset"
   ]
  },
  {
   "cell_type": "code",
   "execution_count": 3,
   "id": "e10961e7-79ec-46b1-a721-0f849a72f3c4",
   "metadata": {},
   "outputs": [],
   "source": [
    "population_path = \"/home/saydam/Desktop/2024-2025_itu/yzv202/project/github/datasets/population_with_coordinates.csv\""
   ]
  },
  {
   "cell_type": "code",
   "execution_count": 4,
   "id": "24b2f4ba-b05f-4de5-ac2c-b225c3f1a433",
   "metadata": {},
   "outputs": [],
   "source": [
    "raw_population_df = pd.read_csv(population_path , header=None, sep=\",\")\n",
    "raw_population_df = raw_population_df.dropna(how='all', axis=1)\n",
    "raw_population_df.columns = raw_population_df.iloc[0]\n",
    "raw_population_df = raw_population_df.drop(index=0).reset_index(drop=True)\n",
    "raw_population_df = raw_population_df.loc[:, raw_population_df.columns.notna()]\n",
    "raw_population_df[['latitude', 'longitude']] = raw_population_df['coordinate'].str.split(',', expand=True)\n",
    "raw_population_df['latitude'] = raw_population_df['latitude'].astype(float)\n",
    "raw_population_df['longitude'] = raw_population_df['longitude'].astype(float)\n",
    "raw_population_df['population'] = raw_population_df['population'].astype(int)\n",
    "population_df = raw_population_df[['population', 'neighborhood', 'township', 'neighborhood_code', 'latitude', 'longitude']]\n",
    "population_df = population_df.dropna()"
   ]
  },
  {
   "cell_type": "code",
   "execution_count": 5,
   "id": "0cb539e3-451e-4d46-a4ea-9400e3f6feb9",
   "metadata": {},
   "outputs": [
    {
     "data": {
      "text/html": [
       "<div>\n",
       "<style scoped>\n",
       "    .dataframe tbody tr th:only-of-type {\n",
       "        vertical-align: middle;\n",
       "    }\n",
       "\n",
       "    .dataframe tbody tr th {\n",
       "        vertical-align: top;\n",
       "    }\n",
       "\n",
       "    .dataframe thead th {\n",
       "        text-align: right;\n",
       "    }\n",
       "</style>\n",
       "<table border=\"1\" class=\"dataframe\">\n",
       "  <thead>\n",
       "    <tr style=\"text-align: right;\">\n",
       "      <th></th>\n",
       "      <th>population</th>\n",
       "      <th>neighborhood</th>\n",
       "      <th>township</th>\n",
       "      <th>neighborhood_code</th>\n",
       "      <th>latitude</th>\n",
       "      <th>longitude</th>\n",
       "    </tr>\n",
       "  </thead>\n",
       "  <tbody>\n",
       "    <tr>\n",
       "      <th>0</th>\n",
       "      <td>4693</td>\n",
       "      <td>Adnan Menderes</td>\n",
       "      <td>Arnavutköy</td>\n",
       "      <td>40490</td>\n",
       "      <td>41.211179</td>\n",
       "      <td>28.700163</td>\n",
       "    </tr>\n",
       "    <tr>\n",
       "      <th>1</th>\n",
       "      <td>47828</td>\n",
       "      <td>Anadolu</td>\n",
       "      <td>Arnavutköy</td>\n",
       "      <td>99359</td>\n",
       "      <td>41.186036</td>\n",
       "      <td>28.749463</td>\n",
       "    </tr>\n",
       "    <tr>\n",
       "      <th>2</th>\n",
       "      <td>23116</td>\n",
       "      <td>Arnavutköy Merkez</td>\n",
       "      <td>Arnavutköy</td>\n",
       "      <td>40478</td>\n",
       "      <td>41.182546</td>\n",
       "      <td>28.737891</td>\n",
       "    </tr>\n",
       "    <tr>\n",
       "      <th>3</th>\n",
       "      <td>10566</td>\n",
       "      <td>Atatürk</td>\n",
       "      <td>Arnavutköy</td>\n",
       "      <td>40482</td>\n",
       "      <td>41.190149</td>\n",
       "      <td>28.760125</td>\n",
       "    </tr>\n",
       "    <tr>\n",
       "      <th>4</th>\n",
       "      <td>12829</td>\n",
       "      <td>Boğazköy İstiklal</td>\n",
       "      <td>Arnavutköy</td>\n",
       "      <td>40483</td>\n",
       "      <td>41.183488</td>\n",
       "      <td>28.768235</td>\n",
       "    </tr>\n",
       "  </tbody>\n",
       "</table>\n",
       "</div>"
      ],
      "text/plain": [
       "0  population       neighborhood    township neighborhood_code   latitude  \\\n",
       "0        4693     Adnan Menderes  Arnavutköy             40490  41.211179   \n",
       "1       47828            Anadolu  Arnavutköy             99359  41.186036   \n",
       "2       23116  Arnavutköy Merkez  Arnavutköy             40478  41.182546   \n",
       "3       10566            Atatürk  Arnavutköy             40482  41.190149   \n",
       "4       12829  Boğazköy İstiklal  Arnavutköy             40483  41.183488   \n",
       "\n",
       "0  longitude  \n",
       "0  28.700163  \n",
       "1  28.749463  \n",
       "2  28.737891  \n",
       "3  28.760125  \n",
       "4  28.768235  "
      ]
     },
     "execution_count": 5,
     "metadata": {},
     "output_type": "execute_result"
    }
   ],
   "source": [
    "population_df.head()"
   ]
  },
  {
   "cell_type": "code",
   "execution_count": 6,
   "id": "2407c608-0f26-492b-ad74-2b3d89f08ecc",
   "metadata": {},
   "outputs": [
    {
     "data": {
      "text/html": [
       "<div>\n",
       "<style scoped>\n",
       "    .dataframe tbody tr th:only-of-type {\n",
       "        vertical-align: middle;\n",
       "    }\n",
       "\n",
       "    .dataframe tbody tr th {\n",
       "        vertical-align: top;\n",
       "    }\n",
       "\n",
       "    .dataframe thead th {\n",
       "        text-align: right;\n",
       "    }\n",
       "</style>\n",
       "<table border=\"1\" class=\"dataframe\">\n",
       "  <thead>\n",
       "    <tr style=\"text-align: right;\">\n",
       "      <th></th>\n",
       "      <th>population</th>\n",
       "      <th>latitude</th>\n",
       "      <th>longitude</th>\n",
       "    </tr>\n",
       "  </thead>\n",
       "  <tbody>\n",
       "    <tr>\n",
       "      <th>count</th>\n",
       "      <td>708.000000</td>\n",
       "      <td>708.000000</td>\n",
       "      <td>708.000000</td>\n",
       "    </tr>\n",
       "    <tr>\n",
       "      <th>mean</th>\n",
       "      <td>21397.411017</td>\n",
       "      <td>41.029966</td>\n",
       "      <td>28.972329</td>\n",
       "    </tr>\n",
       "    <tr>\n",
       "      <th>std</th>\n",
       "      <td>15943.770157</td>\n",
       "      <td>0.071404</td>\n",
       "      <td>0.193073</td>\n",
       "    </tr>\n",
       "    <tr>\n",
       "      <th>min</th>\n",
       "      <td>2025.000000</td>\n",
       "      <td>40.817868</td>\n",
       "      <td>28.409171</td>\n",
       "    </tr>\n",
       "    <tr>\n",
       "      <th>25%</th>\n",
       "      <td>10279.250000</td>\n",
       "      <td>40.998081</td>\n",
       "      <td>28.854917</td>\n",
       "    </tr>\n",
       "    <tr>\n",
       "      <th>50%</th>\n",
       "      <td>17970.000000</td>\n",
       "      <td>41.028968</td>\n",
       "      <td>28.981120</td>\n",
       "    </tr>\n",
       "    <tr>\n",
       "      <th>75%</th>\n",
       "      <td>28527.750000</td>\n",
       "      <td>41.063456</td>\n",
       "      <td>29.109349</td>\n",
       "    </tr>\n",
       "    <tr>\n",
       "      <th>max</th>\n",
       "      <td>112367.000000</td>\n",
       "      <td>41.269994</td>\n",
       "      <td>29.386538</td>\n",
       "    </tr>\n",
       "  </tbody>\n",
       "</table>\n",
       "</div>"
      ],
      "text/plain": [
       "0         population    latitude   longitude\n",
       "count     708.000000  708.000000  708.000000\n",
       "mean    21397.411017   41.029966   28.972329\n",
       "std     15943.770157    0.071404    0.193073\n",
       "min      2025.000000   40.817868   28.409171\n",
       "25%     10279.250000   40.998081   28.854917\n",
       "50%     17970.000000   41.028968   28.981120\n",
       "75%     28527.750000   41.063456   29.109349\n",
       "max    112367.000000   41.269994   29.386538"
      ]
     },
     "execution_count": 6,
     "metadata": {},
     "output_type": "execute_result"
    }
   ],
   "source": [
    "population_df.describe()"
   ]
  },
  {
   "cell_type": "markdown",
   "id": "8f2d2f41-eb93-4b60-a6b2-ae698a2c56bb",
   "metadata": {},
   "source": [
    "## b) Metro Station Dataset"
   ]
  },
  {
   "cell_type": "code",
   "execution_count": 7,
   "id": "dcd03ff7-824b-4bea-8187-9204f7b617a7",
   "metadata": {},
   "outputs": [],
   "source": [
    "stations_gdf = gpd.read_file(\"/home/saydam/Desktop/2024-2025_itu/yzv202/project/github/datasets/station.geojson\")"
   ]
  },
  {
   "cell_type": "code",
   "execution_count": 8,
   "id": "c4a0ef04-1740-475b-ad03-e8c7569bd91f",
   "metadata": {},
   "outputs": [
    {
     "name": "stderr",
     "output_type": "stream",
     "text": [
      "/tmp/ipykernel_41932/509794445.py:4: SettingWithCopyWarning: \n",
      "A value is trying to be set on a copy of a slice from a DataFrame.\n",
      "Try using .loc[row_indexer,col_indexer] = value instead\n",
      "\n",
      "See the caveats in the documentation: https://pandas.pydata.org/pandas-docs/stable/user_guide/indexing.html#returning-a-view-versus-a-copy\n",
      "  stations_df[[\"lat\", \"lon\"]] = stations_df[[\"lon\", \"lat\"]]\n"
     ]
    }
   ],
   "source": [
    "stations_gdf[\"lat\"] = stations_gdf.geometry.x\n",
    "stations_gdf[\"lon\"] = stations_gdf.geometry.y\n",
    "stations_df = stations_gdf[[\"ISTASYON\", \"PROJE_ADI\", \"HAT_TURU\", \"lat\", \"lon\"]]\n",
    "stations_df[[\"lat\", \"lon\"]] = stations_df[[\"lon\", \"lat\"]]"
   ]
  },
  {
   "cell_type": "code",
   "execution_count": 9,
   "id": "c89e11cd-4129-4005-849e-b8556549d40e",
   "metadata": {},
   "outputs": [
    {
     "data": {
      "text/html": [
       "<div>\n",
       "<style scoped>\n",
       "    .dataframe tbody tr th:only-of-type {\n",
       "        vertical-align: middle;\n",
       "    }\n",
       "\n",
       "    .dataframe tbody tr th {\n",
       "        vertical-align: top;\n",
       "    }\n",
       "\n",
       "    .dataframe thead th {\n",
       "        text-align: right;\n",
       "    }\n",
       "</style>\n",
       "<table border=\"1\" class=\"dataframe\">\n",
       "  <thead>\n",
       "    <tr style=\"text-align: right;\">\n",
       "      <th></th>\n",
       "      <th>ISTASYON</th>\n",
       "      <th>PROJE_ADI</th>\n",
       "      <th>HAT_TURU</th>\n",
       "      <th>lat</th>\n",
       "      <th>lon</th>\n",
       "    </tr>\n",
       "  </thead>\n",
       "  <tbody>\n",
       "    <tr>\n",
       "      <th>0</th>\n",
       "      <td>Mehmet Akif</td>\n",
       "      <td>T1 Kabataş - Bağcılar Tramvay Hattı</td>\n",
       "      <td>Tramvay</td>\n",
       "      <td>41.005800</td>\n",
       "      <td>28.881681</td>\n",
       "    </tr>\n",
       "    <tr>\n",
       "      <th>1</th>\n",
       "      <td>Soğanlık</td>\n",
       "      <td>M4 Kadıköy - SGH Metro Hattı</td>\n",
       "      <td>Metro</td>\n",
       "      <td>40.913288</td>\n",
       "      <td>29.192398</td>\n",
       "    </tr>\n",
       "    <tr>\n",
       "      <th>2</th>\n",
       "      <td>Aksaray</td>\n",
       "      <td>M1A Yenikapı - Atatürk Havalimanı Metro Hattı</td>\n",
       "      <td>Metro</td>\n",
       "      <td>41.012008</td>\n",
       "      <td>28.948090</td>\n",
       "    </tr>\n",
       "    <tr>\n",
       "      <th>3</th>\n",
       "      <td>Olimpiyat</td>\n",
       "      <td>M9 Bahariye - Olimpiyat Metro Hattı</td>\n",
       "      <td>Metro</td>\n",
       "      <td>41.079466</td>\n",
       "      <td>28.767234</td>\n",
       "    </tr>\n",
       "    <tr>\n",
       "      <th>4</th>\n",
       "      <td>Sağmalcılar-Pancar Motor</td>\n",
       "      <td>T4 Topkapı - Mescid-i Selam Tramvay Hattı</td>\n",
       "      <td>Tramvay</td>\n",
       "      <td>41.057280</td>\n",
       "      <td>28.906940</td>\n",
       "    </tr>\n",
       "  </tbody>\n",
       "</table>\n",
       "</div>"
      ],
      "text/plain": [
       "                   ISTASYON                                      PROJE_ADI  \\\n",
       "0               Mehmet Akif            T1 Kabataş - Bağcılar Tramvay Hattı   \n",
       "1                  Soğanlık                   M4 Kadıköy - SGH Metro Hattı   \n",
       "2                   Aksaray  M1A Yenikapı - Atatürk Havalimanı Metro Hattı   \n",
       "3                 Olimpiyat            M9 Bahariye - Olimpiyat Metro Hattı   \n",
       "4  Sağmalcılar-Pancar Motor      T4 Topkapı - Mescid-i Selam Tramvay Hattı   \n",
       "\n",
       "  HAT_TURU        lat        lon  \n",
       "0  Tramvay  41.005800  28.881681  \n",
       "1    Metro  40.913288  29.192398  \n",
       "2    Metro  41.012008  28.948090  \n",
       "3    Metro  41.079466  28.767234  \n",
       "4  Tramvay  41.057280  28.906940  "
      ]
     },
     "execution_count": 9,
     "metadata": {},
     "output_type": "execute_result"
    }
   ],
   "source": [
    "stations_df.head()"
   ]
  },
  {
   "cell_type": "markdown",
   "id": "c4028330-e706-4278-a795-e750fdb2d359",
   "metadata": {},
   "source": [
    "# Visulation\n",
    "Initial maps"
   ]
  },
  {
   "cell_type": "code",
   "execution_count": 10,
   "id": "1c180130-9fe7-43c7-830f-5d1566462377",
   "metadata": {},
   "outputs": [],
   "source": [
    "istanbul_coords = [41.0082, 28.9784]\n",
    "\n",
    "\n",
    "map_istanbul = folium.Map(location=istanbul_coords, zoom_start=11, tiles='CartoDB positron')\n",
    "\n",
    "for index, row in stations_df.iterrows():\n",
    "    popup_text = f\"{row['ISTASYON']}<br>{row['PROJE_ADI']}\"\n",
    "    folium.Marker(\n",
    "        location=[row['lat'], row['lon']],\n",
    "        popup=popup_text,\n",
    "        icon=folium.Icon(color='blue' if row['HAT_TURU'] == 'Metro' else 'green', icon='train')\n",
    "    ).add_to(map_istanbul)\n",
    "\n",
    "map_istanbul.save(\"maps/initial_metro_lines.html\")"
   ]
  },
  {
   "cell_type": "code",
   "execution_count": 11,
   "id": "2e55b46d-7a80-4776-b7ec-58b23f1efdcf",
   "metadata": {},
   "outputs": [],
   "source": [
    "m = folium.Map(location=istanbul_coords, zoom_start=10 , tiles='CartoDB positron')\n",
    "\n",
    "\n",
    "for _, row in population_df.iterrows():\n",
    "    folium.Marker(\n",
    "        location=[row['latitude'], row['longitude']],\n",
    "        popup=f\"{row['neighborhood']} ({row['township']})\\nNüfus: {row['population']}\",\n",
    "        tooltip=row['neighborhood']\n",
    "    ).add_to(m)\n",
    "\n",
    "m.save(\"maps/neighborhood.html\")"
   ]
  },
  {
   "cell_type": "markdown",
   "id": "fea5bd76-9ca8-43b3-93b9-66f0b2260c22",
   "metadata": {},
   "source": [
    "# Calculating grids\n",
    "These are going to be candidate stations"
   ]
  },
  {
   "cell_type": "code",
   "execution_count": 12,
   "id": "b4fa0996-bf19-41c7-937d-152a4d1fb171",
   "metadata": {},
   "outputs": [],
   "source": [
    "polygon = Polygon([(40.963, 28.605) , (41.000, 28.984) ,  (41.168, 29.051) , (41.098, 28.578) ])"
   ]
  },
  {
   "cell_type": "code",
   "execution_count": 13,
   "id": "f622e7b0-8cb6-43c5-aec4-fa737dec5085",
   "metadata": {},
   "outputs": [],
   "source": [
    "grid_list = create_grid_for_polygon(polygon)"
   ]
  },
  {
   "cell_type": "code",
   "execution_count": 14,
   "id": "d7273082-5300-4d72-b98e-44d4478dda5c",
   "metadata": {},
   "outputs": [
    {
     "name": "stdout",
     "output_type": "stream",
     "text": [
      "1000\n"
     ]
    }
   ],
   "source": [
    "print(len(grid_list))"
   ]
  },
  {
   "cell_type": "code",
   "execution_count": 15,
   "id": "b693d3a7-af5c-4e50-b27c-0c022156b8c8",
   "metadata": {},
   "outputs": [
    {
     "data": {
      "text/html": [
       "<div>\n",
       "<style scoped>\n",
       "    .dataframe tbody tr th:only-of-type {\n",
       "        vertical-align: middle;\n",
       "    }\n",
       "\n",
       "    .dataframe tbody tr th {\n",
       "        vertical-align: top;\n",
       "    }\n",
       "\n",
       "    .dataframe thead th {\n",
       "        text-align: right;\n",
       "    }\n",
       "</style>\n",
       "<table border=\"1\" class=\"dataframe\">\n",
       "  <thead>\n",
       "    <tr style=\"text-align: right;\">\n",
       "      <th></th>\n",
       "      <th>station_id</th>\n",
       "      <th>lat</th>\n",
       "      <th>lon</th>\n",
       "    </tr>\n",
       "  </thead>\n",
       "  <tbody>\n",
       "    <tr>\n",
       "      <th>0</th>\n",
       "      <td>1</td>\n",
       "      <td>41.071929</td>\n",
       "      <td>28.699785</td>\n",
       "    </tr>\n",
       "    <tr>\n",
       "      <th>1</th>\n",
       "      <td>2</td>\n",
       "      <td>41.002279</td>\n",
       "      <td>28.751837</td>\n",
       "    </tr>\n",
       "    <tr>\n",
       "      <th>2</th>\n",
       "      <td>3</td>\n",
       "      <td>41.019758</td>\n",
       "      <td>28.876875</td>\n",
       "    </tr>\n",
       "    <tr>\n",
       "      <th>3</th>\n",
       "      <td>4</td>\n",
       "      <td>41.129600</td>\n",
       "      <td>28.987969</td>\n",
       "    </tr>\n",
       "    <tr>\n",
       "      <th>4</th>\n",
       "      <td>5</td>\n",
       "      <td>41.028151</td>\n",
       "      <td>28.928297</td>\n",
       "    </tr>\n",
       "  </tbody>\n",
       "</table>\n",
       "</div>"
      ],
      "text/plain": [
       "   station_id        lat        lon\n",
       "0           1  41.071929  28.699785\n",
       "1           2  41.002279  28.751837\n",
       "2           3  41.019758  28.876875\n",
       "3           4  41.129600  28.987969\n",
       "4           5  41.028151  28.928297"
      ]
     },
     "execution_count": 15,
     "metadata": {},
     "output_type": "execute_result"
    }
   ],
   "source": [
    "grid_df = pd.DataFrame(grid_list)\n",
    "grid_df.head()"
   ]
  },
  {
   "cell_type": "code",
   "execution_count": 16,
   "id": "8ba1e088-bca1-4934-accf-cba13475137a",
   "metadata": {},
   "outputs": [
    {
     "name": "stderr",
     "output_type": "stream",
     "text": [
      "/tmp/ipykernel_41932/4111902988.py:2: SettingWithCopyWarning: \n",
      "A value is trying to be set on a copy of a slice from a DataFrame.\n",
      "Try using .loc[row_indexer,col_indexer] = value instead\n",
      "\n",
      "See the caveats in the documentation: https://pandas.pydata.org/pandas-docs/stable/user_guide/indexing.html#returning-a-view-versus-a-copy\n",
      "  stations_df['TYPE'] = 'existing'\n"
     ]
    }
   ],
   "source": [
    "grid_df['TYPE'] = 'candidate'\n",
    "stations_df['TYPE'] = 'existing'"
   ]
  },
  {
   "cell_type": "code",
   "execution_count": 17,
   "id": "e4ab8278-bc78-40a2-8c45-4abe35ae480c",
   "metadata": {},
   "outputs": [
    {
     "data": {
      "text/html": [
       "<div>\n",
       "<style scoped>\n",
       "    .dataframe tbody tr th:only-of-type {\n",
       "        vertical-align: middle;\n",
       "    }\n",
       "\n",
       "    .dataframe tbody tr th {\n",
       "        vertical-align: top;\n",
       "    }\n",
       "\n",
       "    .dataframe thead th {\n",
       "        text-align: right;\n",
       "    }\n",
       "</style>\n",
       "<table border=\"1\" class=\"dataframe\">\n",
       "  <thead>\n",
       "    <tr style=\"text-align: right;\">\n",
       "      <th></th>\n",
       "      <th>ISTASYON</th>\n",
       "      <th>PROJE_ADI</th>\n",
       "      <th>HAT_TURU</th>\n",
       "      <th>lat</th>\n",
       "      <th>lon</th>\n",
       "      <th>TYPE</th>\n",
       "    </tr>\n",
       "  </thead>\n",
       "  <tbody>\n",
       "    <tr>\n",
       "      <th>0</th>\n",
       "      <td>Mehmet Akif</td>\n",
       "      <td>T1 Kabataş - Bağcılar Tramvay Hattı</td>\n",
       "      <td>Tramvay</td>\n",
       "      <td>41.005800</td>\n",
       "      <td>28.881681</td>\n",
       "      <td>existing</td>\n",
       "    </tr>\n",
       "    <tr>\n",
       "      <th>1</th>\n",
       "      <td>Soğanlık</td>\n",
       "      <td>M4 Kadıköy - SGH Metro Hattı</td>\n",
       "      <td>Metro</td>\n",
       "      <td>40.913288</td>\n",
       "      <td>29.192398</td>\n",
       "      <td>existing</td>\n",
       "    </tr>\n",
       "    <tr>\n",
       "      <th>2</th>\n",
       "      <td>Aksaray</td>\n",
       "      <td>M1A Yenikapı - Atatürk Havalimanı Metro Hattı</td>\n",
       "      <td>Metro</td>\n",
       "      <td>41.012008</td>\n",
       "      <td>28.948090</td>\n",
       "      <td>existing</td>\n",
       "    </tr>\n",
       "    <tr>\n",
       "      <th>3</th>\n",
       "      <td>Olimpiyat</td>\n",
       "      <td>M9 Bahariye - Olimpiyat Metro Hattı</td>\n",
       "      <td>Metro</td>\n",
       "      <td>41.079466</td>\n",
       "      <td>28.767234</td>\n",
       "      <td>existing</td>\n",
       "    </tr>\n",
       "    <tr>\n",
       "      <th>4</th>\n",
       "      <td>Sağmalcılar-Pancar Motor</td>\n",
       "      <td>T4 Topkapı - Mescid-i Selam Tramvay Hattı</td>\n",
       "      <td>Tramvay</td>\n",
       "      <td>41.057280</td>\n",
       "      <td>28.906940</td>\n",
       "      <td>existing</td>\n",
       "    </tr>\n",
       "  </tbody>\n",
       "</table>\n",
       "</div>"
      ],
      "text/plain": [
       "                   ISTASYON                                      PROJE_ADI  \\\n",
       "0               Mehmet Akif            T1 Kabataş - Bağcılar Tramvay Hattı   \n",
       "1                  Soğanlık                   M4 Kadıköy - SGH Metro Hattı   \n",
       "2                   Aksaray  M1A Yenikapı - Atatürk Havalimanı Metro Hattı   \n",
       "3                 Olimpiyat            M9 Bahariye - Olimpiyat Metro Hattı   \n",
       "4  Sağmalcılar-Pancar Motor      T4 Topkapı - Mescid-i Selam Tramvay Hattı   \n",
       "\n",
       "  HAT_TURU        lat        lon      TYPE  \n",
       "0  Tramvay  41.005800  28.881681  existing  \n",
       "1    Metro  40.913288  29.192398  existing  \n",
       "2    Metro  41.012008  28.948090  existing  \n",
       "3    Metro  41.079466  28.767234  existing  \n",
       "4  Tramvay  41.057280  28.906940  existing  "
      ]
     },
     "execution_count": 17,
     "metadata": {},
     "output_type": "execute_result"
    }
   ],
   "source": [
    "stations_df.head()"
   ]
  },
  {
   "cell_type": "code",
   "execution_count": 18,
   "id": "6f776998-f968-4c06-a7d3-8a6987d0268a",
   "metadata": {},
   "outputs": [
    {
     "data": {
      "text/html": [
       "<div>\n",
       "<style scoped>\n",
       "    .dataframe tbody tr th:only-of-type {\n",
       "        vertical-align: middle;\n",
       "    }\n",
       "\n",
       "    .dataframe tbody tr th {\n",
       "        vertical-align: top;\n",
       "    }\n",
       "\n",
       "    .dataframe thead th {\n",
       "        text-align: right;\n",
       "    }\n",
       "</style>\n",
       "<table border=\"1\" class=\"dataframe\">\n",
       "  <thead>\n",
       "    <tr style=\"text-align: right;\">\n",
       "      <th></th>\n",
       "      <th>station_id</th>\n",
       "      <th>lat</th>\n",
       "      <th>lon</th>\n",
       "      <th>TYPE</th>\n",
       "    </tr>\n",
       "  </thead>\n",
       "  <tbody>\n",
       "    <tr>\n",
       "      <th>0</th>\n",
       "      <td>1</td>\n",
       "      <td>41.071929</td>\n",
       "      <td>28.699785</td>\n",
       "      <td>candidate</td>\n",
       "    </tr>\n",
       "    <tr>\n",
       "      <th>1</th>\n",
       "      <td>2</td>\n",
       "      <td>41.002279</td>\n",
       "      <td>28.751837</td>\n",
       "      <td>candidate</td>\n",
       "    </tr>\n",
       "    <tr>\n",
       "      <th>2</th>\n",
       "      <td>3</td>\n",
       "      <td>41.019758</td>\n",
       "      <td>28.876875</td>\n",
       "      <td>candidate</td>\n",
       "    </tr>\n",
       "    <tr>\n",
       "      <th>3</th>\n",
       "      <td>4</td>\n",
       "      <td>41.129600</td>\n",
       "      <td>28.987969</td>\n",
       "      <td>candidate</td>\n",
       "    </tr>\n",
       "    <tr>\n",
       "      <th>4</th>\n",
       "      <td>5</td>\n",
       "      <td>41.028151</td>\n",
       "      <td>28.928297</td>\n",
       "      <td>candidate</td>\n",
       "    </tr>\n",
       "  </tbody>\n",
       "</table>\n",
       "</div>"
      ],
      "text/plain": [
       "   station_id        lat        lon       TYPE\n",
       "0           1  41.071929  28.699785  candidate\n",
       "1           2  41.002279  28.751837  candidate\n",
       "2           3  41.019758  28.876875  candidate\n",
       "3           4  41.129600  28.987969  candidate\n",
       "4           5  41.028151  28.928297  candidate"
      ]
     },
     "execution_count": 18,
     "metadata": {},
     "output_type": "execute_result"
    }
   ],
   "source": [
    "grid_df.head()"
   ]
  },
  {
   "cell_type": "code",
   "execution_count": 19,
   "id": "3e8c4985-55e6-465e-8e39-c9a435e3c7fb",
   "metadata": {},
   "outputs": [
    {
     "name": "stdout",
     "output_type": "stream",
     "text": [
      "station_id      int64\n",
      "lat           float64\n",
      "lon           float64\n",
      "TYPE           object\n",
      "dtype: object\n"
     ]
    }
   ],
   "source": [
    "print(grid_df.dtypes)"
   ]
  },
  {
   "cell_type": "code",
   "execution_count": 20,
   "id": "6c0c8bdd-0448-4832-a8c9-1bf85dde16b8",
   "metadata": {},
   "outputs": [],
   "source": [
    "m = folium.Map(location=istanbul_coords, zoom_start=10, tiles='CartoDB positron')\n",
    "\n",
    "for _, row in grid_df.iterrows():\n",
    "    folium.Marker(\n",
    "        location=[row['lat'], row['lon']],  \n",
    "        popup=f\"station id: {row['station_id']}\"\n",
    "    ).add_to(m)\n",
    "\n",
    "m.save(\"maps/grid.html\")"
   ]
  },
  {
   "cell_type": "code",
   "execution_count": 21,
   "id": "384770fd-6cf9-4d5d-b5e6-eb9ada670c97",
   "metadata": {},
   "outputs": [],
   "source": [
    "all_stations = pd.concat([\n",
    "    grid_df[['station_id', 'lat', 'lon' , 'TYPE']],\n",
    "    stations_df[['ISTASYON', 'lat', 'lon' , 'TYPE']].rename(columns={'ISTASYON': 'station_id'})\n",
    "]).reset_index(drop=True)\n"
   ]
  },
  {
   "cell_type": "code",
   "execution_count": 22,
   "id": "6ad1a1de-ad60-4310-85bd-2961705fceac",
   "metadata": {},
   "outputs": [],
   "source": [
    "all_stations = all_stations.reset_index(drop=True)\n",
    "all_stations['station_id'] = all_stations.index + 34001"
   ]
  },
  {
   "cell_type": "code",
   "execution_count": 23,
   "id": "3e252f00-6805-4f01-8232-1d33108d30c3",
   "metadata": {},
   "outputs": [
    {
     "data": {
      "text/html": [
       "<div>\n",
       "<style scoped>\n",
       "    .dataframe tbody tr th:only-of-type {\n",
       "        vertical-align: middle;\n",
       "    }\n",
       "\n",
       "    .dataframe tbody tr th {\n",
       "        vertical-align: top;\n",
       "    }\n",
       "\n",
       "    .dataframe thead th {\n",
       "        text-align: right;\n",
       "    }\n",
       "</style>\n",
       "<table border=\"1\" class=\"dataframe\">\n",
       "  <thead>\n",
       "    <tr style=\"text-align: right;\">\n",
       "      <th></th>\n",
       "      <th>station_id</th>\n",
       "      <th>lat</th>\n",
       "      <th>lon</th>\n",
       "      <th>TYPE</th>\n",
       "    </tr>\n",
       "  </thead>\n",
       "  <tbody>\n",
       "    <tr>\n",
       "      <th>0</th>\n",
       "      <td>34001</td>\n",
       "      <td>41.071929</td>\n",
       "      <td>28.699785</td>\n",
       "      <td>candidate</td>\n",
       "    </tr>\n",
       "    <tr>\n",
       "      <th>1</th>\n",
       "      <td>34002</td>\n",
       "      <td>41.002279</td>\n",
       "      <td>28.751837</td>\n",
       "      <td>candidate</td>\n",
       "    </tr>\n",
       "    <tr>\n",
       "      <th>2</th>\n",
       "      <td>34003</td>\n",
       "      <td>41.019758</td>\n",
       "      <td>28.876875</td>\n",
       "      <td>candidate</td>\n",
       "    </tr>\n",
       "    <tr>\n",
       "      <th>3</th>\n",
       "      <td>34004</td>\n",
       "      <td>41.129600</td>\n",
       "      <td>28.987969</td>\n",
       "      <td>candidate</td>\n",
       "    </tr>\n",
       "    <tr>\n",
       "      <th>4</th>\n",
       "      <td>34005</td>\n",
       "      <td>41.028151</td>\n",
       "      <td>28.928297</td>\n",
       "      <td>candidate</td>\n",
       "    </tr>\n",
       "  </tbody>\n",
       "</table>\n",
       "</div>"
      ],
      "text/plain": [
       "   station_id        lat        lon       TYPE\n",
       "0       34001  41.071929  28.699785  candidate\n",
       "1       34002  41.002279  28.751837  candidate\n",
       "2       34003  41.019758  28.876875  candidate\n",
       "3       34004  41.129600  28.987969  candidate\n",
       "4       34005  41.028151  28.928297  candidate"
      ]
     },
     "execution_count": 23,
     "metadata": {},
     "output_type": "execute_result"
    }
   ],
   "source": [
    "all_stations.head()"
   ]
  },
  {
   "cell_type": "code",
   "execution_count": 24,
   "id": "3448cb9e-5f98-44dd-af66-6b7ec76876c0",
   "metadata": {},
   "outputs": [],
   "source": [
    "all_stations_pop = calculate_population_per_station(all_stations , population_df)"
   ]
  },
  {
   "cell_type": "code",
   "execution_count": 27,
   "id": "c8766df7-1cda-4f06-99a5-025ca47ba83b",
   "metadata": {},
   "outputs": [
    {
     "data": {
      "text/html": [
       "<div>\n",
       "<style scoped>\n",
       "    .dataframe tbody tr th:only-of-type {\n",
       "        vertical-align: middle;\n",
       "    }\n",
       "\n",
       "    .dataframe tbody tr th {\n",
       "        vertical-align: top;\n",
       "    }\n",
       "\n",
       "    .dataframe thead th {\n",
       "        text-align: right;\n",
       "    }\n",
       "</style>\n",
       "<table border=\"1\" class=\"dataframe\">\n",
       "  <thead>\n",
       "    <tr style=\"text-align: right;\">\n",
       "      <th></th>\n",
       "      <th>station_id</th>\n",
       "      <th>lat</th>\n",
       "      <th>lon</th>\n",
       "      <th>TYPE</th>\n",
       "      <th>arrived_population</th>\n",
       "    </tr>\n",
       "  </thead>\n",
       "  <tbody>\n",
       "    <tr>\n",
       "      <th>0</th>\n",
       "      <td>34001</td>\n",
       "      <td>41.071929</td>\n",
       "      <td>28.699785</td>\n",
       "      <td>candidate</td>\n",
       "      <td>0</td>\n",
       "    </tr>\n",
       "    <tr>\n",
       "      <th>1</th>\n",
       "      <td>34002</td>\n",
       "      <td>41.002279</td>\n",
       "      <td>28.751837</td>\n",
       "      <td>candidate</td>\n",
       "      <td>0</td>\n",
       "    </tr>\n",
       "    <tr>\n",
       "      <th>2</th>\n",
       "      <td>34003</td>\n",
       "      <td>41.019758</td>\n",
       "      <td>28.876875</td>\n",
       "      <td>candidate</td>\n",
       "      <td>87336</td>\n",
       "    </tr>\n",
       "    <tr>\n",
       "      <th>3</th>\n",
       "      <td>34004</td>\n",
       "      <td>41.129600</td>\n",
       "      <td>28.987969</td>\n",
       "      <td>candidate</td>\n",
       "      <td>0</td>\n",
       "    </tr>\n",
       "    <tr>\n",
       "      <th>4</th>\n",
       "      <td>34005</td>\n",
       "      <td>41.028151</td>\n",
       "      <td>28.928297</td>\n",
       "      <td>candidate</td>\n",
       "      <td>25002</td>\n",
       "    </tr>\n",
       "  </tbody>\n",
       "</table>\n",
       "</div>"
      ],
      "text/plain": [
       "   station_id        lat        lon       TYPE  arrived_population\n",
       "0       34001  41.071929  28.699785  candidate                   0\n",
       "1       34002  41.002279  28.751837  candidate                   0\n",
       "2       34003  41.019758  28.876875  candidate               87336\n",
       "3       34004  41.129600  28.987969  candidate                   0\n",
       "4       34005  41.028151  28.928297  candidate               25002"
      ]
     },
     "execution_count": 27,
     "metadata": {},
     "output_type": "execute_result"
    }
   ],
   "source": [
    "all_stations_pop.head()"
   ]
  },
  {
   "cell_type": "code",
   "execution_count": 28,
   "id": "2641601e-e457-4659-9944-ea4a515c47c9",
   "metadata": {},
   "outputs": [
    {
     "data": {
      "text/html": [
       "<div>\n",
       "<style scoped>\n",
       "    .dataframe tbody tr th:only-of-type {\n",
       "        vertical-align: middle;\n",
       "    }\n",
       "\n",
       "    .dataframe tbody tr th {\n",
       "        vertical-align: top;\n",
       "    }\n",
       "\n",
       "    .dataframe thead th {\n",
       "        text-align: right;\n",
       "    }\n",
       "</style>\n",
       "<table border=\"1\" class=\"dataframe\">\n",
       "  <thead>\n",
       "    <tr style=\"text-align: right;\">\n",
       "      <th></th>\n",
       "      <th>station_id</th>\n",
       "      <th>lat</th>\n",
       "      <th>lon</th>\n",
       "      <th>arrived_population</th>\n",
       "    </tr>\n",
       "  </thead>\n",
       "  <tbody>\n",
       "    <tr>\n",
       "      <th>count</th>\n",
       "      <td>1343.000000</td>\n",
       "      <td>1343.000000</td>\n",
       "      <td>1343.000000</td>\n",
       "      <td>1343.000000</td>\n",
       "    </tr>\n",
       "    <tr>\n",
       "      <th>mean</th>\n",
       "      <td>34672.000000</td>\n",
       "      <td>41.050239</td>\n",
       "      <td>28.850960</td>\n",
       "      <td>48026.982874</td>\n",
       "    </tr>\n",
       "    <tr>\n",
       "      <th>std</th>\n",
       "      <td>387.835016</td>\n",
       "      <td>0.057192</td>\n",
       "      <td>0.153585</td>\n",
       "      <td>52108.822950</td>\n",
       "    </tr>\n",
       "    <tr>\n",
       "      <th>min</th>\n",
       "      <td>34001.000000</td>\n",
       "      <td>40.784064</td>\n",
       "      <td>28.581036</td>\n",
       "      <td>0.000000</td>\n",
       "    </tr>\n",
       "    <tr>\n",
       "      <th>25%</th>\n",
       "      <td>34336.500000</td>\n",
       "      <td>41.014542</td>\n",
       "      <td>28.732807</td>\n",
       "      <td>0.000000</td>\n",
       "    </tr>\n",
       "    <tr>\n",
       "      <th>50%</th>\n",
       "      <td>34672.000000</td>\n",
       "      <td>41.050494</td>\n",
       "      <td>28.852692</td>\n",
       "      <td>33562.000000</td>\n",
       "    </tr>\n",
       "    <tr>\n",
       "      <th>75%</th>\n",
       "      <td>35007.500000</td>\n",
       "      <td>41.090258</td>\n",
       "      <td>28.953130</td>\n",
       "      <td>77700.000000</td>\n",
       "    </tr>\n",
       "    <tr>\n",
       "      <th>max</th>\n",
       "      <td>35343.000000</td>\n",
       "      <td>41.256408</td>\n",
       "      <td>29.409966</td>\n",
       "      <td>294879.000000</td>\n",
       "    </tr>\n",
       "  </tbody>\n",
       "</table>\n",
       "</div>"
      ],
      "text/plain": [
       "         station_id          lat          lon  arrived_population\n",
       "count   1343.000000  1343.000000  1343.000000         1343.000000\n",
       "mean   34672.000000    41.050239    28.850960        48026.982874\n",
       "std      387.835016     0.057192     0.153585        52108.822950\n",
       "min    34001.000000    40.784064    28.581036            0.000000\n",
       "25%    34336.500000    41.014542    28.732807            0.000000\n",
       "50%    34672.000000    41.050494    28.852692        33562.000000\n",
       "75%    35007.500000    41.090258    28.953130        77700.000000\n",
       "max    35343.000000    41.256408    29.409966       294879.000000"
      ]
     },
     "execution_count": 28,
     "metadata": {},
     "output_type": "execute_result"
    }
   ],
   "source": [
    "all_stations_pop.describe()"
   ]
  },
  {
   "cell_type": "markdown",
   "id": "adca1e94-64a9-4d9c-ad1f-6276116d73fb",
   "metadata": {},
   "source": [
    "### Extracting Metro Lines and Stations\n",
    "We have not a extract metro lines and their stations dictionary. For further operation we need this dict ."
   ]
  },
  {
   "cell_type": "code",
   "execution_count": 29,
   "id": "b8cf2929-8665-4ff2-b488-719793133f54",
   "metadata": {},
   "outputs": [],
   "source": [
    "TOLERANCE = 0.0005\n",
    "\n",
    "project_dict = defaultdict(list)\n",
    "\n",
    "existing_stations = all_stations_pop[all_stations_pop['TYPE'] == 'existing']\n",
    "\n",
    "for idx, row in stations_df.iterrows():\n",
    "    proje_adi_full = row['PROJE_ADI']\n",
    "    lat = row['lat']\n",
    "    lon = row['lon']\n",
    "\n",
    "    match_hat = re.search(r'\\b(M\\d+[A-Z]?|T\\d+)\\b', proje_adi_full)\n",
    "    if not match_hat:\n",
    "        continue  \n",
    "    hat_kodu = match_hat.group()\n",
    "\n",
    "\n",
    "    match = existing_stations[\n",
    "        (existing_stations['lat'].sub(lat).abs() < TOLERANCE) &\n",
    "        (existing_stations['lon'].sub(lon).abs() < TOLERANCE)\n",
    "    ]\n",
    "\n",
    "    if not match.empty:\n",
    "        for station_id in match['station_id']:\n",
    "            project_dict[hat_kodu].append(station_id)\n",
    "\n",
    "project_dict = dict(project_dict)\n"
   ]
  },
  {
   "cell_type": "code",
   "execution_count": 30,
   "id": "539d117a-c42d-434e-a9ad-71c7ab76f83e",
   "metadata": {},
   "outputs": [
    {
     "name": "stdout",
     "output_type": "stream",
     "text": [
      "{'T1': [35001, 35017, 35025, 35027, 35031, 35032, 35033, 35055, 35056, 35065, 35066, 35071, 35075, 35094, 35095, 35097, 35101, 35107, 35125, 35126, 35127, 35128, 35131, 35135, 35150, 35151, 35154, 35185, 35193, 35196, 35209, 35224], 'M4': [35002, 35009, 35010, 35038, 35091, 35099, 35110, 35112, 35129, 35134, 35139, 35153, 35157, 35124, 35158, 35162, 35165, 35181, 35186, 35192, 35261, 35262, 35263, 35264, 35265, 35266, 35267, 35268, 35269, 35270], 'M1A': [35003, 35041, 35045, 35047, 35058, 35061, 35069, 35098, 35103, 35133, 35148, 35183, 35184, 35190, 35197, 35199, 35211, 35212, 35214], 'M9': [35004, 35084, 35187, 35160, 35230, 35250, 35283, 35284, 35285, 35286, 35287, 35288, 35326, 35289, 35114, 35290, 35291], 'T4': [35005, 35006, 35023, 35040, 35042, 35048, 35064, 35067, 35068, 35072, 35073, 35074, 35096, 35102, 35108, 35132, 35156, 35163, 35191, 35198, 35210, 35215], 'M5': [35012, 35014, 35079, 35111, 35115, 35118, 35141, 35144, 35147, 35167, 35171, 35173, 35175, 35176, 35177, 35200, 35217, 35254, 35255, 35256, 35257, 35258, 35259, 35260], 'M7': [35015, 35037, 35052, 35053, 35078, 35080, 35082, 35113, 35116, 35121, 35143, 35146, 35170, 35203, 35207, 35219, 35220, 35221, 35222, 35301, 35302, 35303, 35304, 35305, 35306, 35307, 35308, 35309, 35310, 35342], 'T3': [35016, 35029, 35046, 35062, 35088, 35092, 35093, 35130, 35180, 35213], 'T5': [35018, 35019, 35020, 35022, 35039, 35059, 35155, 35225, 35226, 35227, 35282, 35314, 35343], 'M2': [35024, 35216, 35030, 35044, 35060, 35063, 35089, 35090, 35104, 35105, 35109, 35149, 35164, 35166, 35182, 35194, 35024, 35216, 35223], 'M3': [35026, 35057, 35028, 35043, 35070, 35106, 35137, 35160, 35230, 35161, 35189, 35274, 35277, 35278, 35280, 35281, 35311, 35312, 35327, 35328, 35329, 35330], 'M6': [35049, 35140, 35159, 35188], 'M1B': [35026, 35057, 35136, 35138, 35152, 35195, 35275, 35276, 35279, 35313, 35316, 35319, 35321, 35322, 35288, 35326], 'M8': [35218, 35271, 35272, 35273, 35292, 35293, 35294, 35295, 35296, 35297, 35298, 35299, 35300], 'M11': [35240, 35241, 35242, 35243, 35244, 35245, 35246, 35247, 35315, 35318, 35320, 35323, 35324, 35325], 'M10': [35251, 35252], 'M12': [35331, 35332, 35333, 35334, 35335, 35336, 35337, 35338, 35339, 35340, 35341]}\n"
     ]
    }
   ],
   "source": [
    "print(project_dict)"
   ]
  },
  {
   "cell_type": "code",
   "execution_count": 31,
   "id": "684717de-2d29-4c95-b9ce-94615468e15d",
   "metadata": {},
   "outputs": [],
   "source": [
    "existing_stations_dict = {\n",
    " 'T1': [35001, 35017, 35025, 35027, 35031, 35032, 35033, 35055, 35056, 35065, 35066, 35071, 35075, 35094, 35095, 35097, 35101,  \n",
    "        35125, 35126, 35127, 35128, 35131, 35135, 35150, 35151, 35154, 35185, 35193, 35196, 35209, 35224, 35107], \n",
    " 'M4': [35002, 35009, 35010, 35038, 35091, 35099, 35110, 35112, 35129, 35134, 35139, 35153, 35157, 35124, 35158, 35162, 35165, 35181, \n",
    "        35186, 35192, 35261, 35262, 35263, 35264, 35265, 35266,  35268, 35269, 35270 , 35267], \n",
    " 'M1A': [35003, 35041, 35045, 35047, 35058, 35061, 35069, 35098, 35103, 35133,  35183, 35184, 35190, 35197, 35199, 35211, 35212, \n",
    "         35214 , 35148], \n",
    " 'M9': [35004, 35084, 35187, 35160, 35230, 35250, 35283, 35284, 35285, 35286, 35287, 35288, 35326, 35289, 35114,  35291 ,35290], \n",
    " 'T4': [35005, 35006, 35023, 35040, 35048, 35064, 35067, 35068, 35072, 35073, 35074, 35096, 35102, 35108, 35132, 35156, 35163, \n",
    "        35191, 35198, 35210, 35215 , 35042], \n",
    " 'M5': [35012, 35014, 35079, 35111, 35115, 35118, 35141, 35144, 35147, 35167, 35171, 35173, 35175, 35176, 35177, 35200, 35217, 35254, \n",
    "        35255, 35257, 35258, 35259, 35260 , 35256], \n",
    " 'M7': [35015, 35037, 35052, 35053, 35078, 35080, 35082, 35113, 35116, 35121, 35143, 35146, 35170, 35203, 35207, 35219, 35220, 35221, \n",
    "        35301, 35302, 35303, 35304, 35305, 35306, 35307, 35308, 35309, 35310, 35342 , 35222], \n",
    " 'T5': [35018, 35019, 35022, 35039, 35059, 35155, 35225, 35226, 35227, 35282, 35314, 35343 , 35020], \n",
    " 'M2': [35024, 35216, 35030, 35044, 35060, 35063, 35089, 35090,  35105, 35109, 35149, 35164, 35166, 35182, 35194, 35024, 35216,\n",
    "        35223 ,35104],\n",
    " 'M3': [35026, 35057, 35028, 35043, 35070, 35106, 35137, 35160, 35230, 35189, 35274, 35277, 35278, 35280, 35281, 35311, 35312,\n",
    "        35327, 35328, 35329, 35330 , 35161], \n",
    " 'M6': [35049, 35159, 35188 , 35140], \n",
    " 'M1B': [35026, 35057, 35136, 35138, 35152, 35195, 35275, 35276, 35279,  35316, 35319, 35321, 35322, 35288, 35326 , 35313], \n",
    " 'M8': [35218, 35271,  35273, 35292, 35293, 35294, 35295, 35296, 35297, 35298, 35299, 35300 , 35272], \n",
    " 'M11': [35240, 35241, 35242, 35243, 35244, 35245, 35246, 35247,  35318, 35320, 35323, 35324, 35325 , 35315], \n",
    " 'M12': [35331, 35332, 35333, 35334, 35335, 35336, 35337, 35338, 35339, 35340, 35341]\n",
    "    }"
   ]
  },
  {
   "cell_type": "markdown",
   "id": "b5d43a83-f129-4903-a852-9d9b8ab58970",
   "metadata": {},
   "source": [
    "we dont know last stations of metro lines. i added last station end of the metro line array."
   ]
  },
  {
   "cell_type": "code",
   "execution_count": 32,
   "id": "d0001452-2a42-4152-a63c-f2aa914bd89e",
   "metadata": {},
   "outputs": [],
   "source": [
    "m_old = visualize_chromosome(existing_stations_dict , all_stations)\n",
    "m_old.save(\"maps/initial_metro_with_color\")"
   ]
  },
  {
   "cell_type": "markdown",
   "id": "49673af6-b450-46fc-b2c3-25dbba221c51",
   "metadata": {},
   "source": [
    "we should calculate the connectivitiy dictionary . this dict shows which station could be connected whichs stations "
   ]
  },
  {
   "cell_type": "code",
   "execution_count": 33,
   "id": "6bf43f38-fdc1-4edb-8f7e-14b94c2f9463",
   "metadata": {},
   "outputs": [],
   "source": [
    "connectivity_dict = calculate_connectivity_dict(all_stations_pop)"
   ]
  },
  {
   "cell_type": "code",
   "execution_count": 34,
   "id": "c868dd17-c00c-402a-aa69-cb5d48d568b6",
   "metadata": {},
   "outputs": [
    {
     "name": "stdout",
     "output_type": "stream",
     "text": [
      "1340\n"
     ]
    }
   ],
   "source": [
    "print(len(connectivity_dict))"
   ]
  },
  {
   "cell_type": "markdown",
   "id": "139ddefa-2e9f-4af9-a429-c036b55faa23",
   "metadata": {},
   "source": [
    "# GA"
   ]
  },
  {
   "cell_type": "code",
   "execution_count": 35,
   "id": "5b22097a-1f00-4e85-a207-04b7f2edd184",
   "metadata": {},
   "outputs": [],
   "source": [
    "GeneticAlgorithm = GeneticMetroPlanner(\n",
    "    all_stations_df = all_stations_pop,\n",
    "    connectivity_dict = connectivity_dict,\n",
    "    existing_lines_dict = existing_stations_dict)"
   ]
  },
  {
   "cell_type": "code",
   "execution_count": 36,
   "id": "3201dc82-be83-4e5a-a735-a1bdbd9a8cdb",
   "metadata": {},
   "outputs": [
    {
     "name": "stdout",
     "output_type": "stream",
     "text": [
      "T1:  32 station\n",
      "M4:  30 station\n",
      "M1A:  19 station\n",
      "M9:  17 station\n",
      "T4:  22 station\n",
      "M5:  24 station\n",
      "M7:  30 station\n",
      "T5:  13 station\n",
      "M2:  19 station\n",
      "M3:  22 station\n",
      "M6:  4 station\n",
      "M1B:  16 station\n",
      "M8:  13 station\n",
      "M11:  14 station\n",
      "M12:  11 station\n"
     ]
    }
   ],
   "source": [
    "for line , stations in existing_stations_dict.items():\n",
    "    print(f\"{line}:  {len(stations)} station\")"
   ]
  },
  {
   "cell_type": "code",
   "execution_count": 37,
   "id": "3e299b51-d92b-4de7-82b8-0fc6683194d2",
   "metadata": {},
   "outputs": [
    {
     "name": "stdout",
     "output_type": "stream",
     "text": [
      "T1: 35 station\n",
      "M4: 30 station\n",
      "M1A: 19 station\n",
      "M9: 17 station\n",
      "T4: 24 station\n",
      "M5: 24 station\n",
      "M7: 33 station\n",
      "T5: 15 station\n",
      "M2: 22 station\n",
      "M3: 25 station\n",
      "M6: 6 station\n",
      "M1B: 19 station\n",
      "M8: 13 station\n",
      "M11: 17 station\n",
      "M12: 11 station\n"
     ]
    }
   ],
   "source": [
    "chromosome = GeneticAlgorithm.generate_chromosome()\n",
    "for line, stations in chromosome.items():\n",
    "    print(f\"{line}: {len(stations)} station\")"
   ]
  },
  {
   "cell_type": "code",
   "execution_count": 38,
   "id": "3bd9606a-3e40-4552-9888-dc1e312eff26",
   "metadata": {},
   "outputs": [
    {
     "name": "stdout",
     "output_type": "stream",
     "text": [
      "{'T1': [35001, 35017, 35025, 35027, 35031, 35032, 35033, 35055, 35056, 35065, 35066, 35071, 35075, 35094, 35095, 35097, 35101, 35125, 35126, 35127, 35128, 35131, 35135, 35150, 35151, 35154, 35185, 35193, 35196, 35209, 35224, 35107, 34003, 34533, 34451], 'M4': [35002, 35009, 35010, 35038, 35091, 35099, 35110, 35112, 35129, 35134, 35139, 35153, 35157, 35124, 35158, 35162, 35165, 35181, 35186, 35192, 35261, 35262, 35263, 35264, 35265, 35266, 35268, 35269, 35270, 35267], 'M1A': [35003, 35041, 35045, 35047, 35058, 35061, 35069, 35098, 35103, 35133, 35183, 35184, 35190, 35197, 35199, 35211, 35212, 35214, 35148], 'M9': [35004, 35084, 35187, 35160, 35230, 35250, 35283, 35284, 35285, 35286, 35287, 35288, 35326, 35289, 35114, 35291, 35290], 'T4': [35005, 35006, 35023, 35040, 35048, 35064, 35067, 35068, 35072, 35073, 35074, 35096, 35102, 35108, 35132, 35156, 35163, 35191, 35198, 35210, 35215, 35042, 34025, 34631], 'M5': [35012, 35014, 35079, 35111, 35115, 35118, 35141, 35144, 35147, 35167, 35171, 35173, 35175, 35176, 35177, 35200, 35217, 35254, 35255, 35257, 35258, 35259, 35260, 35256], 'M7': [35015, 35037, 35052, 35053, 35078, 35080, 35082, 35113, 35116, 35121, 35143, 35146, 35170, 35203, 35207, 35219, 35220, 35221, 35301, 35302, 35303, 35304, 35305, 35306, 35307, 35308, 35309, 35310, 35342, 35222, 34981, 34809, 34157], 'T5': [35018, 35019, 35022, 35039, 35059, 35155, 35225, 35226, 35227, 35282, 35314, 35343, 35020, 34699, 34848], 'M2': [35024, 35216, 35030, 35044, 35060, 35063, 35089, 35090, 35105, 35109, 35149, 35164, 35166, 35182, 35194, 35024, 35216, 35223, 35104, 34689, 34824, 34865], 'M3': [35026, 35057, 35028, 35043, 35070, 35106, 35137, 35160, 35230, 35189, 35274, 35277, 35278, 35280, 35281, 35311, 35312, 35327, 35328, 35329, 35330, 35161, 34381, 34608, 34422], 'M6': [35049, 35159, 35188, 35140, 34227, 34395], 'M1B': [35026, 35057, 35136, 35138, 35152, 35195, 35275, 35276, 35279, 35316, 35319, 35321, 35322, 35288, 35326, 35313, 34706, 34962, 34751], 'M8': [35218, 35271, 35273, 35292, 35293, 35294, 35295, 35296, 35297, 35298, 35299, 35300, 35272], 'M11': [35240, 35241, 35242, 35243, 35244, 35245, 35246, 35247, 35318, 35320, 35323, 35324, 35325, 35315, 34410, 34138, 34415], 'M12': [35331, 35332, 35333, 35334, 35335, 35336, 35337, 35338, 35339, 35340, 35341]}\n"
     ]
    }
   ],
   "source": [
    "print(chromosome)"
   ]
  },
  {
   "cell_type": "code",
   "execution_count": 39,
   "id": "89caf480-bcdd-498c-b62a-0dc850134edc",
   "metadata": {},
   "outputs": [],
   "source": [
    "m_n = visualize_chromosome(chromosome , all_stations)"
   ]
  },
  {
   "cell_type": "code",
   "execution_count": 40,
   "id": "7d0d147c-78eb-4d9c-8eba-be77fcbb4f9e",
   "metadata": {},
   "outputs": [],
   "source": [
    "m_n.save(\"maps/chromosome_map_first_iteration.html\")"
   ]
  },
  {
   "cell_type": "code",
   "execution_count": 41,
   "id": "afb723d8-baa0-45f0-812e-1c33e37fb823",
   "metadata": {},
   "outputs": [
    {
     "name": "stdout",
     "output_type": "stream",
     "text": [
      "18680350\n"
     ]
    }
   ],
   "source": [
    "print(GeneticAlgorithm.calculate_population_for_chromosome(chromosome))"
   ]
  },
  {
   "cell_type": "code",
   "execution_count": 42,
   "id": "76bfa6ab-89ee-4a2b-9091-e05f0e80c494",
   "metadata": {},
   "outputs": [],
   "source": [
    "GeneticAlgorithm.generate_initial_population()"
   ]
  },
  {
   "cell_type": "code",
   "execution_count": 43,
   "id": "5e0e68ee-2574-4ea7-adb2-d63eca52b769",
   "metadata": {},
   "outputs": [
    {
     "name": "stdout",
     "output_type": "stream",
     "text": [
      "10\n"
     ]
    }
   ],
   "source": [
    "print(len(GeneticAlgorithm.population))"
   ]
  },
  {
   "cell_type": "code",
   "execution_count": 44,
   "id": "336cc23c-6e2f-4260-912f-2c20daa2cf88",
   "metadata": {},
   "outputs": [],
   "source": [
    "GeneticAlgorithm.fitness_population()"
   ]
  },
  {
   "cell_type": "code",
   "execution_count": 45,
   "id": "de662cf5-34c9-4721-a4f6-78cb246311b2",
   "metadata": {},
   "outputs": [
    {
     "name": "stdout",
     "output_type": "stream",
     "text": [
      "[np.float64(4.206016044064019), np.float64(1.55768611541848), np.float64(2.18613447076957), np.float64(1.6666666666666665), np.float64(1.8674565658698736), np.float64(1.226875247061657), np.float64(0.6877009762044174), np.float64(2.666666666666667), np.float64(2.1191262590872877), np.float64(1.2946065731271963)]\n"
     ]
    }
   ],
   "source": [
    "print(GeneticAlgorithm.fitness_values)"
   ]
  },
  {
   "cell_type": "markdown",
   "id": "011bcef4-b85b-4fc6-81d3-01a8f91dc6b2",
   "metadata": {},
   "source": [
    "# Implementation"
   ]
  },
  {
   "cell_type": "code",
   "execution_count": 46,
   "id": "09b3b9d1-a53d-4a29-b547-1a1e9f89babf",
   "metadata": {},
   "outputs": [],
   "source": [
    "planner = GeneticMetroPlanner(\n",
    "    all_stations_df=all_stations,\n",
    "    connectivity_dict=connectivity_dict,\n",
    "    existing_lines_dict=existing_stations_dict,\n",
    "    mutation_rate=0.2,\n",
    "    generation_number=10,\n",
    "    child_number=20,\n",
    "    new_station_number=50,\n",
    "    max_per_station=5,\n",
    "    w2= 10\n",
    ")\n"
   ]
  },
  {
   "cell_type": "code",
   "execution_count": null,
   "id": "3a8e6f1f-08c4-4aa5-9474-f985503a32c8",
   "metadata": {},
   "outputs": [],
   "source": [
    "best_solution, best_score = planner.run()\n",
    "print(\"Best solution\")\n",
    "print(\"Arrived population\", best_score)\n",
    "\n",
    "for line, stations in best_solution.items():\n",
    "    print(f\"{line}: {stations}\")"
   ]
  },
  {
   "cell_type": "code",
   "execution_count": null,
   "id": "e956ecb2-f8ae-4777-b0d8-0732b2ef6694",
   "metadata": {},
   "outputs": [],
   "source": [
    "m_best = visualize_chromosome(best_solution , all_stations)"
   ]
  },
  {
   "cell_type": "code",
   "execution_count": null,
   "id": "15411d34-e081-48b3-96bc-7561ea9acb4b",
   "metadata": {},
   "outputs": [],
   "source": [
    "m_best.save('maps/best_metro_lines.html')"
   ]
  },
  {
   "cell_type": "code",
   "execution_count": null,
   "id": "d77bc61d-5d61-405a-8e4d-125987e43320",
   "metadata": {},
   "outputs": [],
   "source": []
  }
 ],
 "metadata": {
  "kernelspec": {
   "display_name": "Python (yzv202)",
   "language": "python",
   "name": "yzv202"
  },
  "language_info": {
   "codemirror_mode": {
    "name": "ipython",
    "version": 3
   },
   "file_extension": ".py",
   "mimetype": "text/x-python",
   "name": "python",
   "nbconvert_exporter": "python",
   "pygments_lexer": "ipython3",
   "version": "3.10.16"
  }
 },
 "nbformat": 4,
 "nbformat_minor": 5
}
