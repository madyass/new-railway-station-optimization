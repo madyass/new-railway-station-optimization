{
 "cells": [
  {
   "cell_type": "code",
   "execution_count": 1,
   "id": "9beb2dcc-0c27-418e-9dd4-877d64cf75e7",
   "metadata": {},
   "outputs": [],
   "source": [
    "%load_ext autoreload\n",
    "%autoreload 2"
   ]
  },
  {
   "cell_type": "code",
   "execution_count": 2,
   "id": "4a6c7451-e228-4e9b-a8cb-8d18a18125ce",
   "metadata": {},
   "outputs": [],
   "source": [
    "import pandas as pd\n",
    "import geopandas as gpd\n",
    "import numpy as np\n",
    "import matplotlib.pyplot as plt\n",
    "from collections import defaultdict\n",
    "import re\n",
    "import importlib\n",
    "from functions import *\n",
    "import random\n",
    "import folium\n",
    "from GA import GeneticMetroPlanner;\n",
    "from shapely.geometry import Polygon\n",
    "import ast\n",
    "import json"
   ]
  },
  {
   "cell_type": "markdown",
   "id": "0f4076e4-266c-46b7-9f6b-9b1d4d9864be",
   "metadata": {},
   "source": [
    "# 1) DATASETS and Data Cleaning"
   ]
  },
  {
   "cell_type": "markdown",
   "id": "e585a7fe-3b28-4214-9dd8-a1887a2f7a5e",
   "metadata": {},
   "source": [
    "## a) Population Dataset"
   ]
  },
  {
   "cell_type": "code",
   "execution_count": 3,
   "id": "e10961e7-79ec-46b1-a721-0f849a72f3c4",
   "metadata": {},
   "outputs": [],
   "source": [
    "population_path = \"/home/saydam/Desktop/2024-2025_itu/yzv202/project/github/datasets/population_with_coordinates.csv\""
   ]
  },
  {
   "cell_type": "code",
   "execution_count": 4,
   "id": "24b2f4ba-b05f-4de5-ac2c-b225c3f1a433",
   "metadata": {},
   "outputs": [],
   "source": [
    "raw_population_df = pd.read_csv(population_path , header=None, sep=\",\")\n",
    "raw_population_df = raw_population_df.dropna(how='all', axis=1)\n",
    "raw_population_df.columns = raw_population_df.iloc[0]\n",
    "raw_population_df = raw_population_df.drop(index=0).reset_index(drop=True)\n",
    "raw_population_df = raw_population_df.loc[:, raw_population_df.columns.notna()]\n",
    "raw_population_df[['latitude', 'longitude']] = raw_population_df['coordinate'].str.split(',', expand=True)\n",
    "raw_population_df['latitude'] = raw_population_df['latitude'].astype(float)\n",
    "raw_population_df['longitude'] = raw_population_df['longitude'].astype(float)\n",
    "raw_population_df['population'] = raw_population_df['population'].astype(int)\n",
    "population_df = raw_population_df[['population', 'neighborhood', 'township', 'neighborhood_code', 'latitude', 'longitude']]\n",
    "population_df = population_df.dropna()"
   ]
  },
  {
   "cell_type": "code",
   "execution_count": 5,
   "id": "2306f024-d184-4386-9b2f-cdb5c652c4e1",
   "metadata": {},
   "outputs": [],
   "source": [
    "population_df.rename(columns={'neighborhood_code' : 'neighborhood_id'} , inplace=True)"
   ]
  },
  {
   "cell_type": "code",
   "execution_count": 6,
   "id": "0cb539e3-451e-4d46-a4ea-9400e3f6feb9",
   "metadata": {},
   "outputs": [
    {
     "data": {
      "text/html": [
       "<div>\n",
       "<style scoped>\n",
       "    .dataframe tbody tr th:only-of-type {\n",
       "        vertical-align: middle;\n",
       "    }\n",
       "\n",
       "    .dataframe tbody tr th {\n",
       "        vertical-align: top;\n",
       "    }\n",
       "\n",
       "    .dataframe thead th {\n",
       "        text-align: right;\n",
       "    }\n",
       "</style>\n",
       "<table border=\"1\" class=\"dataframe\">\n",
       "  <thead>\n",
       "    <tr style=\"text-align: right;\">\n",
       "      <th></th>\n",
       "      <th>population</th>\n",
       "      <th>neighborhood</th>\n",
       "      <th>township</th>\n",
       "      <th>neighborhood_id</th>\n",
       "      <th>latitude</th>\n",
       "      <th>longitude</th>\n",
       "    </tr>\n",
       "  </thead>\n",
       "  <tbody>\n",
       "    <tr>\n",
       "      <th>0</th>\n",
       "      <td>4693</td>\n",
       "      <td>Adnan Menderes</td>\n",
       "      <td>Arnavutköy</td>\n",
       "      <td>40490</td>\n",
       "      <td>41.211179</td>\n",
       "      <td>28.700163</td>\n",
       "    </tr>\n",
       "    <tr>\n",
       "      <th>1</th>\n",
       "      <td>47828</td>\n",
       "      <td>Anadolu</td>\n",
       "      <td>Arnavutköy</td>\n",
       "      <td>99359</td>\n",
       "      <td>41.186036</td>\n",
       "      <td>28.749463</td>\n",
       "    </tr>\n",
       "    <tr>\n",
       "      <th>2</th>\n",
       "      <td>23116</td>\n",
       "      <td>Arnavutköy Merkez</td>\n",
       "      <td>Arnavutköy</td>\n",
       "      <td>40478</td>\n",
       "      <td>41.182546</td>\n",
       "      <td>28.737891</td>\n",
       "    </tr>\n",
       "    <tr>\n",
       "      <th>3</th>\n",
       "      <td>10566</td>\n",
       "      <td>Atatürk</td>\n",
       "      <td>Arnavutköy</td>\n",
       "      <td>40482</td>\n",
       "      <td>41.190149</td>\n",
       "      <td>28.760125</td>\n",
       "    </tr>\n",
       "    <tr>\n",
       "      <th>4</th>\n",
       "      <td>12829</td>\n",
       "      <td>Boğazköy İstiklal</td>\n",
       "      <td>Arnavutköy</td>\n",
       "      <td>40483</td>\n",
       "      <td>41.183488</td>\n",
       "      <td>28.768235</td>\n",
       "    </tr>\n",
       "  </tbody>\n",
       "</table>\n",
       "</div>"
      ],
      "text/plain": [
       "0  population       neighborhood    township neighborhood_id   latitude  \\\n",
       "0        4693     Adnan Menderes  Arnavutköy           40490  41.211179   \n",
       "1       47828            Anadolu  Arnavutköy           99359  41.186036   \n",
       "2       23116  Arnavutköy Merkez  Arnavutköy           40478  41.182546   \n",
       "3       10566            Atatürk  Arnavutköy           40482  41.190149   \n",
       "4       12829  Boğazköy İstiklal  Arnavutköy           40483  41.183488   \n",
       "\n",
       "0  longitude  \n",
       "0  28.700163  \n",
       "1  28.749463  \n",
       "2  28.737891  \n",
       "3  28.760125  \n",
       "4  28.768235  "
      ]
     },
     "execution_count": 6,
     "metadata": {},
     "output_type": "execute_result"
    }
   ],
   "source": [
    "population_df.head()"
   ]
  },
  {
   "cell_type": "code",
   "execution_count": 7,
   "id": "2407c608-0f26-492b-ad74-2b3d89f08ecc",
   "metadata": {},
   "outputs": [
    {
     "data": {
      "text/html": [
       "<div>\n",
       "<style scoped>\n",
       "    .dataframe tbody tr th:only-of-type {\n",
       "        vertical-align: middle;\n",
       "    }\n",
       "\n",
       "    .dataframe tbody tr th {\n",
       "        vertical-align: top;\n",
       "    }\n",
       "\n",
       "    .dataframe thead th {\n",
       "        text-align: right;\n",
       "    }\n",
       "</style>\n",
       "<table border=\"1\" class=\"dataframe\">\n",
       "  <thead>\n",
       "    <tr style=\"text-align: right;\">\n",
       "      <th></th>\n",
       "      <th>population</th>\n",
       "      <th>latitude</th>\n",
       "      <th>longitude</th>\n",
       "    </tr>\n",
       "  </thead>\n",
       "  <tbody>\n",
       "    <tr>\n",
       "      <th>count</th>\n",
       "      <td>708.000000</td>\n",
       "      <td>708.000000</td>\n",
       "      <td>708.000000</td>\n",
       "    </tr>\n",
       "    <tr>\n",
       "      <th>mean</th>\n",
       "      <td>21397.411017</td>\n",
       "      <td>41.029966</td>\n",
       "      <td>28.972329</td>\n",
       "    </tr>\n",
       "    <tr>\n",
       "      <th>std</th>\n",
       "      <td>15943.770157</td>\n",
       "      <td>0.071404</td>\n",
       "      <td>0.193073</td>\n",
       "    </tr>\n",
       "    <tr>\n",
       "      <th>min</th>\n",
       "      <td>2025.000000</td>\n",
       "      <td>40.817868</td>\n",
       "      <td>28.409171</td>\n",
       "    </tr>\n",
       "    <tr>\n",
       "      <th>25%</th>\n",
       "      <td>10279.250000</td>\n",
       "      <td>40.998081</td>\n",
       "      <td>28.854917</td>\n",
       "    </tr>\n",
       "    <tr>\n",
       "      <th>50%</th>\n",
       "      <td>17970.000000</td>\n",
       "      <td>41.028968</td>\n",
       "      <td>28.981120</td>\n",
       "    </tr>\n",
       "    <tr>\n",
       "      <th>75%</th>\n",
       "      <td>28527.750000</td>\n",
       "      <td>41.063456</td>\n",
       "      <td>29.109349</td>\n",
       "    </tr>\n",
       "    <tr>\n",
       "      <th>max</th>\n",
       "      <td>112367.000000</td>\n",
       "      <td>41.269994</td>\n",
       "      <td>29.386538</td>\n",
       "    </tr>\n",
       "  </tbody>\n",
       "</table>\n",
       "</div>"
      ],
      "text/plain": [
       "0         population    latitude   longitude\n",
       "count     708.000000  708.000000  708.000000\n",
       "mean    21397.411017   41.029966   28.972329\n",
       "std     15943.770157    0.071404    0.193073\n",
       "min      2025.000000   40.817868   28.409171\n",
       "25%     10279.250000   40.998081   28.854917\n",
       "50%     17970.000000   41.028968   28.981120\n",
       "75%     28527.750000   41.063456   29.109349\n",
       "max    112367.000000   41.269994   29.386538"
      ]
     },
     "execution_count": 7,
     "metadata": {},
     "output_type": "execute_result"
    }
   ],
   "source": [
    "population_df.describe()"
   ]
  },
  {
   "cell_type": "markdown",
   "id": "8f2d2f41-eb93-4b60-a6b2-ae698a2c56bb",
   "metadata": {},
   "source": [
    "## b) Metro Station Dataset"
   ]
  },
  {
   "cell_type": "code",
   "execution_count": 8,
   "id": "dcd03ff7-824b-4bea-8187-9204f7b617a7",
   "metadata": {},
   "outputs": [],
   "source": [
    "stations_gdf = gpd.read_file(\"/home/saydam/Desktop/2024-2025_itu/yzv202/project/github/datasets/station.geojson\")"
   ]
  },
  {
   "cell_type": "code",
   "execution_count": 9,
   "id": "c4a0ef04-1740-475b-ad03-e8c7569bd91f",
   "metadata": {},
   "outputs": [
    {
     "name": "stderr",
     "output_type": "stream",
     "text": [
      "/tmp/ipykernel_122626/509794445.py:4: SettingWithCopyWarning: \n",
      "A value is trying to be set on a copy of a slice from a DataFrame.\n",
      "Try using .loc[row_indexer,col_indexer] = value instead\n",
      "\n",
      "See the caveats in the documentation: https://pandas.pydata.org/pandas-docs/stable/user_guide/indexing.html#returning-a-view-versus-a-copy\n",
      "  stations_df[[\"lat\", \"lon\"]] = stations_df[[\"lon\", \"lat\"]]\n"
     ]
    }
   ],
   "source": [
    "stations_gdf[\"lat\"] = stations_gdf.geometry.x\n",
    "stations_gdf[\"lon\"] = stations_gdf.geometry.y\n",
    "stations_df = stations_gdf[[\"ISTASYON\", \"PROJE_ADI\", \"HAT_TURU\", \"lat\", \"lon\"]]\n",
    "stations_df[[\"lat\", \"lon\"]] = stations_df[[\"lon\", \"lat\"]]"
   ]
  },
  {
   "cell_type": "code",
   "execution_count": 10,
   "id": "c89e11cd-4129-4005-849e-b8556549d40e",
   "metadata": {},
   "outputs": [
    {
     "data": {
      "text/html": [
       "<div>\n",
       "<style scoped>\n",
       "    .dataframe tbody tr th:only-of-type {\n",
       "        vertical-align: middle;\n",
       "    }\n",
       "\n",
       "    .dataframe tbody tr th {\n",
       "        vertical-align: top;\n",
       "    }\n",
       "\n",
       "    .dataframe thead th {\n",
       "        text-align: right;\n",
       "    }\n",
       "</style>\n",
       "<table border=\"1\" class=\"dataframe\">\n",
       "  <thead>\n",
       "    <tr style=\"text-align: right;\">\n",
       "      <th></th>\n",
       "      <th>ISTASYON</th>\n",
       "      <th>PROJE_ADI</th>\n",
       "      <th>HAT_TURU</th>\n",
       "      <th>lat</th>\n",
       "      <th>lon</th>\n",
       "    </tr>\n",
       "  </thead>\n",
       "  <tbody>\n",
       "    <tr>\n",
       "      <th>0</th>\n",
       "      <td>Mehmet Akif</td>\n",
       "      <td>T1 Kabataş - Bağcılar Tramvay Hattı</td>\n",
       "      <td>Tramvay</td>\n",
       "      <td>41.005800</td>\n",
       "      <td>28.881681</td>\n",
       "    </tr>\n",
       "    <tr>\n",
       "      <th>1</th>\n",
       "      <td>Soğanlık</td>\n",
       "      <td>M4 Kadıköy - SGH Metro Hattı</td>\n",
       "      <td>Metro</td>\n",
       "      <td>40.913288</td>\n",
       "      <td>29.192398</td>\n",
       "    </tr>\n",
       "    <tr>\n",
       "      <th>2</th>\n",
       "      <td>Aksaray</td>\n",
       "      <td>M1A Yenikapı - Atatürk Havalimanı Metro Hattı</td>\n",
       "      <td>Metro</td>\n",
       "      <td>41.012008</td>\n",
       "      <td>28.948090</td>\n",
       "    </tr>\n",
       "    <tr>\n",
       "      <th>3</th>\n",
       "      <td>Olimpiyat</td>\n",
       "      <td>M9 Bahariye - Olimpiyat Metro Hattı</td>\n",
       "      <td>Metro</td>\n",
       "      <td>41.079466</td>\n",
       "      <td>28.767234</td>\n",
       "    </tr>\n",
       "    <tr>\n",
       "      <th>4</th>\n",
       "      <td>Sağmalcılar-Pancar Motor</td>\n",
       "      <td>T4 Topkapı - Mescid-i Selam Tramvay Hattı</td>\n",
       "      <td>Tramvay</td>\n",
       "      <td>41.057280</td>\n",
       "      <td>28.906940</td>\n",
       "    </tr>\n",
       "  </tbody>\n",
       "</table>\n",
       "</div>"
      ],
      "text/plain": [
       "                   ISTASYON                                      PROJE_ADI  \\\n",
       "0               Mehmet Akif            T1 Kabataş - Bağcılar Tramvay Hattı   \n",
       "1                  Soğanlık                   M4 Kadıköy - SGH Metro Hattı   \n",
       "2                   Aksaray  M1A Yenikapı - Atatürk Havalimanı Metro Hattı   \n",
       "3                 Olimpiyat            M9 Bahariye - Olimpiyat Metro Hattı   \n",
       "4  Sağmalcılar-Pancar Motor      T4 Topkapı - Mescid-i Selam Tramvay Hattı   \n",
       "\n",
       "  HAT_TURU        lat        lon  \n",
       "0  Tramvay  41.005800  28.881681  \n",
       "1    Metro  40.913288  29.192398  \n",
       "2    Metro  41.012008  28.948090  \n",
       "3    Metro  41.079466  28.767234  \n",
       "4  Tramvay  41.057280  28.906940  "
      ]
     },
     "execution_count": 10,
     "metadata": {},
     "output_type": "execute_result"
    }
   ],
   "source": [
    "stations_df.head()"
   ]
  },
  {
   "cell_type": "markdown",
   "id": "c4028330-e706-4278-a795-e750fdb2d359",
   "metadata": {},
   "source": [
    "# Visulation\n",
    "Initial maps"
   ]
  },
  {
   "cell_type": "code",
   "execution_count": 11,
   "id": "1c180130-9fe7-43c7-830f-5d1566462377",
   "metadata": {},
   "outputs": [],
   "source": [
    "istanbul_coords = [41.0082, 28.9784]\n",
    "\n",
    "\n",
    "map_istanbul = folium.Map(location=istanbul_coords, zoom_start=11, tiles='CartoDB positron')\n",
    "\n",
    "for index, row in stations_df.iterrows():\n",
    "    popup_text = f\"{row['ISTASYON']}<br>{row['PROJE_ADI']}\"\n",
    "    folium.Marker(\n",
    "        location=[row['lat'], row['lon']],\n",
    "        popup=popup_text,\n",
    "        icon=folium.Icon(color='blue' if row['HAT_TURU'] == 'Metro' else 'green', icon='train')\n",
    "    ).add_to(map_istanbul)\n",
    "\n",
    "map_istanbul.save(\"maps/initial_metro_lines.html\")"
   ]
  },
  {
   "cell_type": "code",
   "execution_count": 12,
   "id": "2e55b46d-7a80-4776-b7ec-58b23f1efdcf",
   "metadata": {},
   "outputs": [],
   "source": [
    "m = folium.Map(location=istanbul_coords, zoom_start=10 , tiles='CartoDB positron')\n",
    "\n",
    "\n",
    "for _, row in population_df.iterrows():\n",
    "    folium.Marker(\n",
    "        location=[row['latitude'], row['longitude']],\n",
    "        popup=f\"{row['neighborhood']} ({row['township']})\\nNüfus: {row['population']}\",\n",
    "        tooltip=row['neighborhood']\n",
    "    ).add_to(m)\n",
    "\n",
    "m.save(\"maps/neighborhood.html\")"
   ]
  },
  {
   "cell_type": "markdown",
   "id": "fea5bd76-9ca8-43b3-93b9-66f0b2260c22",
   "metadata": {},
   "source": [
    "# Calculating grids\n",
    "These are going to be candidate stations"
   ]
  },
  {
   "cell_type": "code",
   "execution_count": 13,
   "id": "22353c6c-135f-455e-bb0d-f6ab6b543411",
   "metadata": {},
   "outputs": [],
   "source": [
    "with open(\"coordinates/coordinates_europe.txt\" , \"r\") as file:\n",
    "    lines_eu = file.readlines()"
   ]
  },
  {
   "cell_type": "code",
   "execution_count": 14,
   "id": "661822de-e18b-4a82-a1b0-d8700e4e66a2",
   "metadata": {},
   "outputs": [],
   "source": [
    "coordinates_eu = []\n",
    "for line in lines_eu:\n",
    "    line = line.strip()\n",
    "    if not line:\n",
    "        continue  # boş satırı atla\n",
    "    try:\n",
    "        lon, lat = map(float, line.split(\",\"))\n",
    "        coordinates_eu.append((lon, lat))  # GeoJSON: [longitude, latitude]\n",
    "    except ValueError:\n",
    "        print(f\"Geçersiz satır atlandı: {line}\")"
   ]
  },
  {
   "cell_type": "code",
   "execution_count": 15,
   "id": "9c6464c9-50e5-41fc-9b25-f189e0dc641f",
   "metadata": {},
   "outputs": [
    {
     "name": "stdout",
     "output_type": "stream",
     "text": [
      "45\n"
     ]
    }
   ],
   "source": [
    "print(len(coordinates_eu))"
   ]
  },
  {
   "cell_type": "code",
   "execution_count": 16,
   "id": "635cfca5-162e-4ae7-b1a4-41f4cbd7729d",
   "metadata": {},
   "outputs": [],
   "source": [
    "if coordinates_eu[0] != coordinates_eu[-1]:\n",
    "    coordinates_eu.append(coordinates_eu[0])\n"
   ]
  },
  {
   "cell_type": "code",
   "execution_count": 17,
   "id": "b41a9169-d4af-4feb-8c97-afd8ee30d2d1",
   "metadata": {},
   "outputs": [],
   "source": [
    "polygon_eu = Polygon(coordinates_eu)"
   ]
  },
  {
   "cell_type": "code",
   "execution_count": 18,
   "id": "6cb3a260-f92d-4ada-b1d1-7951dfce91f6",
   "metadata": {},
   "outputs": [],
   "source": [
    "grid_eu = create_grid_for_polygon(polygon_eu)"
   ]
  },
  {
   "cell_type": "code",
   "execution_count": 19,
   "id": "0c2f2129-11a0-4569-93b6-54ac5aad39ce",
   "metadata": {},
   "outputs": [],
   "source": [
    "grid_df_eu = pd.DataFrame(grid_eu)"
   ]
  },
  {
   "cell_type": "code",
   "execution_count": 20,
   "id": "1f735f6d-6cb5-4383-973e-8895dc8dadcb",
   "metadata": {},
   "outputs": [
    {
     "data": {
      "text/html": [
       "<div>\n",
       "<style scoped>\n",
       "    .dataframe tbody tr th:only-of-type {\n",
       "        vertical-align: middle;\n",
       "    }\n",
       "\n",
       "    .dataframe tbody tr th {\n",
       "        vertical-align: top;\n",
       "    }\n",
       "\n",
       "    .dataframe thead th {\n",
       "        text-align: right;\n",
       "    }\n",
       "</style>\n",
       "<table border=\"1\" class=\"dataframe\">\n",
       "  <thead>\n",
       "    <tr style=\"text-align: right;\">\n",
       "      <th></th>\n",
       "      <th>station_id</th>\n",
       "      <th>lat</th>\n",
       "      <th>lon</th>\n",
       "    </tr>\n",
       "  </thead>\n",
       "  <tbody>\n",
       "    <tr>\n",
       "      <th>0</th>\n",
       "      <td>1</td>\n",
       "      <td>41.086525</td>\n",
       "      <td>28.911734</td>\n",
       "    </tr>\n",
       "    <tr>\n",
       "      <th>1</th>\n",
       "      <td>2</td>\n",
       "      <td>40.978832</td>\n",
       "      <td>28.635453</td>\n",
       "    </tr>\n",
       "    <tr>\n",
       "      <th>2</th>\n",
       "      <td>3</td>\n",
       "      <td>41.043488</td>\n",
       "      <td>28.756927</td>\n",
       "    </tr>\n",
       "    <tr>\n",
       "      <th>3</th>\n",
       "      <td>4</td>\n",
       "      <td>40.998649</td>\n",
       "      <td>28.858029</td>\n",
       "    </tr>\n",
       "    <tr>\n",
       "      <th>4</th>\n",
       "      <td>5</td>\n",
       "      <td>41.111508</td>\n",
       "      <td>28.806758</td>\n",
       "    </tr>\n",
       "  </tbody>\n",
       "</table>\n",
       "</div>"
      ],
      "text/plain": [
       "   station_id        lat        lon\n",
       "0           1  41.086525  28.911734\n",
       "1           2  40.978832  28.635453\n",
       "2           3  41.043488  28.756927\n",
       "3           4  40.998649  28.858029\n",
       "4           5  41.111508  28.806758"
      ]
     },
     "execution_count": 20,
     "metadata": {},
     "output_type": "execute_result"
    }
   ],
   "source": [
    "grid_df_eu.head()"
   ]
  },
  {
   "cell_type": "code",
   "execution_count": 21,
   "id": "05b55fb2-4cbe-41ea-90d3-fee28ca5a4fe",
   "metadata": {},
   "outputs": [],
   "source": [
    "m = folium.Map(location=istanbul_coords, zoom_start=10, tiles='CartoDB positron')\n",
    "\n",
    "for _, row in grid_df_eu.iterrows():\n",
    "    folium.Marker(\n",
    "        location=[row['lat'], row['lon']],  \n",
    "        popup=f\"station id: {row['station_id']}\"\n",
    "    ).add_to(m)\n",
    "\n",
    "m.save(\"maps/grid_eu.html\")"
   ]
  },
  {
   "cell_type": "code",
   "execution_count": 22,
   "id": "391e2127-6b1e-4344-81e6-987e875d3cb0",
   "metadata": {},
   "outputs": [],
   "source": [
    "with open(\"coordinates/coordinates_asia.txt\" , \"r\") as file:\n",
    "    lines_as = file.readlines()"
   ]
  },
  {
   "cell_type": "code",
   "execution_count": 23,
   "id": "8e9ec9e4-ea7d-4e97-b477-3f9e95ce5c5e",
   "metadata": {},
   "outputs": [],
   "source": [
    "coordinates_as = []\n",
    "for line in lines_as:\n",
    "    line = line.strip()\n",
    "    if not line:\n",
    "        continue  # boş satırı atla\n",
    "    try:\n",
    "        lon, lat = map(float, line.split(\",\"))\n",
    "        coordinates_as.append((lon, lat))  # GeoJSON: [longitude, latitude]\n",
    "    except ValueError:\n",
    "        print(f\"Geçersiz satır atlandı: {line}\")"
   ]
  },
  {
   "cell_type": "code",
   "execution_count": 24,
   "id": "47e87042-7190-4b72-b27b-d3bfc093d6fe",
   "metadata": {},
   "outputs": [
    {
     "name": "stdout",
     "output_type": "stream",
     "text": [
      "34\n"
     ]
    }
   ],
   "source": [
    "print(len(coordinates_as))"
   ]
  },
  {
   "cell_type": "code",
   "execution_count": 25,
   "id": "7d50c3ef-b270-4cfc-afa3-7aa2eecb5e97",
   "metadata": {},
   "outputs": [],
   "source": [
    "if coordinates_as[0] != coordinates_as[-1]:\n",
    "    coordinates_as.append(coordinates_as[0])"
   ]
  },
  {
   "cell_type": "code",
   "execution_count": 26,
   "id": "f1c0c59a-6539-463c-9105-d27e6fe3e70d",
   "metadata": {},
   "outputs": [],
   "source": [
    "polygon_as = Polygon(coordinates_as)"
   ]
  },
  {
   "cell_type": "code",
   "execution_count": 27,
   "id": "7060209f-426c-4d12-b13c-d08f879e5800",
   "metadata": {},
   "outputs": [],
   "source": [
    "grid_as = create_grid_for_polygon(polygon_as)"
   ]
  },
  {
   "cell_type": "code",
   "execution_count": 28,
   "id": "6a28b9e9-a92e-4f33-af02-e5080ce41dcb",
   "metadata": {},
   "outputs": [],
   "source": [
    "grid_df_as = pd.DataFrame(grid_as)"
   ]
  },
  {
   "cell_type": "code",
   "execution_count": 29,
   "id": "b0c28e25-5587-4f09-8674-d9951f4a31ee",
   "metadata": {},
   "outputs": [],
   "source": [
    "grid_df_as['station_id'] += 1000"
   ]
  },
  {
   "cell_type": "code",
   "execution_count": 30,
   "id": "015a3d77-21e2-473c-b720-52bf37d39eac",
   "metadata": {},
   "outputs": [
    {
     "data": {
      "text/html": [
       "<div>\n",
       "<style scoped>\n",
       "    .dataframe tbody tr th:only-of-type {\n",
       "        vertical-align: middle;\n",
       "    }\n",
       "\n",
       "    .dataframe tbody tr th {\n",
       "        vertical-align: top;\n",
       "    }\n",
       "\n",
       "    .dataframe thead th {\n",
       "        text-align: right;\n",
       "    }\n",
       "</style>\n",
       "<table border=\"1\" class=\"dataframe\">\n",
       "  <thead>\n",
       "    <tr style=\"text-align: right;\">\n",
       "      <th></th>\n",
       "      <th>station_id</th>\n",
       "      <th>lat</th>\n",
       "      <th>lon</th>\n",
       "    </tr>\n",
       "  </thead>\n",
       "  <tbody>\n",
       "    <tr>\n",
       "      <th>0</th>\n",
       "      <td>1001</td>\n",
       "      <td>41.005446</td>\n",
       "      <td>29.238085</td>\n",
       "    </tr>\n",
       "    <tr>\n",
       "      <th>1</th>\n",
       "      <td>1002</td>\n",
       "      <td>41.028116</td>\n",
       "      <td>29.187794</td>\n",
       "    </tr>\n",
       "    <tr>\n",
       "      <th>2</th>\n",
       "      <td>1003</td>\n",
       "      <td>40.990808</td>\n",
       "      <td>29.228939</td>\n",
       "    </tr>\n",
       "    <tr>\n",
       "      <th>3</th>\n",
       "      <td>1004</td>\n",
       "      <td>40.822102</td>\n",
       "      <td>29.285153</td>\n",
       "    </tr>\n",
       "    <tr>\n",
       "      <th>4</th>\n",
       "      <td>1005</td>\n",
       "      <td>40.902404</td>\n",
       "      <td>29.299563</td>\n",
       "    </tr>\n",
       "  </tbody>\n",
       "</table>\n",
       "</div>"
      ],
      "text/plain": [
       "   station_id        lat        lon\n",
       "0        1001  41.005446  29.238085\n",
       "1        1002  41.028116  29.187794\n",
       "2        1003  40.990808  29.228939\n",
       "3        1004  40.822102  29.285153\n",
       "4        1005  40.902404  29.299563"
      ]
     },
     "execution_count": 30,
     "metadata": {},
     "output_type": "execute_result"
    }
   ],
   "source": [
    "grid_df_as.head()"
   ]
  },
  {
   "cell_type": "code",
   "execution_count": 31,
   "id": "25ce4099-aff0-4f53-a9a6-fdf5f1ce10bc",
   "metadata": {},
   "outputs": [],
   "source": [
    "m = folium.Map(location=istanbul_coords, zoom_start=10, tiles='CartoDB positron')\n",
    "\n",
    "for _, row in grid_df_as.iterrows():\n",
    "    folium.Marker(\n",
    "        location=[row['lat'], row['lon']],  \n",
    "        popup=f\"station id: {row['station_id']}\"\n",
    "    ).add_to(m)\n",
    "\n",
    "m.save(\"maps/grid_as.html\")"
   ]
  },
  {
   "cell_type": "code",
   "execution_count": 42,
   "id": "fab1b457-43ad-4e8a-b3fd-24679cffb3d9",
   "metadata": {},
   "outputs": [],
   "source": [
    "grid_df = pd.concat([grid_df_eu , grid_df_as] , ignore_index=True)"
   ]
  },
  {
   "cell_type": "code",
   "execution_count": 43,
   "id": "e73a1878-ecac-4dbf-91bf-d79db30886a3",
   "metadata": {},
   "outputs": [],
   "source": [
    "m = folium.Map(location=istanbul_coords, zoom_start=10, tiles='CartoDB positron')\n",
    "\n",
    "for _, row in grid_df.iterrows():\n",
    "    folium.Marker(\n",
    "        location=[row['lat'], row['lon']],  \n",
    "        popup=f\"station id: {row['station_id']}\"\n",
    "    ).add_to(m)\n",
    "\n",
    "m.save(\"maps/grid_istanbul.html\")"
   ]
  },
  {
   "cell_type": "code",
   "execution_count": 44,
   "id": "8ba1e088-bca1-4934-accf-cba13475137a",
   "metadata": {},
   "outputs": [
    {
     "name": "stderr",
     "output_type": "stream",
     "text": [
      "/tmp/ipykernel_122626/4111902988.py:2: SettingWithCopyWarning: \n",
      "A value is trying to be set on a copy of a slice from a DataFrame.\n",
      "Try using .loc[row_indexer,col_indexer] = value instead\n",
      "\n",
      "See the caveats in the documentation: https://pandas.pydata.org/pandas-docs/stable/user_guide/indexing.html#returning-a-view-versus-a-copy\n",
      "  stations_df['TYPE'] = 'existing'\n"
     ]
    }
   ],
   "source": [
    "grid_df['TYPE'] = 'candidate'\n",
    "stations_df['TYPE'] = 'existing'"
   ]
  },
  {
   "cell_type": "code",
   "execution_count": 45,
   "id": "e4ab8278-bc78-40a2-8c45-4abe35ae480c",
   "metadata": {},
   "outputs": [
    {
     "data": {
      "text/html": [
       "<div>\n",
       "<style scoped>\n",
       "    .dataframe tbody tr th:only-of-type {\n",
       "        vertical-align: middle;\n",
       "    }\n",
       "\n",
       "    .dataframe tbody tr th {\n",
       "        vertical-align: top;\n",
       "    }\n",
       "\n",
       "    .dataframe thead th {\n",
       "        text-align: right;\n",
       "    }\n",
       "</style>\n",
       "<table border=\"1\" class=\"dataframe\">\n",
       "  <thead>\n",
       "    <tr style=\"text-align: right;\">\n",
       "      <th></th>\n",
       "      <th>ISTASYON</th>\n",
       "      <th>PROJE_ADI</th>\n",
       "      <th>HAT_TURU</th>\n",
       "      <th>lat</th>\n",
       "      <th>lon</th>\n",
       "      <th>TYPE</th>\n",
       "    </tr>\n",
       "  </thead>\n",
       "  <tbody>\n",
       "    <tr>\n",
       "      <th>0</th>\n",
       "      <td>Mehmet Akif</td>\n",
       "      <td>T1 Kabataş - Bağcılar Tramvay Hattı</td>\n",
       "      <td>Tramvay</td>\n",
       "      <td>41.005800</td>\n",
       "      <td>28.881681</td>\n",
       "      <td>existing</td>\n",
       "    </tr>\n",
       "    <tr>\n",
       "      <th>1</th>\n",
       "      <td>Soğanlık</td>\n",
       "      <td>M4 Kadıköy - SGH Metro Hattı</td>\n",
       "      <td>Metro</td>\n",
       "      <td>40.913288</td>\n",
       "      <td>29.192398</td>\n",
       "      <td>existing</td>\n",
       "    </tr>\n",
       "    <tr>\n",
       "      <th>2</th>\n",
       "      <td>Aksaray</td>\n",
       "      <td>M1A Yenikapı - Atatürk Havalimanı Metro Hattı</td>\n",
       "      <td>Metro</td>\n",
       "      <td>41.012008</td>\n",
       "      <td>28.948090</td>\n",
       "      <td>existing</td>\n",
       "    </tr>\n",
       "    <tr>\n",
       "      <th>3</th>\n",
       "      <td>Olimpiyat</td>\n",
       "      <td>M9 Bahariye - Olimpiyat Metro Hattı</td>\n",
       "      <td>Metro</td>\n",
       "      <td>41.079466</td>\n",
       "      <td>28.767234</td>\n",
       "      <td>existing</td>\n",
       "    </tr>\n",
       "    <tr>\n",
       "      <th>4</th>\n",
       "      <td>Sağmalcılar-Pancar Motor</td>\n",
       "      <td>T4 Topkapı - Mescid-i Selam Tramvay Hattı</td>\n",
       "      <td>Tramvay</td>\n",
       "      <td>41.057280</td>\n",
       "      <td>28.906940</td>\n",
       "      <td>existing</td>\n",
       "    </tr>\n",
       "  </tbody>\n",
       "</table>\n",
       "</div>"
      ],
      "text/plain": [
       "                   ISTASYON                                      PROJE_ADI  \\\n",
       "0               Mehmet Akif            T1 Kabataş - Bağcılar Tramvay Hattı   \n",
       "1                  Soğanlık                   M4 Kadıköy - SGH Metro Hattı   \n",
       "2                   Aksaray  M1A Yenikapı - Atatürk Havalimanı Metro Hattı   \n",
       "3                 Olimpiyat            M9 Bahariye - Olimpiyat Metro Hattı   \n",
       "4  Sağmalcılar-Pancar Motor      T4 Topkapı - Mescid-i Selam Tramvay Hattı   \n",
       "\n",
       "  HAT_TURU        lat        lon      TYPE  \n",
       "0  Tramvay  41.005800  28.881681  existing  \n",
       "1    Metro  40.913288  29.192398  existing  \n",
       "2    Metro  41.012008  28.948090  existing  \n",
       "3    Metro  41.079466  28.767234  existing  \n",
       "4  Tramvay  41.057280  28.906940  existing  "
      ]
     },
     "execution_count": 45,
     "metadata": {},
     "output_type": "execute_result"
    }
   ],
   "source": [
    "stations_df.head()"
   ]
  },
  {
   "cell_type": "code",
   "execution_count": 46,
   "id": "6f776998-f968-4c06-a7d3-8a6987d0268a",
   "metadata": {},
   "outputs": [
    {
     "data": {
      "text/html": [
       "<div>\n",
       "<style scoped>\n",
       "    .dataframe tbody tr th:only-of-type {\n",
       "        vertical-align: middle;\n",
       "    }\n",
       "\n",
       "    .dataframe tbody tr th {\n",
       "        vertical-align: top;\n",
       "    }\n",
       "\n",
       "    .dataframe thead th {\n",
       "        text-align: right;\n",
       "    }\n",
       "</style>\n",
       "<table border=\"1\" class=\"dataframe\">\n",
       "  <thead>\n",
       "    <tr style=\"text-align: right;\">\n",
       "      <th></th>\n",
       "      <th>station_id</th>\n",
       "      <th>lat</th>\n",
       "      <th>lon</th>\n",
       "      <th>TYPE</th>\n",
       "    </tr>\n",
       "  </thead>\n",
       "  <tbody>\n",
       "    <tr>\n",
       "      <th>0</th>\n",
       "      <td>1</td>\n",
       "      <td>41.086525</td>\n",
       "      <td>28.911734</td>\n",
       "      <td>candidate</td>\n",
       "    </tr>\n",
       "    <tr>\n",
       "      <th>1</th>\n",
       "      <td>2</td>\n",
       "      <td>40.978832</td>\n",
       "      <td>28.635453</td>\n",
       "      <td>candidate</td>\n",
       "    </tr>\n",
       "    <tr>\n",
       "      <th>2</th>\n",
       "      <td>3</td>\n",
       "      <td>41.043488</td>\n",
       "      <td>28.756927</td>\n",
       "      <td>candidate</td>\n",
       "    </tr>\n",
       "    <tr>\n",
       "      <th>3</th>\n",
       "      <td>4</td>\n",
       "      <td>40.998649</td>\n",
       "      <td>28.858029</td>\n",
       "      <td>candidate</td>\n",
       "    </tr>\n",
       "    <tr>\n",
       "      <th>4</th>\n",
       "      <td>5</td>\n",
       "      <td>41.111508</td>\n",
       "      <td>28.806758</td>\n",
       "      <td>candidate</td>\n",
       "    </tr>\n",
       "  </tbody>\n",
       "</table>\n",
       "</div>"
      ],
      "text/plain": [
       "   station_id        lat        lon       TYPE\n",
       "0           1  41.086525  28.911734  candidate\n",
       "1           2  40.978832  28.635453  candidate\n",
       "2           3  41.043488  28.756927  candidate\n",
       "3           4  40.998649  28.858029  candidate\n",
       "4           5  41.111508  28.806758  candidate"
      ]
     },
     "execution_count": 46,
     "metadata": {},
     "output_type": "execute_result"
    }
   ],
   "source": [
    "grid_df.head()"
   ]
  },
  {
   "cell_type": "code",
   "execution_count": 46,
   "id": "3e8c4985-55e6-465e-8e39-c9a435e3c7fb",
   "metadata": {},
   "outputs": [
    {
     "name": "stdout",
     "output_type": "stream",
     "text": [
      "station_id      int64\n",
      "lat           float64\n",
      "lon           float64\n",
      "TYPE           object\n",
      "dtype: object\n"
     ]
    }
   ],
   "source": [
    "print(grid_df.dtypes)"
   ]
  },
  {
   "cell_type": "code",
   "execution_count": 47,
   "id": "f6086330-c029-4101-80c8-54967199c486",
   "metadata": {},
   "outputs": [
    {
     "data": {
      "text/html": [
       "<div>\n",
       "<style scoped>\n",
       "    .dataframe tbody tr th:only-of-type {\n",
       "        vertical-align: middle;\n",
       "    }\n",
       "\n",
       "    .dataframe tbody tr th {\n",
       "        vertical-align: top;\n",
       "    }\n",
       "\n",
       "    .dataframe thead th {\n",
       "        text-align: right;\n",
       "    }\n",
       "</style>\n",
       "<table border=\"1\" class=\"dataframe\">\n",
       "  <thead>\n",
       "    <tr style=\"text-align: right;\">\n",
       "      <th></th>\n",
       "      <th>station_id</th>\n",
       "      <th>lat</th>\n",
       "      <th>lon</th>\n",
       "    </tr>\n",
       "  </thead>\n",
       "  <tbody>\n",
       "    <tr>\n",
       "      <th>count</th>\n",
       "      <td>2000.000000</td>\n",
       "      <td>2000.000000</td>\n",
       "      <td>2000.000000</td>\n",
       "    </tr>\n",
       "    <tr>\n",
       "      <th>mean</th>\n",
       "      <td>1000.500000</td>\n",
       "      <td>41.005671</td>\n",
       "      <td>29.007010</td>\n",
       "    </tr>\n",
       "    <tr>\n",
       "      <th>std</th>\n",
       "      <td>577.494589</td>\n",
       "      <td>0.071553</td>\n",
       "      <td>0.220327</td>\n",
       "    </tr>\n",
       "    <tr>\n",
       "      <th>min</th>\n",
       "      <td>1.000000</td>\n",
       "      <td>40.815976</td>\n",
       "      <td>28.514429</td>\n",
       "    </tr>\n",
       "    <tr>\n",
       "      <th>25%</th>\n",
       "      <td>500.750000</td>\n",
       "      <td>40.964383</td>\n",
       "      <td>28.825122</td>\n",
       "    </tr>\n",
       "    <tr>\n",
       "      <th>50%</th>\n",
       "      <td>1000.500000</td>\n",
       "      <td>41.008788</td>\n",
       "      <td>29.043360</td>\n",
       "    </tr>\n",
       "    <tr>\n",
       "      <th>75%</th>\n",
       "      <td>1500.250000</td>\n",
       "      <td>41.052774</td>\n",
       "      <td>29.196310</td>\n",
       "    </tr>\n",
       "    <tr>\n",
       "      <th>max</th>\n",
       "      <td>2000.000000</td>\n",
       "      <td>41.216205</td>\n",
       "      <td>29.387177</td>\n",
       "    </tr>\n",
       "  </tbody>\n",
       "</table>\n",
       "</div>"
      ],
      "text/plain": [
       "        station_id          lat          lon\n",
       "count  2000.000000  2000.000000  2000.000000\n",
       "mean   1000.500000    41.005671    29.007010\n",
       "std     577.494589     0.071553     0.220327\n",
       "min       1.000000    40.815976    28.514429\n",
       "25%     500.750000    40.964383    28.825122\n",
       "50%    1000.500000    41.008788    29.043360\n",
       "75%    1500.250000    41.052774    29.196310\n",
       "max    2000.000000    41.216205    29.387177"
      ]
     },
     "execution_count": 47,
     "metadata": {},
     "output_type": "execute_result"
    }
   ],
   "source": [
    "grid_df.describe()"
   ]
  },
  {
   "cell_type": "code",
   "execution_count": 47,
   "id": "384770fd-6cf9-4d5d-b5e6-eb9ada670c97",
   "metadata": {},
   "outputs": [],
   "source": [
    "all_stations = pd.concat([\n",
    "    grid_df[['station_id', 'lat', 'lon' , 'TYPE']],\n",
    "    stations_df[['ISTASYON', 'lat', 'lon' , 'TYPE']].rename(columns={'ISTASYON': 'station_id'})\n",
    "]).reset_index(drop=True)\n"
   ]
  },
  {
   "cell_type": "code",
   "execution_count": 48,
   "id": "6ad1a1de-ad60-4310-85bd-2961705fceac",
   "metadata": {},
   "outputs": [],
   "source": [
    "all_stations = all_stations.reset_index(drop=True)\n",
    "all_stations['station_id'] = all_stations.index + 34001"
   ]
  },
  {
   "cell_type": "code",
   "execution_count": 49,
   "id": "3e252f00-6805-4f01-8232-1d33108d30c3",
   "metadata": {},
   "outputs": [
    {
     "data": {
      "text/html": [
       "<div>\n",
       "<style scoped>\n",
       "    .dataframe tbody tr th:only-of-type {\n",
       "        vertical-align: middle;\n",
       "    }\n",
       "\n",
       "    .dataframe tbody tr th {\n",
       "        vertical-align: top;\n",
       "    }\n",
       "\n",
       "    .dataframe thead th {\n",
       "        text-align: right;\n",
       "    }\n",
       "</style>\n",
       "<table border=\"1\" class=\"dataframe\">\n",
       "  <thead>\n",
       "    <tr style=\"text-align: right;\">\n",
       "      <th></th>\n",
       "      <th>station_id</th>\n",
       "      <th>lat</th>\n",
       "      <th>lon</th>\n",
       "      <th>TYPE</th>\n",
       "    </tr>\n",
       "  </thead>\n",
       "  <tbody>\n",
       "    <tr>\n",
       "      <th>2338</th>\n",
       "      <td>36339</td>\n",
       "      <td>40.990637</td>\n",
       "      <td>29.104066</td>\n",
       "      <td>existing</td>\n",
       "    </tr>\n",
       "    <tr>\n",
       "      <th>2339</th>\n",
       "      <td>36340</td>\n",
       "      <td>40.978350</td>\n",
       "      <td>29.066290</td>\n",
       "      <td>existing</td>\n",
       "    </tr>\n",
       "    <tr>\n",
       "      <th>2340</th>\n",
       "      <td>36341</td>\n",
       "      <td>41.042728</td>\n",
       "      <td>29.098798</td>\n",
       "      <td>existing</td>\n",
       "    </tr>\n",
       "    <tr>\n",
       "      <th>2341</th>\n",
       "      <td>36342</td>\n",
       "      <td>41.056077</td>\n",
       "      <td>28.813604</td>\n",
       "      <td>existing</td>\n",
       "    </tr>\n",
       "    <tr>\n",
       "      <th>2342</th>\n",
       "      <td>36343</td>\n",
       "      <td>41.045517</td>\n",
       "      <td>28.937960</td>\n",
       "      <td>existing</td>\n",
       "    </tr>\n",
       "  </tbody>\n",
       "</table>\n",
       "</div>"
      ],
      "text/plain": [
       "      station_id        lat        lon      TYPE\n",
       "2338       36339  40.990637  29.104066  existing\n",
       "2339       36340  40.978350  29.066290  existing\n",
       "2340       36341  41.042728  29.098798  existing\n",
       "2341       36342  41.056077  28.813604  existing\n",
       "2342       36343  41.045517  28.937960  existing"
      ]
     },
     "execution_count": 49,
     "metadata": {},
     "output_type": "execute_result"
    }
   ],
   "source": [
    "all_stations.tail()"
   ]
  },
  {
   "cell_type": "code",
   "execution_count": 50,
   "id": "abde91fb-9e95-4088-a4a3-f38a659676c1",
   "metadata": {},
   "outputs": [],
   "source": [
    "all_stations_neighboor = calculate_arrived_neighborhood_per_station(all_stations , population_df)"
   ]
  },
  {
   "cell_type": "code",
   "execution_count": 51,
   "id": "c4f1ec4f-75cb-4584-aacb-4f7286996e6d",
   "metadata": {},
   "outputs": [
    {
     "data": {
      "text/html": [
       "<div>\n",
       "<style scoped>\n",
       "    .dataframe tbody tr th:only-of-type {\n",
       "        vertical-align: middle;\n",
       "    }\n",
       "\n",
       "    .dataframe tbody tr th {\n",
       "        vertical-align: top;\n",
       "    }\n",
       "\n",
       "    .dataframe thead th {\n",
       "        text-align: right;\n",
       "    }\n",
       "</style>\n",
       "<table border=\"1\" class=\"dataframe\">\n",
       "  <thead>\n",
       "    <tr style=\"text-align: right;\">\n",
       "      <th></th>\n",
       "      <th>station_id</th>\n",
       "      <th>lat</th>\n",
       "      <th>lon</th>\n",
       "      <th>TYPE</th>\n",
       "      <th>arrived_neighborhoods</th>\n",
       "    </tr>\n",
       "  </thead>\n",
       "  <tbody>\n",
       "    <tr>\n",
       "      <th>0</th>\n",
       "      <td>34001</td>\n",
       "      <td>41.086525</td>\n",
       "      <td>28.911734</td>\n",
       "      <td>candidate</td>\n",
       "      <td>{40461, 40462}</td>\n",
       "    </tr>\n",
       "    <tr>\n",
       "      <th>1</th>\n",
       "      <td>34002</td>\n",
       "      <td>40.978832</td>\n",
       "      <td>28.635453</td>\n",
       "      <td>candidate</td>\n",
       "      <td>{40873}</td>\n",
       "    </tr>\n",
       "    <tr>\n",
       "      <th>2</th>\n",
       "      <td>34003</td>\n",
       "      <td>41.043488</td>\n",
       "      <td>28.756927</td>\n",
       "      <td>candidate</td>\n",
       "      <td>{40599}</td>\n",
       "    </tr>\n",
       "    <tr>\n",
       "      <th>3</th>\n",
       "      <td>34004</td>\n",
       "      <td>40.998649</td>\n",
       "      <td>28.858029</td>\n",
       "      <td>candidate</td>\n",
       "      <td>{40177, 40179, 40178}</td>\n",
       "    </tr>\n",
       "    <tr>\n",
       "      <th>4</th>\n",
       "      <td>34005</td>\n",
       "      <td>41.111508</td>\n",
       "      <td>28.806758</td>\n",
       "      <td>candidate</td>\n",
       "      <td>{40357}</td>\n",
       "    </tr>\n",
       "  </tbody>\n",
       "</table>\n",
       "</div>"
      ],
      "text/plain": [
       "   station_id        lat        lon       TYPE  arrived_neighborhoods\n",
       "0       34001  41.086525  28.911734  candidate         {40461, 40462}\n",
       "1       34002  40.978832  28.635453  candidate                {40873}\n",
       "2       34003  41.043488  28.756927  candidate                {40599}\n",
       "3       34004  40.998649  28.858029  candidate  {40177, 40179, 40178}\n",
       "4       34005  41.111508  28.806758  candidate                {40357}"
      ]
     },
     "execution_count": 51,
     "metadata": {},
     "output_type": "execute_result"
    }
   ],
   "source": [
    "all_stations_neighboor.head()"
   ]
  },
  {
   "cell_type": "markdown",
   "id": "adca1e94-64a9-4d9c-ad1f-6276116d73fb",
   "metadata": {},
   "source": [
    "### Extracting Metro Lines and Stations\n",
    "We have not a extract metro lines and their stations dictionary. For further operation we need this dict ."
   ]
  },
  {
   "cell_type": "code",
   "execution_count": 54,
   "id": "b8cf2929-8665-4ff2-b488-719793133f54",
   "metadata": {},
   "outputs": [],
   "source": [
    "TOLERANCE = 0.0005\n",
    "\n",
    "project_dict = defaultdict(list)\n",
    "\n",
    "existing_stations = all_stations[all_stations['TYPE'] == 'existing']\n",
    "\n",
    "for idx, row in stations_df.iterrows():\n",
    "    proje_adi_full = row['PROJE_ADI']\n",
    "    lat = row['lat']\n",
    "    lon = row['lon']\n",
    "\n",
    "    match_hat = re.search(r'\\b(M\\d+[A-Z]?|T\\d+)\\b', proje_adi_full)\n",
    "    if not match_hat:\n",
    "        continue  \n",
    "    hat_kodu = match_hat.group()\n",
    "\n",
    "\n",
    "    match = existing_stations[\n",
    "        (existing_stations['lat'].sub(lat).abs() < TOLERANCE) &\n",
    "        (existing_stations['lon'].sub(lon).abs() < TOLERANCE)\n",
    "    ]\n",
    "\n",
    "    if not match.empty:\n",
    "        for station_id in match['station_id']:\n",
    "            project_dict[hat_kodu].append(station_id)\n",
    "\n",
    "project_dict = dict(project_dict)\n"
   ]
  },
  {
   "cell_type": "code",
   "execution_count": 55,
   "id": "539d117a-c42d-434e-a9ad-71c7ab76f83e",
   "metadata": {},
   "outputs": [
    {
     "name": "stdout",
     "output_type": "stream",
     "text": [
      "{'T1': [36001, 36017, 36025, 36027, 36031, 36032, 36033, 36055, 36056, 36065, 36066, 36071, 36075, 36094, 36095, 36097, 36101, 36107, 36125, 36126, 36127, 36128, 36131, 36135, 36150, 36151, 36154, 36185, 36193, 36196, 36209, 36224], 'M4': [36002, 36009, 36010, 36038, 36091, 36099, 36110, 36112, 36129, 36134, 36139, 36153, 36157, 36124, 36158, 36162, 36165, 36181, 36186, 36192, 36261, 36262, 36263, 36264, 36265, 36266, 36267, 36268, 36269, 36270], 'M1A': [36003, 36041, 36045, 36047, 36058, 36061, 36069, 36098, 36103, 36133, 36148, 36183, 36184, 36190, 36197, 36199, 36211, 36212, 36214], 'M9': [36004, 36084, 36187, 36160, 36230, 36250, 36283, 36284, 36285, 36286, 36287, 36288, 36326, 36289, 36114, 36290, 36291], 'T4': [36005, 36006, 36023, 36040, 36042, 36048, 36064, 36067, 36068, 36072, 36073, 36074, 36096, 36102, 36108, 36132, 36156, 36163, 36191, 36198, 36210, 36215], 'M5': [36012, 36014, 36079, 36111, 36115, 36118, 36141, 36144, 36147, 36167, 36171, 36173, 36175, 36176, 36177, 36200, 36217, 36254, 36255, 36256, 36257, 36258, 36259, 36260], 'M7': [36015, 36037, 36052, 36053, 36078, 36080, 36082, 36113, 36116, 36121, 36143, 36146, 36170, 36203, 36207, 36219, 36220, 36221, 36222, 36301, 36302, 36303, 36304, 36305, 36306, 36307, 36308, 36309, 36310, 36342], 'T3': [36016, 36029, 36046, 36062, 36088, 36092, 36093, 36130, 36180, 36213], 'T5': [36018, 36019, 36020, 36022, 36039, 36059, 36155, 36225, 36226, 36227, 36282, 36314, 36343], 'M2': [36024, 36216, 36030, 36044, 36060, 36063, 36089, 36090, 36104, 36105, 36109, 36149, 36164, 36166, 36182, 36194, 36024, 36216, 36223], 'M3': [36026, 36057, 36028, 36043, 36070, 36106, 36137, 36160, 36230, 36161, 36189, 36274, 36277, 36278, 36280, 36281, 36311, 36312, 36327, 36328, 36329, 36330], 'M6': [36049, 36140, 36159, 36188], 'M1B': [36026, 36057, 36136, 36138, 36152, 36195, 36275, 36276, 36279, 36313, 36316, 36319, 36321, 36322, 36288, 36326], 'M8': [36218, 36271, 36272, 36273, 36292, 36293, 36294, 36295, 36296, 36297, 36298, 36299, 36300], 'M11': [36240, 36241, 36242, 36243, 36244, 36245, 36246, 36247, 36315, 36318, 36320, 36323, 36324, 36325], 'M10': [36251, 36252], 'M12': [36331, 36332, 36333, 36334, 36335, 36336, 36337, 36338, 36339, 36340, 36341]}\n"
     ]
    }
   ],
   "source": [
    "print(project_dict)"
   ]
  },
  {
   "cell_type": "code",
   "execution_count": 63,
   "id": "684717de-2d29-4c95-b9ce-94615468e15d",
   "metadata": {},
   "outputs": [],
   "source": [
    "existing_stations_dict = {\n",
    "    'T1': [36001, 36017, 36025, 36027, 36031, 36032, 36033, 36055, 36056, 36065, 36066, 36071, 36075, 36094, 36095, 36097, 36101, 36125, \n",
    "           36126, 36127, 36128, 36131, 36135, 36150, 36151, 36154, 36185, 36193, 36196, 36209, 36224 , 36107], \n",
    "    'M4': [36002, 36009, 36010, 36038, 36091, 36099, 36110, 36112, 36129, 36134, 36139, 36153, 36157, 36124, 36158, 36162, 36165, 36181, 36186, \n",
    "           36192, 36261, 36262, 36263, 36264, 36265, 36266,  36268, 36269, 36270 , 36267], \n",
    "    'M1A': [36003, 36041, 36045, 36047, 36058, 36061, 36069, 36098, 36103, 36133, 36183, 36184, 36190, 36197, 36199, 36211, 36212, 36214 ,36148], \n",
    "    'M9': [36084, 36187, 36160, 36230, 36250, 36283, 36284, 36285, 36286, 36287, 36288, 36326, 36289, 36114, 36290, 36291 , 36004], \n",
    "    'T4': [36005, 36006,  36040, 36042, 36048, 36064, 36067, 36068, 36072, 36073, 36074, 36096, 36102, 36108, 36132, 36156, 36163, 36191, \n",
    "           36198, 36210, 36215 , 36023], \n",
    "    'M5': [36012, 36014, 36079, 36111, 36115, 36118, 36141, 36144, 36147, 36167, 36171, 36173, 36175, 36176, 36177, \n",
    "                                        36200, 36217, 36254, 36255, 36257, 36258, 36259, 36260 ,36256], \n",
    "    'M7': [36015, 36037, 36052, 36053, 36078, 36080, 36082, 36113, 36116, 36121, 36143, 36146, 36170, 36203, 36207, 36219, 36220, 36221,  \n",
    "           36301, 36302, 36303, 36304, 36305, 36306, 36307, 36308, 36309, 36310, 36342 , 36222], \n",
    "    'T5': [36018, 36019, 36022, 36039, 36059, 36155, 36225, 36226, 36227, 36282, 36314, 36343 , 36020],\n",
    "    'M2': [36024, 36216, 36030, 36044, 36060, 36063, 36089, 36090,  36105, 36109, 36149, 36164, 36166, 36182, 36194, 36024, 36216, 36223 , 36104], \n",
    "    'M3': [36026, 36057, 36028, 36043, 36070, 36106, 36137, 36160, 36230, 36189, 36274, 36277, 36278, 36280, 36281, 36311, 36312, 36327, \n",
    "           36328, 36329, 36330 , 36161],\n",
    "    'M6': [36049, 36159, 36188 , 36140],\n",
    "    'M1B': [36026, 36057, 36136, 36138, 36152, 36195, 36275, 36276, 36279, 36316, 36319, 36321, 36322, 36288, 36326 ,36313], \n",
    "    'M8': [36218, 36271, 36273, 36292, 36293, 36294, 36295, 36296, 36297, 36298, 36299, 36300 , 36272], \n",
    "    'M11': [36240, 36241, 36242, 36243, 36244, 36245, 36246, 36247, 36318, 36320, 36323, 36324, 36325 , 36315], \n",
    "    'M12': [36331, 36332, 36333, 36334, 36335, 36336, 36337, 36338, 36339, 36340, 36341]}"
   ]
  },
  {
   "cell_type": "markdown",
   "id": "b5d43a83-f129-4903-a852-9d9b8ab58970",
   "metadata": {},
   "source": [
    "we dont know last stations of metro lines. i added last station end of the metro line array."
   ]
  },
  {
   "cell_type": "code",
   "execution_count": 64,
   "id": "d0001452-2a42-4152-a63c-f2aa914bd89e",
   "metadata": {},
   "outputs": [],
   "source": [
    "m_old = visualize_chromosome(existing_stations_dict , all_stations)\n",
    "m_old.save(\"maps/initial_metro_with_color.html\")"
   ]
  },
  {
   "cell_type": "markdown",
   "id": "49673af6-b450-46fc-b2c3-25dbba221c51",
   "metadata": {},
   "source": [
    "we should calculate the connectivitiy dictionary . this dict shows which station could be connected whichs stations "
   ]
  },
  {
   "cell_type": "code",
   "execution_count": 65,
   "id": "6bf43f38-fdc1-4edb-8f7e-14b94c2f9463",
   "metadata": {},
   "outputs": [],
   "source": [
    "connectivity_dict = calculate_connectivity_dict(all_stations)"
   ]
  },
  {
   "cell_type": "code",
   "execution_count": 66,
   "id": "c868dd17-c00c-402a-aa69-cb5d48d568b6",
   "metadata": {},
   "outputs": [
    {
     "name": "stdout",
     "output_type": "stream",
     "text": [
      "2340\n"
     ]
    }
   ],
   "source": [
    "print(len(connectivity_dict))"
   ]
  },
  {
   "cell_type": "markdown",
   "id": "139ddefa-2e9f-4af9-a429-c036b55faa23",
   "metadata": {},
   "source": [
    "# GA"
   ]
  },
  {
   "cell_type": "code",
   "execution_count": 67,
   "id": "5b22097a-1f00-4e85-a207-04b7f2edd184",
   "metadata": {},
   "outputs": [],
   "source": [
    "GeneticAlgorithm = GeneticMetroPlanner(\n",
    "    all_stations_df = all_stations_neighboor,\n",
    "    neighborhood_df=population_df,\n",
    "    connectivity_dict = connectivity_dict,\n",
    "    existing_lines_dict = existing_stations_dict,\n",
    "    mutation_line_rate=1)"
   ]
  },
  {
   "cell_type": "code",
   "execution_count": 68,
   "id": "3201dc82-be83-4e5a-a735-a1bdbd9a8cdb",
   "metadata": {},
   "outputs": [
    {
     "name": "stdout",
     "output_type": "stream",
     "text": [
      "T1:  32 station\n",
      "M4:  30 station\n",
      "M1A:  19 station\n",
      "M9:  17 station\n",
      "T4:  22 station\n",
      "M5:  24 station\n",
      "M7:  30 station\n",
      "T5:  13 station\n",
      "M2:  19 station\n",
      "M3:  22 station\n",
      "M6:  4 station\n",
      "M1B:  16 station\n",
      "M8:  13 station\n",
      "M11:  14 station\n",
      "M12:  11 station\n"
     ]
    }
   ],
   "source": [
    "for line , stations in existing_stations_dict.items():\n",
    "    print(f\"{line}:  {len(stations)} station\")"
   ]
  },
  {
   "cell_type": "code",
   "execution_count": 69,
   "id": "3e299b51-d92b-4de7-82b8-0fc6683194d2",
   "metadata": {},
   "outputs": [
    {
     "name": "stdout",
     "output_type": "stream",
     "text": [
      "T1: 33 station\n",
      "M4: 31 station\n",
      "M1A: 19 station\n",
      "M9: 19 station\n",
      "T4: 24 station\n",
      "M5: 25 station\n",
      "M7: 32 station\n",
      "T5: 15 station\n",
      "M2: 21 station\n",
      "M3: 22 station\n",
      "M6: 4 station\n",
      "M1B: 16 station\n",
      "M8: 13 station\n",
      "M11: 15 station\n",
      "M12: 13 station\n"
     ]
    }
   ],
   "source": [
    "chromosome = GeneticAlgorithm.add_metro_stations(existing_stations_dict)\n",
    "for line, stations in chromosome.items():\n",
    "    print(f\"{line}: {len(stations)} station\")"
   ]
  },
  {
   "cell_type": "code",
   "execution_count": 70,
   "id": "3bd9606a-3e40-4552-9888-dc1e312eff26",
   "metadata": {},
   "outputs": [
    {
     "name": "stdout",
     "output_type": "stream",
     "text": [
      "{'T1': [36001, 36017, 36025, 36027, 36031, 36032, 36033, 36055, 36056, 36065, 36066, 36071, 36075, 36094, 36095, 36097, 36101, 36125, 36126, 36127, 36128, 36131, 36135, 36150, 36151, 36154, 36185, 36193, 36196, 36209, 36224, 36107, 34213], 'M4': [36002, 36009, 36010, 36038, 36091, 36099, 36110, 36112, 36129, 36134, 36139, 36153, 36157, 36124, 36158, 36162, 36165, 36181, 36186, 36192, 36261, 36262, 36263, 36264, 36265, 36266, 36268, 36269, 36270, 36267, 35029], 'M1A': [36003, 36041, 36045, 36047, 36058, 36061, 36069, 36098, 36103, 36133, 36183, 36184, 36190, 36197, 36199, 36211, 36212, 36214, 36148], 'M9': [36084, 36187, 36160, 36230, 36250, 36283, 36284, 36285, 36286, 36287, 36288, 36326, 36289, 36114, 36290, 36291, 36004, 34425, 34979], 'T4': [36005, 36006, 36040, 36042, 36048, 36064, 36067, 36068, 36072, 36073, 36074, 36096, 36102, 36108, 36132, 36156, 36163, 36191, 36198, 36210, 36215, 36023, 34947, 34524], 'M5': [36012, 36014, 36079, 36111, 36115, 36118, 36141, 36144, 36147, 36167, 36171, 36173, 36175, 36176, 36177, 36200, 36217, 36254, 36255, 36257, 36258, 36259, 36260, 36256, 35162], 'M7': [36015, 36037, 36052, 36053, 36078, 36080, 36082, 36113, 36116, 36121, 36143, 36146, 36170, 36203, 36207, 36219, 36220, 36221, 36301, 36302, 36303, 36304, 36305, 36306, 36307, 36308, 36309, 36310, 36342, 36222, 34032, 34225], 'T5': [36018, 36019, 36022, 36039, 36059, 36155, 36225, 36226, 36227, 36282, 36314, 36343, 36020, 34887, 34921], 'M2': [36024, 36216, 36030, 36044, 36060, 36063, 36089, 36090, 36105, 36109, 36149, 36164, 36166, 36182, 36194, 36024, 36216, 36223, 36104, 34390, 34068], 'M3': [36026, 36057, 36028, 36043, 36070, 36106, 36137, 36160, 36230, 36189, 36274, 36277, 36278, 36280, 36281, 36311, 36312, 36327, 36328, 36329, 36330, 36161], 'M6': [36049, 36159, 36188, 36140], 'M1B': [36026, 36057, 36136, 36138, 36152, 36195, 36275, 36276, 36279, 36316, 36319, 36321, 36322, 36288, 36326, 36313], 'M8': [36218, 36271, 36273, 36292, 36293, 36294, 36295, 36296, 36297, 36298, 36299, 36300, 36272], 'M11': [36240, 36241, 36242, 36243, 36244, 36245, 36246, 36247, 36318, 36320, 36323, 36324, 36325, 36315, 34348], 'M12': [36331, 36332, 36333, 36334, 36335, 36336, 36337, 36338, 36339, 36340, 36341, 35088, 35418]}\n"
     ]
    }
   ],
   "source": [
    "print(chromosome)"
   ]
  },
  {
   "cell_type": "code",
   "execution_count": 71,
   "id": "ebb07020-05d1-41e9-8fde-df8a3a2e5787",
   "metadata": {},
   "outputs": [
    {
     "name": "stdout",
     "output_type": "stream",
     "text": [
      "32\n"
     ]
    }
   ],
   "source": [
    "print(GeneticAlgorithm.calculate_transfer_number(chromosome))"
   ]
  },
  {
   "cell_type": "code",
   "execution_count": 72,
   "id": "89caf480-bcdd-498c-b62a-0dc850134edc",
   "metadata": {},
   "outputs": [],
   "source": [
    "m_n = visualize_chromosome(chromosome , all_stations)"
   ]
  },
  {
   "cell_type": "code",
   "execution_count": 73,
   "id": "7d0d147c-78eb-4d9c-8eba-be77fcbb4f9e",
   "metadata": {},
   "outputs": [],
   "source": [
    "m_n.save(\"maps/chromosome_map_first_iteration.html\")"
   ]
  },
  {
   "cell_type": "code",
   "execution_count": 74,
   "id": "afb723d8-baa0-45f0-812e-1c33e37fb823",
   "metadata": {},
   "outputs": [
    {
     "name": "stdout",
     "output_type": "stream",
     "text": [
      "8799089.000000004\n"
     ]
    }
   ],
   "source": [
    "print(GeneticAlgorithm.calculate_population_for_chromosome(chromosome))"
   ]
  },
  {
   "cell_type": "code",
   "execution_count": 75,
   "id": "76bfa6ab-89ee-4a2b-9091-e05f0e80c494",
   "metadata": {},
   "outputs": [],
   "source": [
    "GeneticAlgorithm.generate_initial_population()"
   ]
  },
  {
   "cell_type": "code",
   "execution_count": 76,
   "id": "5e0e68ee-2574-4ea7-adb2-d63eca52b769",
   "metadata": {},
   "outputs": [
    {
     "name": "stdout",
     "output_type": "stream",
     "text": [
      "10\n"
     ]
    }
   ],
   "source": [
    "print(len(GeneticAlgorithm.population))"
   ]
  },
  {
   "cell_type": "code",
   "execution_count": 77,
   "id": "336cc23c-6e2f-4260-912f-2c20daa2cf88",
   "metadata": {},
   "outputs": [],
   "source": [
    "GeneticAlgorithm.fitness()"
   ]
  },
  {
   "cell_type": "code",
   "execution_count": 78,
   "id": "de662cf5-34c9-4721-a4f6-78cb246311b2",
   "metadata": {},
   "outputs": [
    {
     "name": "stdout",
     "output_type": "stream",
     "text": [
      "[np.float64(3.9414330337389245), np.float64(3.7290355592311655), np.float64(3.7847858343595933), np.float64(3.7529775302709236), np.float64(3.9439457545351995), np.float64(3.840069073442893), np.float64(3.8015474507217095), np.float64(4.033935383068237), np.float64(3.798202198648962), np.float64(3.9684182752392303)]\n"
     ]
    }
   ],
   "source": [
    "print(GeneticAlgorithm.fitness_values)"
   ]
  },
  {
   "cell_type": "markdown",
   "id": "011bcef4-b85b-4fc6-81d3-01a8f91dc6b2",
   "metadata": {},
   "source": [
    "# Implementation"
   ]
  },
  {
   "cell_type": "code",
   "execution_count": 81,
   "id": "09b3b9d1-a53d-4a29-b547-1a1e9f89babf",
   "metadata": {},
   "outputs": [],
   "source": [
    "planner = GeneticMetroPlanner(\n",
    "    all_stations_df=all_stations_neighboor,\n",
    "    neighborhood_df=population_df,\n",
    "    connectivity_dict=connectivity_dict,\n",
    "    existing_lines_dict=existing_stations_dict,\n",
    "    mutation_rate=0.2,\n",
    "    mutation_line_rate=0.4,\n",
    "    generation_number=5,\n",
    "    child_number=10,\n",
    "    max_per_station=1,\n",
    "    w2= 1\n",
    ")\n"
   ]
  },
  {
   "cell_type": "code",
   "execution_count": 82,
   "id": "3a8e6f1f-08c4-4aa5-9474-f985503a32c8",
   "metadata": {},
   "outputs": [
    {
     "name": "stdout",
     "output_type": "stream",
     "text": [
      "Algorithm is started.\n",
      "Initial generation is created.\n",
      "Generation 1: Best fitness = 1.3560377236487595\n",
      "Population : 8464683.0\n",
      "Cost : 9\n",
      "Generation 2: Best fitness = 1.3421793562886875\n",
      "Population : 8684920.000000006\n",
      "Cost : 15\n",
      "Generation 3: Best fitness = 1.3671927345176433\n",
      "Population : 9016024.000000002\n",
      "Cost : 42\n",
      "Generation 4: Best fitness = 1.2645554843453735\n",
      "Population : 9061150.000000013\n",
      "Cost : 54\n",
      "Generation 5: Best fitness = 1.2166948617213058\n",
      "Population : 9265251.000000015\n",
      "Cost : 70\n"
     ]
    }
   ],
   "source": [
    "planner.run()"
   ]
  },
  {
   "cell_type": "code",
   "execution_count": 83,
   "id": "150dae41-9658-4438-be84-069e06aa6904",
   "metadata": {},
   "outputs": [
    {
     "name": "stdout",
     "output_type": "stream",
     "text": [
      "Population : 9265251.000000015\n",
      "Cost : 70\n",
      "The number of transfer stations : 44\n",
      "The number of initial metro lines : 15 | The number of result metro lines : 23 \n",
      "The number of initial metro stations : 278 | The number of result metro stations : 348\n"
     ]
    }
   ],
   "source": [
    "planner.details()"
   ]
  },
  {
   "cell_type": "code",
   "execution_count": 84,
   "id": "e956ecb2-f8ae-4777-b0d8-0732b2ef6694",
   "metadata": {},
   "outputs": [],
   "source": [
    "m_best = visualize_chromosome(planner.best_chromosome , all_stations)"
   ]
  },
  {
   "cell_type": "code",
   "execution_count": 85,
   "id": "15411d34-e081-48b3-96bc-7561ea9acb4b",
   "metadata": {},
   "outputs": [],
   "source": [
    "m_best.save('maps/best_metro_lines.html')"
   ]
  },
  {
   "cell_type": "code",
   "execution_count": null,
   "id": "d77bc61d-5d61-405a-8e4d-125987e43320",
   "metadata": {},
   "outputs": [],
   "source": []
  }
 ],
 "metadata": {
  "kernelspec": {
   "display_name": "Python (yzv202)",
   "language": "python",
   "name": "yzv202"
  },
  "language_info": {
   "codemirror_mode": {
    "name": "ipython",
    "version": 3
   },
   "file_extension": ".py",
   "mimetype": "text/x-python",
   "name": "python",
   "nbconvert_exporter": "python",
   "pygments_lexer": "ipython3",
   "version": "3.10.16"
  }
 },
 "nbformat": 4,
 "nbformat_minor": 5
}
