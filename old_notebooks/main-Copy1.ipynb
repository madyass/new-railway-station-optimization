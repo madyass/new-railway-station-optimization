{
 "cells": [
  {
   "cell_type": "code",
   "execution_count": 1,
   "id": "db8c4743-3f1a-4068-ae46-867dd37f4317",
   "metadata": {},
   "outputs": [],
   "source": [
    "%load_ext autoreload\n",
    "%autoreload 2"
   ]
  },
  {
   "cell_type": "code",
   "execution_count": 2,
   "id": "f6206760-503b-4ff2-adce-53584e6fd432",
   "metadata": {},
   "outputs": [],
   "source": [
    "import pandas as pd\n",
    "import geopandas as gpd\n",
    "import numpy as np\n",
    "import matplotlib.pyplot as plt\n",
    "from collections import defaultdict\n",
    "import re\n",
    "import importlib\n",
    "from functions import *\n",
    "import random\n",
    "import folium\n",
    "from GA import *\n",
    "from shapely.geometry import Point , Polygon"
   ]
  },
  {
   "cell_type": "markdown",
   "id": "88bf17a4-c59d-410e-873d-8574d1c42d3a",
   "metadata": {},
   "source": [
    "# 1) DATASETS and Data Cleaning"
   ]
  },
  {
   "cell_type": "markdown",
   "id": "33be689a-ce6c-45a3-a856-a87cb2fa04f9",
   "metadata": {},
   "source": [
    "## a) Population Dataset"
   ]
  },
  {
   "cell_type": "code",
   "execution_count": 3,
   "id": "c3e209cd-4b9b-496a-a577-b575a85528fa",
   "metadata": {},
   "outputs": [],
   "source": [
    "population_path = \"/home/saydam/Desktop/2024-2025_itu/yzv202/project/github/datasets/population_with_coordinates.csv\""
   ]
  },
  {
   "cell_type": "code",
   "execution_count": 4,
   "id": "bdc02f22-0f59-4a50-b07f-d255096d1fb8",
   "metadata": {},
   "outputs": [],
   "source": [
    "raw_population_df = pd.read_csv(population_path , header=None, sep=\",\")"
   ]
  },
  {
   "cell_type": "code",
   "execution_count": 5,
   "id": "7daec44b-9de1-4a61-8c65-2d606e245937",
   "metadata": {},
   "outputs": [],
   "source": [
    "raw_population_df = raw_population_df.dropna(how='all', axis=1)"
   ]
  },
  {
   "cell_type": "code",
   "execution_count": 6,
   "id": "7f62b637-14bd-4546-9560-0d92e0b68625",
   "metadata": {},
   "outputs": [],
   "source": [
    "raw_population_df.columns = raw_population_df.iloc[0]"
   ]
  },
  {
   "cell_type": "code",
   "execution_count": 7,
   "id": "b8d1d3d7-afb9-436b-9c33-a448374a7ce3",
   "metadata": {},
   "outputs": [],
   "source": [
    "raw_population_df = raw_population_df.drop(index=0).reset_index(drop=True)\n",
    "raw_population_df = raw_population_df.loc[:, raw_population_df.columns.notna()]"
   ]
  },
  {
   "cell_type": "code",
   "execution_count": 8,
   "id": "0cc87b6b-9aef-4269-bc8b-b0a5aa38abe5",
   "metadata": {},
   "outputs": [],
   "source": [
    "raw_population_df[['latitude', 'longitude']] = raw_population_df['coordinate'].str.split(',', expand=True)"
   ]
  },
  {
   "cell_type": "code",
   "execution_count": 9,
   "id": "8ab8cf2c-b712-409f-a7ff-2d346476409b",
   "metadata": {},
   "outputs": [],
   "source": [
    "raw_population_df['latitude'] = raw_population_df['latitude'].astype(float)\n",
    "raw_population_df['longitude'] = raw_population_df['longitude'].astype(float)\n",
    "raw_population_df['population'] = raw_population_df['population'].astype(int)"
   ]
  },
  {
   "cell_type": "code",
   "execution_count": 10,
   "id": "668be555-486f-42da-85fb-ec8aaa11797a",
   "metadata": {},
   "outputs": [],
   "source": [
    "population_df = raw_population_df[['population', 'neighborhood', 'township', 'neighborhood_code', 'latitude', 'longitude']]"
   ]
  },
  {
   "cell_type": "code",
   "execution_count": 11,
   "id": "d8ea3376-50f4-4868-9585-d7e15bf6eb55",
   "metadata": {},
   "outputs": [],
   "source": [
    "population_df = population_df.dropna()"
   ]
  },
  {
   "cell_type": "code",
   "execution_count": 12,
   "id": "46627ca6-3f37-4055-962f-a4a650aaeed0",
   "metadata": {},
   "outputs": [
    {
     "data": {
      "text/html": [
       "<div>\n",
       "<style scoped>\n",
       "    .dataframe tbody tr th:only-of-type {\n",
       "        vertical-align: middle;\n",
       "    }\n",
       "\n",
       "    .dataframe tbody tr th {\n",
       "        vertical-align: top;\n",
       "    }\n",
       "\n",
       "    .dataframe thead th {\n",
       "        text-align: right;\n",
       "    }\n",
       "</style>\n",
       "<table border=\"1\" class=\"dataframe\">\n",
       "  <thead>\n",
       "    <tr style=\"text-align: right;\">\n",
       "      <th></th>\n",
       "      <th>population</th>\n",
       "      <th>neighborhood</th>\n",
       "      <th>township</th>\n",
       "      <th>neighborhood_code</th>\n",
       "      <th>latitude</th>\n",
       "      <th>longitude</th>\n",
       "    </tr>\n",
       "  </thead>\n",
       "  <tbody>\n",
       "    <tr>\n",
       "      <th>0</th>\n",
       "      <td>4693</td>\n",
       "      <td>Adnan Menderes</td>\n",
       "      <td>Arnavutköy</td>\n",
       "      <td>40490</td>\n",
       "      <td>41.211179</td>\n",
       "      <td>28.700163</td>\n",
       "    </tr>\n",
       "    <tr>\n",
       "      <th>1</th>\n",
       "      <td>47828</td>\n",
       "      <td>Anadolu</td>\n",
       "      <td>Arnavutköy</td>\n",
       "      <td>99359</td>\n",
       "      <td>41.186036</td>\n",
       "      <td>28.749463</td>\n",
       "    </tr>\n",
       "    <tr>\n",
       "      <th>2</th>\n",
       "      <td>23116</td>\n",
       "      <td>Arnavutköy Merkez</td>\n",
       "      <td>Arnavutköy</td>\n",
       "      <td>40478</td>\n",
       "      <td>41.182546</td>\n",
       "      <td>28.737891</td>\n",
       "    </tr>\n",
       "    <tr>\n",
       "      <th>3</th>\n",
       "      <td>10566</td>\n",
       "      <td>Atatürk</td>\n",
       "      <td>Arnavutköy</td>\n",
       "      <td>40482</td>\n",
       "      <td>41.190149</td>\n",
       "      <td>28.760125</td>\n",
       "    </tr>\n",
       "    <tr>\n",
       "      <th>4</th>\n",
       "      <td>12829</td>\n",
       "      <td>Boğazköy İstiklal</td>\n",
       "      <td>Arnavutköy</td>\n",
       "      <td>40483</td>\n",
       "      <td>41.183488</td>\n",
       "      <td>28.768235</td>\n",
       "    </tr>\n",
       "  </tbody>\n",
       "</table>\n",
       "</div>"
      ],
      "text/plain": [
       "0  population       neighborhood    township neighborhood_code   latitude  \\\n",
       "0        4693     Adnan Menderes  Arnavutköy             40490  41.211179   \n",
       "1       47828            Anadolu  Arnavutköy             99359  41.186036   \n",
       "2       23116  Arnavutköy Merkez  Arnavutköy             40478  41.182546   \n",
       "3       10566            Atatürk  Arnavutköy             40482  41.190149   \n",
       "4       12829  Boğazköy İstiklal  Arnavutköy             40483  41.183488   \n",
       "\n",
       "0  longitude  \n",
       "0  28.700163  \n",
       "1  28.749463  \n",
       "2  28.737891  \n",
       "3  28.760125  \n",
       "4  28.768235  "
      ]
     },
     "execution_count": 12,
     "metadata": {},
     "output_type": "execute_result"
    }
   ],
   "source": [
    "population_df.head()"
   ]
  },
  {
   "cell_type": "code",
   "execution_count": 13,
   "id": "281dfbce-2c7e-4edc-a427-4bf31c9e4c73",
   "metadata": {},
   "outputs": [
    {
     "data": {
      "text/html": [
       "<div>\n",
       "<style scoped>\n",
       "    .dataframe tbody tr th:only-of-type {\n",
       "        vertical-align: middle;\n",
       "    }\n",
       "\n",
       "    .dataframe tbody tr th {\n",
       "        vertical-align: top;\n",
       "    }\n",
       "\n",
       "    .dataframe thead th {\n",
       "        text-align: right;\n",
       "    }\n",
       "</style>\n",
       "<table border=\"1\" class=\"dataframe\">\n",
       "  <thead>\n",
       "    <tr style=\"text-align: right;\">\n",
       "      <th></th>\n",
       "      <th>population</th>\n",
       "      <th>latitude</th>\n",
       "      <th>longitude</th>\n",
       "    </tr>\n",
       "  </thead>\n",
       "  <tbody>\n",
       "    <tr>\n",
       "      <th>count</th>\n",
       "      <td>708.000000</td>\n",
       "      <td>708.000000</td>\n",
       "      <td>708.000000</td>\n",
       "    </tr>\n",
       "    <tr>\n",
       "      <th>mean</th>\n",
       "      <td>21397.411017</td>\n",
       "      <td>41.029966</td>\n",
       "      <td>28.972329</td>\n",
       "    </tr>\n",
       "    <tr>\n",
       "      <th>std</th>\n",
       "      <td>15943.770157</td>\n",
       "      <td>0.071404</td>\n",
       "      <td>0.193073</td>\n",
       "    </tr>\n",
       "    <tr>\n",
       "      <th>min</th>\n",
       "      <td>2025.000000</td>\n",
       "      <td>40.817868</td>\n",
       "      <td>28.409171</td>\n",
       "    </tr>\n",
       "    <tr>\n",
       "      <th>25%</th>\n",
       "      <td>10279.250000</td>\n",
       "      <td>40.998081</td>\n",
       "      <td>28.854917</td>\n",
       "    </tr>\n",
       "    <tr>\n",
       "      <th>50%</th>\n",
       "      <td>17970.000000</td>\n",
       "      <td>41.028968</td>\n",
       "      <td>28.981120</td>\n",
       "    </tr>\n",
       "    <tr>\n",
       "      <th>75%</th>\n",
       "      <td>28527.750000</td>\n",
       "      <td>41.063456</td>\n",
       "      <td>29.109349</td>\n",
       "    </tr>\n",
       "    <tr>\n",
       "      <th>max</th>\n",
       "      <td>112367.000000</td>\n",
       "      <td>41.269994</td>\n",
       "      <td>29.386538</td>\n",
       "    </tr>\n",
       "  </tbody>\n",
       "</table>\n",
       "</div>"
      ],
      "text/plain": [
       "0         population    latitude   longitude\n",
       "count     708.000000  708.000000  708.000000\n",
       "mean    21397.411017   41.029966   28.972329\n",
       "std     15943.770157    0.071404    0.193073\n",
       "min      2025.000000   40.817868   28.409171\n",
       "25%     10279.250000   40.998081   28.854917\n",
       "50%     17970.000000   41.028968   28.981120\n",
       "75%     28527.750000   41.063456   29.109349\n",
       "max    112367.000000   41.269994   29.386538"
      ]
     },
     "execution_count": 13,
     "metadata": {},
     "output_type": "execute_result"
    }
   ],
   "source": [
    "population_df.describe()"
   ]
  },
  {
   "cell_type": "markdown",
   "id": "e0aebe6c-587d-4ca4-8204-65a4a933bac1",
   "metadata": {},
   "source": [
    "## b) Metro Station Dataset"
   ]
  },
  {
   "cell_type": "code",
   "execution_count": 14,
   "id": "0fee65ce-853c-418d-9d05-429e2c188433",
   "metadata": {},
   "outputs": [],
   "source": [
    "stations_gdf = gpd.read_file(\"/home/saydam/Desktop/2024-2025_itu/yzv202/project/github/datasets/station.geojson\")"
   ]
  },
  {
   "cell_type": "code",
   "execution_count": 15,
   "id": "5d65f3a6-a37c-4487-aff5-f297220f38f5",
   "metadata": {},
   "outputs": [
    {
     "name": "stdout",
     "output_type": "stream",
     "text": [
      "                   ISTASYON                                      PROJE_ADI  \\\n",
      "0               Mehmet Akif            T1 Kabataş - Bağcılar Tramvay Hattı   \n",
      "1                  Soğanlık                   M4 Kadıköy - SGH Metro Hattı   \n",
      "2                   Aksaray  M1A Yenikapı - Atatürk Havalimanı Metro Hattı   \n",
      "3                 Olimpiyat            M9 Bahariye - Olimpiyat Metro Hattı   \n",
      "4  Sağmalcılar-Pancar Motor      T4 Topkapı - Mescid-i Selam Tramvay Hattı   \n",
      "\n",
      "               PROJE_ASAMA HAT_TURU                                  MUDURLUK  \\\n",
      "0  Mevcut Hattaki İstasyon  Tramvay   Avrupa Yakası Raylı Sistemler Müdürlüğü   \n",
      "1  Mevcut Hattaki İstasyon    Metro  Anadolu Yakası Raylı Sistemler Müdürlüğü   \n",
      "2  Mevcut Hattaki İstasyon    Metro   Avrupa Yakası Raylı Sistemler Müdürlüğü   \n",
      "3  Mevcut Hattaki İstasyon    Metro   Avrupa Yakası Raylı Sistemler Müdürlüğü   \n",
      "4  Mevcut Hattaki İstasyon  Tramvay   Avrupa Yakası Raylı Sistemler Müdürlüğü   \n",
      "\n",
      "                    geometry  \n",
      "0   POINT (28.88168 41.0058)  \n",
      "1   POINT (29.1924 40.91329)  \n",
      "2  POINT (28.94809 41.01201)  \n",
      "3  POINT (28.76723 41.07947)  \n",
      "4  POINT (28.90694 41.05728)  \n"
     ]
    }
   ],
   "source": [
    "print(stations_gdf.head())"
   ]
  },
  {
   "cell_type": "code",
   "execution_count": 16,
   "id": "ca2cdf3e-cf38-4cd4-91a2-56e4d3124c87",
   "metadata": {},
   "outputs": [],
   "source": [
    "stations_gdf[\"lat\"] = stations_gdf.geometry.x\n",
    "stations_gdf[\"lon\"] = stations_gdf.geometry.y"
   ]
  },
  {
   "cell_type": "code",
   "execution_count": 17,
   "id": "5bab7550-8fc3-479f-b43c-9bcda350e1c4",
   "metadata": {},
   "outputs": [],
   "source": [
    "stations_df = stations_gdf[[\"ISTASYON\", \"PROJE_ADI\", \"HAT_TURU\", \"lat\", \"lon\"]]"
   ]
  },
  {
   "cell_type": "code",
   "execution_count": 18,
   "id": "18c9e8bc-0d9b-4af7-8bc2-66536786cd80",
   "metadata": {},
   "outputs": [
    {
     "name": "stderr",
     "output_type": "stream",
     "text": [
      "/tmp/ipykernel_86639/3141347488.py:1: SettingWithCopyWarning: \n",
      "A value is trying to be set on a copy of a slice from a DataFrame.\n",
      "Try using .loc[row_indexer,col_indexer] = value instead\n",
      "\n",
      "See the caveats in the documentation: https://pandas.pydata.org/pandas-docs/stable/user_guide/indexing.html#returning-a-view-versus-a-copy\n",
      "  stations_df[[\"lat\", \"lon\"]] = stations_df[[\"lon\", \"lat\"]]\n"
     ]
    }
   ],
   "source": [
    "stations_df[[\"lat\", \"lon\"]] = stations_df[[\"lon\", \"lat\"]]"
   ]
  },
  {
   "cell_type": "code",
   "execution_count": 19,
   "id": "27bce29f-2b4d-4450-aad3-5577a41e6ec2",
   "metadata": {},
   "outputs": [
    {
     "data": {
      "text/html": [
       "<div>\n",
       "<style scoped>\n",
       "    .dataframe tbody tr th:only-of-type {\n",
       "        vertical-align: middle;\n",
       "    }\n",
       "\n",
       "    .dataframe tbody tr th {\n",
       "        vertical-align: top;\n",
       "    }\n",
       "\n",
       "    .dataframe thead th {\n",
       "        text-align: right;\n",
       "    }\n",
       "</style>\n",
       "<table border=\"1\" class=\"dataframe\">\n",
       "  <thead>\n",
       "    <tr style=\"text-align: right;\">\n",
       "      <th></th>\n",
       "      <th>ISTASYON</th>\n",
       "      <th>PROJE_ADI</th>\n",
       "      <th>HAT_TURU</th>\n",
       "      <th>lat</th>\n",
       "      <th>lon</th>\n",
       "    </tr>\n",
       "  </thead>\n",
       "  <tbody>\n",
       "    <tr>\n",
       "      <th>0</th>\n",
       "      <td>Mehmet Akif</td>\n",
       "      <td>T1 Kabataş - Bağcılar Tramvay Hattı</td>\n",
       "      <td>Tramvay</td>\n",
       "      <td>41.005800</td>\n",
       "      <td>28.881681</td>\n",
       "    </tr>\n",
       "    <tr>\n",
       "      <th>1</th>\n",
       "      <td>Soğanlık</td>\n",
       "      <td>M4 Kadıköy - SGH Metro Hattı</td>\n",
       "      <td>Metro</td>\n",
       "      <td>40.913288</td>\n",
       "      <td>29.192398</td>\n",
       "    </tr>\n",
       "    <tr>\n",
       "      <th>2</th>\n",
       "      <td>Aksaray</td>\n",
       "      <td>M1A Yenikapı - Atatürk Havalimanı Metro Hattı</td>\n",
       "      <td>Metro</td>\n",
       "      <td>41.012008</td>\n",
       "      <td>28.948090</td>\n",
       "    </tr>\n",
       "    <tr>\n",
       "      <th>3</th>\n",
       "      <td>Olimpiyat</td>\n",
       "      <td>M9 Bahariye - Olimpiyat Metro Hattı</td>\n",
       "      <td>Metro</td>\n",
       "      <td>41.079466</td>\n",
       "      <td>28.767234</td>\n",
       "    </tr>\n",
       "    <tr>\n",
       "      <th>4</th>\n",
       "      <td>Sağmalcılar-Pancar Motor</td>\n",
       "      <td>T4 Topkapı - Mescid-i Selam Tramvay Hattı</td>\n",
       "      <td>Tramvay</td>\n",
       "      <td>41.057280</td>\n",
       "      <td>28.906940</td>\n",
       "    </tr>\n",
       "  </tbody>\n",
       "</table>\n",
       "</div>"
      ],
      "text/plain": [
       "                   ISTASYON                                      PROJE_ADI  \\\n",
       "0               Mehmet Akif            T1 Kabataş - Bağcılar Tramvay Hattı   \n",
       "1                  Soğanlık                   M4 Kadıköy - SGH Metro Hattı   \n",
       "2                   Aksaray  M1A Yenikapı - Atatürk Havalimanı Metro Hattı   \n",
       "3                 Olimpiyat            M9 Bahariye - Olimpiyat Metro Hattı   \n",
       "4  Sağmalcılar-Pancar Motor      T4 Topkapı - Mescid-i Selam Tramvay Hattı   \n",
       "\n",
       "  HAT_TURU        lat        lon  \n",
       "0  Tramvay  41.005800  28.881681  \n",
       "1    Metro  40.913288  29.192398  \n",
       "2    Metro  41.012008  28.948090  \n",
       "3    Metro  41.079466  28.767234  \n",
       "4  Tramvay  41.057280  28.906940  "
      ]
     },
     "execution_count": 19,
     "metadata": {},
     "output_type": "execute_result"
    }
   ],
   "source": [
    "stations_df.head()"
   ]
  },
  {
   "cell_type": "markdown",
   "id": "417ef30a-369f-49fb-b1bc-7c1151c0c160",
   "metadata": {},
   "source": [
    "# Visulation\n",
    "Initial maps"
   ]
  },
  {
   "cell_type": "code",
   "execution_count": 20,
   "id": "b697d2be-86ca-40c8-8880-4dedb121d193",
   "metadata": {},
   "outputs": [],
   "source": [
    "istanbul_coords = [41.0082, 28.9784]\n",
    "\n",
    "\n",
    "map_istanbul = folium.Map(location=istanbul_coords, zoom_start=11, tiles='CartoDB positron')\n",
    "\n",
    "for index, row in stations_df.iterrows():\n",
    "    popup_text = f\"{row['ISTASYON']}<br>{row['PROJE_ADI']}\"\n",
    "    folium.Marker(\n",
    "        location=[row['lat'], row['lon']],\n",
    "        popup=popup_text,\n",
    "        icon=folium.Icon(color='blue' if row['HAT_TURU'] == 'Metro' else 'green', icon='train')\n",
    "    ).add_to(map_istanbul)\n",
    "\n",
    "map_istanbul.save(\"initial_metro_lines.html\")"
   ]
  },
  {
   "cell_type": "code",
   "execution_count": 21,
   "id": "16c3df3e-025c-4425-a175-6bbbf83dd5e4",
   "metadata": {},
   "outputs": [],
   "source": [
    "m = folium.Map(location=istanbul_coords, zoom_start=10 , tiles='CartoDB positron')\n",
    "\n",
    "\n",
    "for _, row in population_df.iterrows():\n",
    "    folium.Marker(\n",
    "        location=[row['latitude'], row['longitude']],\n",
    "        popup=f\"{row['neighborhood']} ({row['township']})\\nNüfus: {row['population']}\",\n",
    "        tooltip=row['neighborhood']\n",
    "    ).add_to(m)\n",
    "\n",
    "m.save(\"neighborhood.html\")"
   ]
  },
  {
   "cell_type": "markdown",
   "id": "87615084-e3e2-4661-966a-1fe0627e51c2",
   "metadata": {},
   "source": [
    "# Calculating grids\n",
    "These are going to be candidate stations"
   ]
  },
  {
   "cell_type": "code",
   "execution_count": 30,
   "id": "e96cb1e0-2ec8-4da5-bd76-f7b244f86698",
   "metadata": {},
   "outputs": [],
   "source": [
    "istanbul_poly = Polygon([\n",
    "    (28.6, 41.2), \n",
    "    (29.0, 41.3),\n",
    "    (29.4, 41.3),\n",
    "    (29.8, 41.0),\n",
    "    (29.3, 40.9),\n",
    "    (28.8, 40.8),\n",
    "    (28.6, 41.0)\n",
    "])\n",
    "\n",
    "grid_list = create_grid_for_polygon(istanbul_poly)"
   ]
  },
  {
   "cell_type": "code",
   "execution_count": 31,
   "id": "1d98a39e-9d74-480e-bdc9-3369e49512e9",
   "metadata": {},
   "outputs": [
    {
     "data": {
      "text/html": [
       "<div>\n",
       "<style scoped>\n",
       "    .dataframe tbody tr th:only-of-type {\n",
       "        vertical-align: middle;\n",
       "    }\n",
       "\n",
       "    .dataframe tbody tr th {\n",
       "        vertical-align: top;\n",
       "    }\n",
       "\n",
       "    .dataframe thead th {\n",
       "        text-align: right;\n",
       "    }\n",
       "</style>\n",
       "<table border=\"1\" class=\"dataframe\">\n",
       "  <thead>\n",
       "    <tr style=\"text-align: right;\">\n",
       "      <th></th>\n",
       "      <th>station_id</th>\n",
       "      <th>lat</th>\n",
       "      <th>lon</th>\n",
       "    </tr>\n",
       "  </thead>\n",
       "  <tbody>\n",
       "    <tr>\n",
       "      <th>0</th>\n",
       "      <td>1</td>\n",
       "      <td>28.695797</td>\n",
       "      <td>40.987937</td>\n",
       "    </tr>\n",
       "    <tr>\n",
       "      <th>1</th>\n",
       "      <td>2</td>\n",
       "      <td>29.408903</td>\n",
       "      <td>41.172191</td>\n",
       "    </tr>\n",
       "    <tr>\n",
       "      <th>2</th>\n",
       "      <td>3</td>\n",
       "      <td>29.383560</td>\n",
       "      <td>41.139977</td>\n",
       "    </tr>\n",
       "    <tr>\n",
       "      <th>3</th>\n",
       "      <td>4</td>\n",
       "      <td>29.376912</td>\n",
       "      <td>41.234437</td>\n",
       "    </tr>\n",
       "    <tr>\n",
       "      <th>4</th>\n",
       "      <td>5</td>\n",
       "      <td>29.321430</td>\n",
       "      <td>41.142090</td>\n",
       "    </tr>\n",
       "  </tbody>\n",
       "</table>\n",
       "</div>"
      ],
      "text/plain": [
       "   station_id        lat        lon\n",
       "0           1  28.695797  40.987937\n",
       "1           2  29.408903  41.172191\n",
       "2           3  29.383560  41.139977\n",
       "3           4  29.376912  41.234437\n",
       "4           5  29.321430  41.142090"
      ]
     },
     "execution_count": 31,
     "metadata": {},
     "output_type": "execute_result"
    }
   ],
   "source": [
    "candidate_stations_df = pd.DataFrame(grid_list)\n",
    "candidate_stations_df.head()"
   ]
  },
  {
   "cell_type": "code",
   "execution_count": 34,
   "id": "f2266bc8-cd9b-4714-b480-e642ee875351",
   "metadata": {},
   "outputs": [
    {
     "data": {
      "text/html": [
       "<div>\n",
       "<style scoped>\n",
       "    .dataframe tbody tr th:only-of-type {\n",
       "        vertical-align: middle;\n",
       "    }\n",
       "\n",
       "    .dataframe tbody tr th {\n",
       "        vertical-align: top;\n",
       "    }\n",
       "\n",
       "    .dataframe thead th {\n",
       "        text-align: right;\n",
       "    }\n",
       "</style>\n",
       "<table border=\"1\" class=\"dataframe\">\n",
       "  <thead>\n",
       "    <tr style=\"text-align: right;\">\n",
       "      <th></th>\n",
       "      <th>station_id</th>\n",
       "      <th>lat</th>\n",
       "      <th>lon</th>\n",
       "    </tr>\n",
       "  </thead>\n",
       "  <tbody>\n",
       "    <tr>\n",
       "      <th>count</th>\n",
       "      <td>1000.000000</td>\n",
       "      <td>1000.000000</td>\n",
       "      <td>1000.000000</td>\n",
       "    </tr>\n",
       "    <tr>\n",
       "      <th>mean</th>\n",
       "      <td>500.500000</td>\n",
       "      <td>29.105650</td>\n",
       "      <td>41.069787</td>\n",
       "    </tr>\n",
       "    <tr>\n",
       "      <th>std</th>\n",
       "      <td>288.819436</td>\n",
       "      <td>0.279474</td>\n",
       "      <td>0.116950</td>\n",
       "    </tr>\n",
       "    <tr>\n",
       "      <th>min</th>\n",
       "      <td>1.000000</td>\n",
       "      <td>28.604162</td>\n",
       "      <td>40.807063</td>\n",
       "    </tr>\n",
       "    <tr>\n",
       "      <th>25%</th>\n",
       "      <td>250.750000</td>\n",
       "      <td>28.869751</td>\n",
       "      <td>40.980837</td>\n",
       "    </tr>\n",
       "    <tr>\n",
       "      <th>50%</th>\n",
       "      <td>500.500000</td>\n",
       "      <td>29.093302</td>\n",
       "      <td>41.064432</td>\n",
       "    </tr>\n",
       "    <tr>\n",
       "      <th>75%</th>\n",
       "      <td>750.250000</td>\n",
       "      <td>29.328894</td>\n",
       "      <td>41.164802</td>\n",
       "    </tr>\n",
       "    <tr>\n",
       "      <th>max</th>\n",
       "      <td>1000.000000</td>\n",
       "      <td>29.767187</td>\n",
       "      <td>41.298836</td>\n",
       "    </tr>\n",
       "  </tbody>\n",
       "</table>\n",
       "</div>"
      ],
      "text/plain": [
       "        station_id          lat          lon\n",
       "count  1000.000000  1000.000000  1000.000000\n",
       "mean    500.500000    29.105650    41.069787\n",
       "std     288.819436     0.279474     0.116950\n",
       "min       1.000000    28.604162    40.807063\n",
       "25%     250.750000    28.869751    40.980837\n",
       "50%     500.500000    29.093302    41.064432\n",
       "75%     750.250000    29.328894    41.164802\n",
       "max    1000.000000    29.767187    41.298836"
      ]
     },
     "execution_count": 34,
     "metadata": {},
     "output_type": "execute_result"
    }
   ],
   "source": [
    "candidate_stations_df.describe()"
   ]
  },
  {
   "cell_type": "code",
   "execution_count": 35,
   "id": "e21dbd0f-bf86-4b71-bb88-39ed08a96831",
   "metadata": {},
   "outputs": [
    {
     "name": "stderr",
     "output_type": "stream",
     "text": [
      "/tmp/ipykernel_86639/535197162.py:2: SettingWithCopyWarning: \n",
      "A value is trying to be set on a copy of a slice from a DataFrame.\n",
      "Try using .loc[row_indexer,col_indexer] = value instead\n",
      "\n",
      "See the caveats in the documentation: https://pandas.pydata.org/pandas-docs/stable/user_guide/indexing.html#returning-a-view-versus-a-copy\n",
      "  stations_df['TYPE'] = 'existing'\n"
     ]
    }
   ],
   "source": [
    "candidate_stations_df['TYPE'] = 'candidate'\n",
    "stations_df['TYPE'] = 'existing'"
   ]
  },
  {
   "cell_type": "code",
   "execution_count": 36,
   "id": "f70799f0-11d2-418c-b2d5-f0c9e3a76b55",
   "metadata": {},
   "outputs": [
    {
     "data": {
      "text/html": [
       "<div>\n",
       "<style scoped>\n",
       "    .dataframe tbody tr th:only-of-type {\n",
       "        vertical-align: middle;\n",
       "    }\n",
       "\n",
       "    .dataframe tbody tr th {\n",
       "        vertical-align: top;\n",
       "    }\n",
       "\n",
       "    .dataframe thead th {\n",
       "        text-align: right;\n",
       "    }\n",
       "</style>\n",
       "<table border=\"1\" class=\"dataframe\">\n",
       "  <thead>\n",
       "    <tr style=\"text-align: right;\">\n",
       "      <th></th>\n",
       "      <th>ISTASYON</th>\n",
       "      <th>PROJE_ADI</th>\n",
       "      <th>HAT_TURU</th>\n",
       "      <th>lat</th>\n",
       "      <th>lon</th>\n",
       "      <th>TYPE</th>\n",
       "    </tr>\n",
       "  </thead>\n",
       "  <tbody>\n",
       "    <tr>\n",
       "      <th>0</th>\n",
       "      <td>Mehmet Akif</td>\n",
       "      <td>T1 Kabataş - Bağcılar Tramvay Hattı</td>\n",
       "      <td>Tramvay</td>\n",
       "      <td>41.005800</td>\n",
       "      <td>28.881681</td>\n",
       "      <td>existing</td>\n",
       "    </tr>\n",
       "    <tr>\n",
       "      <th>1</th>\n",
       "      <td>Soğanlık</td>\n",
       "      <td>M4 Kadıköy - SGH Metro Hattı</td>\n",
       "      <td>Metro</td>\n",
       "      <td>40.913288</td>\n",
       "      <td>29.192398</td>\n",
       "      <td>existing</td>\n",
       "    </tr>\n",
       "    <tr>\n",
       "      <th>2</th>\n",
       "      <td>Aksaray</td>\n",
       "      <td>M1A Yenikapı - Atatürk Havalimanı Metro Hattı</td>\n",
       "      <td>Metro</td>\n",
       "      <td>41.012008</td>\n",
       "      <td>28.948090</td>\n",
       "      <td>existing</td>\n",
       "    </tr>\n",
       "    <tr>\n",
       "      <th>3</th>\n",
       "      <td>Olimpiyat</td>\n",
       "      <td>M9 Bahariye - Olimpiyat Metro Hattı</td>\n",
       "      <td>Metro</td>\n",
       "      <td>41.079466</td>\n",
       "      <td>28.767234</td>\n",
       "      <td>existing</td>\n",
       "    </tr>\n",
       "    <tr>\n",
       "      <th>4</th>\n",
       "      <td>Sağmalcılar-Pancar Motor</td>\n",
       "      <td>T4 Topkapı - Mescid-i Selam Tramvay Hattı</td>\n",
       "      <td>Tramvay</td>\n",
       "      <td>41.057280</td>\n",
       "      <td>28.906940</td>\n",
       "      <td>existing</td>\n",
       "    </tr>\n",
       "  </tbody>\n",
       "</table>\n",
       "</div>"
      ],
      "text/plain": [
       "                   ISTASYON                                      PROJE_ADI  \\\n",
       "0               Mehmet Akif            T1 Kabataş - Bağcılar Tramvay Hattı   \n",
       "1                  Soğanlık                   M4 Kadıköy - SGH Metro Hattı   \n",
       "2                   Aksaray  M1A Yenikapı - Atatürk Havalimanı Metro Hattı   \n",
       "3                 Olimpiyat            M9 Bahariye - Olimpiyat Metro Hattı   \n",
       "4  Sağmalcılar-Pancar Motor      T4 Topkapı - Mescid-i Selam Tramvay Hattı   \n",
       "\n",
       "  HAT_TURU        lat        lon      TYPE  \n",
       "0  Tramvay  41.005800  28.881681  existing  \n",
       "1    Metro  40.913288  29.192398  existing  \n",
       "2    Metro  41.012008  28.948090  existing  \n",
       "3    Metro  41.079466  28.767234  existing  \n",
       "4  Tramvay  41.057280  28.906940  existing  "
      ]
     },
     "execution_count": 36,
     "metadata": {},
     "output_type": "execute_result"
    }
   ],
   "source": [
    "stations_df.head()"
   ]
  },
  {
   "cell_type": "code",
   "execution_count": 37,
   "id": "7d86b8a3-fa27-4425-a645-49c1e8a7dfbd",
   "metadata": {},
   "outputs": [
    {
     "data": {
      "text/html": [
       "<div>\n",
       "<style scoped>\n",
       "    .dataframe tbody tr th:only-of-type {\n",
       "        vertical-align: middle;\n",
       "    }\n",
       "\n",
       "    .dataframe tbody tr th {\n",
       "        vertical-align: top;\n",
       "    }\n",
       "\n",
       "    .dataframe thead th {\n",
       "        text-align: right;\n",
       "    }\n",
       "</style>\n",
       "<table border=\"1\" class=\"dataframe\">\n",
       "  <thead>\n",
       "    <tr style=\"text-align: right;\">\n",
       "      <th></th>\n",
       "      <th>station_id</th>\n",
       "      <th>lat</th>\n",
       "      <th>lon</th>\n",
       "      <th>TYPE</th>\n",
       "    </tr>\n",
       "  </thead>\n",
       "  <tbody>\n",
       "    <tr>\n",
       "      <th>0</th>\n",
       "      <td>1</td>\n",
       "      <td>28.695797</td>\n",
       "      <td>40.987937</td>\n",
       "      <td>candidate</td>\n",
       "    </tr>\n",
       "    <tr>\n",
       "      <th>1</th>\n",
       "      <td>2</td>\n",
       "      <td>29.408903</td>\n",
       "      <td>41.172191</td>\n",
       "      <td>candidate</td>\n",
       "    </tr>\n",
       "    <tr>\n",
       "      <th>2</th>\n",
       "      <td>3</td>\n",
       "      <td>29.383560</td>\n",
       "      <td>41.139977</td>\n",
       "      <td>candidate</td>\n",
       "    </tr>\n",
       "    <tr>\n",
       "      <th>3</th>\n",
       "      <td>4</td>\n",
       "      <td>29.376912</td>\n",
       "      <td>41.234437</td>\n",
       "      <td>candidate</td>\n",
       "    </tr>\n",
       "    <tr>\n",
       "      <th>4</th>\n",
       "      <td>5</td>\n",
       "      <td>29.321430</td>\n",
       "      <td>41.142090</td>\n",
       "      <td>candidate</td>\n",
       "    </tr>\n",
       "  </tbody>\n",
       "</table>\n",
       "</div>"
      ],
      "text/plain": [
       "   station_id        lat        lon       TYPE\n",
       "0           1  28.695797  40.987937  candidate\n",
       "1           2  29.408903  41.172191  candidate\n",
       "2           3  29.383560  41.139977  candidate\n",
       "3           4  29.376912  41.234437  candidate\n",
       "4           5  29.321430  41.142090  candidate"
      ]
     },
     "execution_count": 37,
     "metadata": {},
     "output_type": "execute_result"
    }
   ],
   "source": [
    "candidate_stations_df.head()"
   ]
  },
  {
   "cell_type": "code",
   "execution_count": 38,
   "id": "42221867-20fa-49f1-966b-2341944af712",
   "metadata": {},
   "outputs": [],
   "source": [
    "all_stations = pd.concat([\n",
    "    candidate_stations_df[['station_id', 'lat', 'lon' , 'TYPE']],\n",
    "    stations_df[['ISTASYON', 'lat', 'lon' , 'TYPE']].rename(columns={'ISTASYON': 'station_id'})\n",
    "]).reset_index(drop=True)\n"
   ]
  },
  {
   "cell_type": "code",
   "execution_count": 39,
   "id": "df4a1a9c-d3d1-41e3-aac8-22dd9649c5d4",
   "metadata": {},
   "outputs": [],
   "source": [
    "all_stations = all_stations.reset_index(drop=True)\n",
    "all_stations['station_id'] = all_stations.index + 34001"
   ]
  },
  {
   "cell_type": "code",
   "execution_count": 40,
   "id": "19c004ca-2d83-4a6f-82be-19d4295b407e",
   "metadata": {},
   "outputs": [
    {
     "data": {
      "text/html": [
       "<div>\n",
       "<style scoped>\n",
       "    .dataframe tbody tr th:only-of-type {\n",
       "        vertical-align: middle;\n",
       "    }\n",
       "\n",
       "    .dataframe tbody tr th {\n",
       "        vertical-align: top;\n",
       "    }\n",
       "\n",
       "    .dataframe thead th {\n",
       "        text-align: right;\n",
       "    }\n",
       "</style>\n",
       "<table border=\"1\" class=\"dataframe\">\n",
       "  <thead>\n",
       "    <tr style=\"text-align: right;\">\n",
       "      <th></th>\n",
       "      <th>station_id</th>\n",
       "      <th>lat</th>\n",
       "      <th>lon</th>\n",
       "      <th>TYPE</th>\n",
       "    </tr>\n",
       "  </thead>\n",
       "  <tbody>\n",
       "    <tr>\n",
       "      <th>0</th>\n",
       "      <td>34001</td>\n",
       "      <td>28.695797</td>\n",
       "      <td>40.987937</td>\n",
       "      <td>candidate</td>\n",
       "    </tr>\n",
       "    <tr>\n",
       "      <th>1</th>\n",
       "      <td>34002</td>\n",
       "      <td>29.408903</td>\n",
       "      <td>41.172191</td>\n",
       "      <td>candidate</td>\n",
       "    </tr>\n",
       "    <tr>\n",
       "      <th>2</th>\n",
       "      <td>34003</td>\n",
       "      <td>29.383560</td>\n",
       "      <td>41.139977</td>\n",
       "      <td>candidate</td>\n",
       "    </tr>\n",
       "    <tr>\n",
       "      <th>3</th>\n",
       "      <td>34004</td>\n",
       "      <td>29.376912</td>\n",
       "      <td>41.234437</td>\n",
       "      <td>candidate</td>\n",
       "    </tr>\n",
       "    <tr>\n",
       "      <th>4</th>\n",
       "      <td>34005</td>\n",
       "      <td>29.321430</td>\n",
       "      <td>41.142090</td>\n",
       "      <td>candidate</td>\n",
       "    </tr>\n",
       "  </tbody>\n",
       "</table>\n",
       "</div>"
      ],
      "text/plain": [
       "   station_id        lat        lon       TYPE\n",
       "0       34001  28.695797  40.987937  candidate\n",
       "1       34002  29.408903  41.172191  candidate\n",
       "2       34003  29.383560  41.139977  candidate\n",
       "3       34004  29.376912  41.234437  candidate\n",
       "4       34005  29.321430  41.142090  candidate"
      ]
     },
     "execution_count": 40,
     "metadata": {},
     "output_type": "execute_result"
    }
   ],
   "source": [
    "all_stations.head()"
   ]
  },
  {
   "cell_type": "code",
   "execution_count": 41,
   "id": "aeb00a0f-0b85-4755-8991-3fc58b2219dd",
   "metadata": {},
   "outputs": [],
   "source": [
    "all_stations_pop = calculate_population_per_station(all_stations , population_df)"
   ]
  },
  {
   "cell_type": "code",
   "execution_count": 35,
   "id": "a7c642e8-b174-40ef-a116-d6f539b51cbc",
   "metadata": {},
   "outputs": [],
   "source": [
    "all_stations_pop_filtered = all_stations_pop[\n",
    "    ~((all_stations_pop['arrived_population'] < 1000) & (all_stations_pop['TYPE'] == 'candidate'))\n",
    "]\n",
    "\n",
    "all_stations_pop_filtered = all_stations_pop_filtered.sort_values(by='arrived_population' , ascending = False)"
   ]
  },
  {
   "cell_type": "code",
   "execution_count": 36,
   "id": "7d50c77b-adec-4aaa-94e9-49c8b1cd07cb",
   "metadata": {},
   "outputs": [
    {
     "data": {
      "text/html": [
       "<div>\n",
       "<style scoped>\n",
       "    .dataframe tbody tr th:only-of-type {\n",
       "        vertical-align: middle;\n",
       "    }\n",
       "\n",
       "    .dataframe tbody tr th {\n",
       "        vertical-align: top;\n",
       "    }\n",
       "\n",
       "    .dataframe thead th {\n",
       "        text-align: right;\n",
       "    }\n",
       "</style>\n",
       "<table border=\"1\" class=\"dataframe\">\n",
       "  <thead>\n",
       "    <tr style=\"text-align: right;\">\n",
       "      <th></th>\n",
       "      <th>station_id</th>\n",
       "      <th>lat</th>\n",
       "      <th>lon</th>\n",
       "      <th>TYPE</th>\n",
       "      <th>arrived_population</th>\n",
       "    </tr>\n",
       "  </thead>\n",
       "  <tbody>\n",
       "    <tr>\n",
       "      <th>164</th>\n",
       "      <td>34165</td>\n",
       "      <td>41.006883</td>\n",
       "      <td>28.845000</td>\n",
       "      <td>candidate</td>\n",
       "      <td>302574</td>\n",
       "    </tr>\n",
       "    <tr>\n",
       "      <th>134</th>\n",
       "      <td>34135</td>\n",
       "      <td>41.001450</td>\n",
       "      <td>28.845000</td>\n",
       "      <td>candidate</td>\n",
       "      <td>294879</td>\n",
       "    </tr>\n",
       "    <tr>\n",
       "      <th>104</th>\n",
       "      <td>34105</td>\n",
       "      <td>40.996017</td>\n",
       "      <td>28.845000</td>\n",
       "      <td>candidate</td>\n",
       "      <td>261326</td>\n",
       "    </tr>\n",
       "    <tr>\n",
       "      <th>225</th>\n",
       "      <td>34226</td>\n",
       "      <td>41.017750</td>\n",
       "      <td>28.855000</td>\n",
       "      <td>candidate</td>\n",
       "      <td>259554</td>\n",
       "    </tr>\n",
       "    <tr>\n",
       "      <th>1177</th>\n",
       "      <td>35178</td>\n",
       "      <td>41.019391</td>\n",
       "      <td>28.857845</td>\n",
       "      <td>existing</td>\n",
       "      <td>235721</td>\n",
       "    </tr>\n",
       "  </tbody>\n",
       "</table>\n",
       "</div>"
      ],
      "text/plain": [
       "      station_id        lat        lon       TYPE  arrived_population\n",
       "164        34165  41.006883  28.845000  candidate              302574\n",
       "134        34135  41.001450  28.845000  candidate              294879\n",
       "104        34105  40.996017  28.845000  candidate              261326\n",
       "225        34226  41.017750  28.855000  candidate              259554\n",
       "1177       35178  41.019391  28.857845   existing              235721"
      ]
     },
     "execution_count": 36,
     "metadata": {},
     "output_type": "execute_result"
    }
   ],
   "source": [
    "all_stations_pop_filtered.head()"
   ]
  },
  {
   "cell_type": "code",
   "execution_count": 37,
   "id": "00f4af7c-d4dd-46ea-ab07-b95820c74167",
   "metadata": {},
   "outputs": [
    {
     "data": {
      "text/html": [
       "<div>\n",
       "<style scoped>\n",
       "    .dataframe tbody tr th:only-of-type {\n",
       "        vertical-align: middle;\n",
       "    }\n",
       "\n",
       "    .dataframe tbody tr th {\n",
       "        vertical-align: top;\n",
       "    }\n",
       "\n",
       "    .dataframe thead th {\n",
       "        text-align: right;\n",
       "    }\n",
       "</style>\n",
       "<table border=\"1\" class=\"dataframe\">\n",
       "  <thead>\n",
       "    <tr style=\"text-align: right;\">\n",
       "      <th></th>\n",
       "      <th>station_id</th>\n",
       "      <th>lat</th>\n",
       "      <th>lon</th>\n",
       "      <th>arrived_population</th>\n",
       "    </tr>\n",
       "  </thead>\n",
       "  <tbody>\n",
       "    <tr>\n",
       "      <th>count</th>\n",
       "      <td>866.000000</td>\n",
       "      <td>866.000000</td>\n",
       "      <td>866.000000</td>\n",
       "      <td>866.000000</td>\n",
       "    </tr>\n",
       "    <tr>\n",
       "      <th>mean</th>\n",
       "      <td>34654.267898</td>\n",
       "      <td>41.034148</td>\n",
       "      <td>28.910335</td>\n",
       "      <td>71616.110855</td>\n",
       "    </tr>\n",
       "    <tr>\n",
       "      <th>std</th>\n",
       "      <td>383.173053</td>\n",
       "      <td>0.055695</td>\n",
       "      <td>0.126874</td>\n",
       "      <td>48453.873690</td>\n",
       "    </tr>\n",
       "    <tr>\n",
       "      <th>min</th>\n",
       "      <td>34001.000000</td>\n",
       "      <td>40.784064</td>\n",
       "      <td>28.670765</td>\n",
       "      <td>0.000000</td>\n",
       "    </tr>\n",
       "    <tr>\n",
       "      <th>25%</th>\n",
       "      <td>34318.250000</td>\n",
       "      <td>41.006883</td>\n",
       "      <td>28.825000</td>\n",
       "      <td>34711.500000</td>\n",
       "    </tr>\n",
       "    <tr>\n",
       "      <th>50%</th>\n",
       "      <td>34605.500000</td>\n",
       "      <td>41.034050</td>\n",
       "      <td>28.895000</td>\n",
       "      <td>66030.500000</td>\n",
       "    </tr>\n",
       "    <tr>\n",
       "      <th>75%</th>\n",
       "      <td>35026.750000</td>\n",
       "      <td>41.068220</td>\n",
       "      <td>28.965000</td>\n",
       "      <td>102849.500000</td>\n",
       "    </tr>\n",
       "    <tr>\n",
       "      <th>max</th>\n",
       "      <td>35243.000000</td>\n",
       "      <td>41.256408</td>\n",
       "      <td>29.409966</td>\n",
       "      <td>302574.000000</td>\n",
       "    </tr>\n",
       "  </tbody>\n",
       "</table>\n",
       "</div>"
      ],
      "text/plain": [
       "         station_id         lat         lon  arrived_population\n",
       "count    866.000000  866.000000  866.000000          866.000000\n",
       "mean   34654.267898   41.034148   28.910335        71616.110855\n",
       "std      383.173053    0.055695    0.126874        48453.873690\n",
       "min    34001.000000   40.784064   28.670765            0.000000\n",
       "25%    34318.250000   41.006883   28.825000        34711.500000\n",
       "50%    34605.500000   41.034050   28.895000        66030.500000\n",
       "75%    35026.750000   41.068220   28.965000       102849.500000\n",
       "max    35243.000000   41.256408   29.409966       302574.000000"
      ]
     },
     "execution_count": 37,
     "metadata": {},
     "output_type": "execute_result"
    }
   ],
   "source": [
    "all_stations_pop_filtered.describe()"
   ]
  },
  {
   "cell_type": "markdown",
   "id": "119db218-b2c9-4c8c-9438-7883513b00e9",
   "metadata": {},
   "source": [
    "### Extracting Metro Lines and Stations\n",
    "We have not a extract metro lines and their stations dictionary. For further operation we need this dict ."
   ]
  },
  {
   "cell_type": "code",
   "execution_count": 38,
   "id": "5975fc41-8e91-4b1b-b2db-ded0f03af867",
   "metadata": {},
   "outputs": [],
   "source": [
    "TOLERANCE = 0.0005\n",
    "\n",
    "project_dict = defaultdict(list)\n",
    "\n",
    "existing_stations = all_stations_pop[all_stations_pop['TYPE'] == 'existing']\n",
    "\n",
    "for idx, row in stations_df.iterrows():\n",
    "    proje_adi_full = row['PROJE_ADI']\n",
    "    lat = row['lat']\n",
    "    lon = row['lon']\n",
    "\n",
    "    match_hat = re.search(r'\\b(M\\d+[A-Z]?|T\\d+)\\b', proje_adi_full)\n",
    "    if not match_hat:\n",
    "        continue  \n",
    "    hat_kodu = match_hat.group()\n",
    "\n",
    "\n",
    "    match = existing_stations[\n",
    "        (existing_stations['lat'].sub(lat).abs() < TOLERANCE) &\n",
    "        (existing_stations['lon'].sub(lon).abs() < TOLERANCE)\n",
    "    ]\n",
    "\n",
    "    if not match.empty:\n",
    "        for station_id in match['station_id']:\n",
    "            project_dict[hat_kodu].append(station_id)\n",
    "\n",
    "project_dict = dict(project_dict)\n"
   ]
  },
  {
   "cell_type": "code",
   "execution_count": 39,
   "id": "d8e0c04b-100f-4975-bb15-2ded76c4a426",
   "metadata": {},
   "outputs": [
    {
     "name": "stdout",
     "output_type": "stream",
     "text": [
      "{'T1': [34901, 34917, 34925, 34927, 34931, 34932, 34933, 34955, 34956, 34965, 34966, 34971, 34975, 34994, 34995, 34997, 35001, 35007, 35025, 35026, 35027, 35028, 35031, 35035, 35050, 35051, 35054, 35085, 35093, 35096, 35109, 35124], 'M4': [34902, 34909, 34910, 34938, 34991, 34999, 35010, 35012, 35029, 35034, 35039, 35053, 35057, 35024, 35058, 35062, 35065, 35081, 35086, 35092, 35161, 35162, 35163, 35164, 35165, 35166, 35167, 35168, 35169, 35170], 'M1A': [34903, 34941, 34945, 34947, 34958, 34961, 34969, 34998, 35003, 35033, 35048, 35083, 35084, 35090, 35097, 35099, 35111, 35112, 35114], 'M9': [34904, 34984, 35087, 35060, 35130, 35150, 35183, 35184, 35185, 35186, 35187, 35188, 35226, 35189, 35014, 35190, 35191], 'T4': [34905, 34906, 34923, 34940, 34942, 34948, 34964, 34967, 34968, 34972, 34973, 34974, 34996, 35002, 35008, 35032, 35056, 35063, 35091, 35098, 35110, 35115], 'M5': [34912, 34914, 34979, 35011, 35015, 35018, 35041, 35044, 35047, 35067, 35071, 35073, 35075, 35076, 35077, 35100, 35117, 35154, 35155, 35156, 35157, 35158, 35159, 35160], 'M7': [34915, 34937, 34952, 34953, 34978, 34980, 34982, 35013, 35016, 35021, 35043, 35046, 35070, 35103, 35107, 35119, 35120, 35121, 35122, 35201, 35202, 35203, 35204, 35205, 35206, 35207, 35208, 35209, 35210, 35242], 'T3': [34916, 34929, 34946, 34962, 34988, 34992, 34993, 35030, 35080, 35113], 'T5': [34918, 34919, 34920, 34922, 34939, 34959, 35055, 35125, 35126, 35127, 35182, 35214, 35243], 'M2': [34924, 35116, 34930, 34944, 34960, 34963, 34989, 34990, 35004, 35005, 35009, 35049, 35064, 35066, 35082, 35094, 34924, 35116, 35123], 'M3': [34926, 34957, 34928, 34943, 34970, 35006, 35037, 35060, 35130, 35061, 35089, 35174, 35177, 35178, 35180, 35181, 35211, 35212, 35227, 35228, 35229, 35230], 'M6': [34949, 35040, 35059, 35088], 'M1B': [34926, 34957, 35036, 35038, 35052, 35095, 35175, 35176, 35179, 35213, 35216, 35219, 35221, 35222, 35188, 35226], 'M8': [35118, 35171, 35172, 35173, 35192, 35193, 35194, 35195, 35196, 35197, 35198, 35199, 35200], 'M11': [35140, 35141, 35142, 35143, 35144, 35145, 35146, 35147, 35215, 35218, 35220, 35223, 35224, 35225], 'M10': [35151, 35152], 'M12': [35231, 35232, 35233, 35234, 35235, 35236, 35237, 35238, 35239, 35240, 35241]}\n"
     ]
    }
   ],
   "source": [
    "print(project_dict)"
   ]
  },
  {
   "cell_type": "markdown",
   "id": "e833ea1c-ebe4-4f66-b785-c091598ebb67",
   "metadata": {},
   "source": [
    "we dont know last stations of metro lines. i added last station end of the metro line array."
   ]
  },
  {
   "cell_type": "code",
   "execution_count": 40,
   "id": "25c9f710-0c00-4f92-b271-4001ef6fcbac",
   "metadata": {},
   "outputs": [],
   "source": [
    "existing_stations_dict = {'T1': [34901, 34917, 34925, 34927, 34931, 34932, 34933, 34955, 34956, 34965, 34966, 34971, 34975, 34994, 34995, \n",
    "34997, 35001, 35025, 35026, 35027, 35028, 35031, 35035, 35050, 35051, 35054, 35085, 35093, 35096, 35109, 35124 , 35007], \n",
    "                            'M4': [34902, 34909, 34910, 34938, 34991, 34999, 35010, 35012, 35029, 35034, 35039, 35053, 35057, 35024, \n",
    "35058, 35062, 35065, 35081, 35086, 35092, 35161, 35162, 35163, 35164, 35165, 35166, 35168, 35169, 35170 , 35167], \n",
    "                          'M1A': [34903, 34941, 34945, 34947, 34958, 34961, 34969, \n",
    "34998, 35003, 35033, 35083, 35084, 35090, 35097, 35099, 35111, 35112, 35114 , 35048], \n",
    "                          'M9': [34984, 35087, 35060, 35130, 35150, 35183,\n",
    "35184, 35185, 35186, 35187, 35188, 35226, 35189, 35014, 35190, 35191, 34904], \n",
    "                          'T4': [34905, 34906, 34923, 34940, 34942, 34948, 34964, 34967, 34968,\n",
    "34972, 34973, 34974, 34996, 35002, 35008, 35032, 35056, 35063, 35091, 35098, 35110, 35115], \n",
    "                          'M5': [34912, 34914, 34979, 35011, 35015, 35018,\n",
    "35041, 35044, 35047, 35067, 35071, 35073, 35075, 35076, 35077, 35100, 35117, 35154, 35155, 35157, 35158, 35159, 35160, 35156], \n",
    "                          'M7': [34915,\n",
    "34937, 34952, 34953, 34978, 34980, 34982, 35013, 35016, 35021, 35043, 35046, 35070, 35103, 35107, 35119, 35120, 35121, 35201, 35202,\n",
    "35203, 35204, 35205, 35206, 35207, 35208, 35209, 35210, 35242 , 35122],\n",
    "                          'T5': [34918, 34919, 34920, 34922, 34939, 34959, 35055, 35125, 35126, 35127, \n",
    "35182, 35214, 35243], \n",
    "                          'M2': [34924, 35116, 34930, 34944, 34960, 34963, 34989, 34990, 35005, 35009, 35049, 35064, 35066, 35082, 35094, \n",
    "                                 34924, 35116, 35123 , 35004], \n",
    "                           'M3': [34926, 34957, 34928, 34943, 34970, 35006, 35037, 35060, 35130,  35089, 35174, 35177, 35178, 35180, \n",
    "35181, 35211, 35212, 35227, 35228, 35229, 35230 , 35061], \n",
    "                          'M6': [34949, 35059, 35088 , 35040], \n",
    "                          'M1B': [34926, 34957, 35036, 35038, 35052, 35095, 35175, 35176, 35179, 35213, 35216,  35221, 35222, 35188, \n",
    "35226 , 35219], \n",
    "                          'M8': [35118, 35171, 35173, 35192, 35193, 35194, 35195, 35196, 35197, 35198, 35199, 35200 , 35172], \n",
    "                          'M11': [35140, 35141, 35142, \n",
    "35143, 35144, 35145, 35146, 35147, 35218, 35220, 35223, 35224, 35225 , 35215], \n",
    "                          'M12': [35231, 35232, 35233, 35234, \n",
    "35235, 35236, 35237, 35238, 35239, 35240, 35241]}\n"
   ]
  },
  {
   "cell_type": "markdown",
   "id": "cc574438-0bc2-4863-bda8-1b4c0769c7d5",
   "metadata": {},
   "source": [
    "ww should calculate the connectivitiy dictionary . this dict shows which station could be connected whichs stations "
   ]
  },
  {
   "cell_type": "code",
   "execution_count": 41,
   "id": "bb70d442-5591-4450-af01-20df52dac8ac",
   "metadata": {},
   "outputs": [],
   "source": [
    "connectivity_dict = calculate_connectivity_dict(all_stations_pop)"
   ]
  },
  {
   "cell_type": "code",
   "execution_count": 42,
   "id": "aedb5c2b-d30a-4d32-a61d-a60f3d64ff8a",
   "metadata": {},
   "outputs": [
    {
     "name": "stdout",
     "output_type": "stream",
     "text": [
      "1240\n"
     ]
    }
   ],
   "source": [
    "print(len(connectivity_dict))"
   ]
  },
  {
   "cell_type": "markdown",
   "id": "63a7d987-cd3d-49bd-a602-3471dac18506",
   "metadata": {},
   "source": [
    "# GA"
   ]
  },
  {
   "cell_type": "code",
   "execution_count": 72,
   "id": "629b7022-0808-4737-891f-378e75014510",
   "metadata": {},
   "outputs": [],
   "source": [
    "GeneticAlgorithm = GeneticMetroPlanner(\n",
    "    all_stations_df = all_stations_pop_filtered,\n",
    "    connectivity_dict = connectivity_dict,\n",
    "    existing_lines_dict = existing_stations_dict)"
   ]
  },
  {
   "cell_type": "code",
   "execution_count": 73,
   "id": "bf7a21e4-055b-4e15-994e-1daa37cb9ef0",
   "metadata": {},
   "outputs": [
    {
     "name": "stdout",
     "output_type": "stream",
     "text": [
      "T1: 34 station\n",
      "M4: 30 station\n",
      "M1A: 22 station\n",
      "M9: 17 station\n",
      "T4: 22 station\n",
      "M5: 24 station\n",
      "M7: 31 station\n",
      "T5: 15 station\n",
      "M2: 19 station\n",
      "M3: 24 station\n",
      "M6: 7 station\n",
      "M1B: 19 station\n",
      "M8: 13 station\n",
      "M11: 16 station\n",
      "M12: 11 station\n"
     ]
    }
   ],
   "source": [
    "chromosome = GeneticAlgorithm.generate_chromosome()\n",
    "for line, stations in chromosome.items():\n",
    "    print(f\"{line}: {len(stations)} station\")"
   ]
  },
  {
   "cell_type": "code",
   "execution_count": 74,
   "id": "24280cac-dbe0-4983-9a53-780ac4c417d6",
   "metadata": {},
   "outputs": [
    {
     "name": "stdout",
     "output_type": "stream",
     "text": [
      "T1:  32 station\n",
      "M4:  30 station\n",
      "M1A:  19 station\n",
      "M9:  17 station\n",
      "T4:  22 station\n",
      "M5:  24 station\n",
      "M7:  30 station\n",
      "T5:  13 station\n",
      "M2:  19 station\n",
      "M3:  22 station\n",
      "M6:  4 station\n",
      "M1B:  16 station\n",
      "M8:  13 station\n",
      "M11:  14 station\n",
      "M12:  11 station\n"
     ]
    }
   ],
   "source": [
    "for line , stations in existing_stations_dict.items():\n",
    "    print(f\"{line}:  {len(stations)} station\")"
   ]
  },
  {
   "cell_type": "code",
   "execution_count": 47,
   "id": "25f9e94f-a1ef-4407-8e23-93619e67fa46",
   "metadata": {},
   "outputs": [
    {
     "name": "stdout",
     "output_type": "stream",
     "text": [
      "{'T1': [34901, 34917, 34925, 34927, 34931, 34932, 34933, 34955, 34956, 34965, 34966, 34971, 34975, 34994, 34995, 34997, 35001, 35025, 35026, 35027, 35028, 35031, 35035, 35050, 35051, 35054, 35085, 35093, 35096, 35109, 35124, 35007, 34405, 34497], 'M4': [34902, 34909, 34910, 34938, 34991, 34999, 35010, 35012, 35029, 35034, 35039, 35053, 35057, 35024, 35058, 35062, 35065, 35081, 35086, 35092, 35161, 35162, 35163, 35164, 35165, 35166, 35168, 35169, 35170, 35167], 'M1A': [34903, 34941, 34945, 34947, 34958, 34961, 34969, 34998, 35003, 35033, 35083, 35084, 35090, 35097, 35099, 35111, 35112, 35114, 35048], 'M9': [34984, 35087, 35060, 35130, 35150, 35183, 35184, 35185, 35186, 35187, 35188, 35226, 35189, 35014, 35190, 35191, 34904], 'T4': [34905, 34906, 34923, 34940, 34942, 34948, 34964, 34967, 34968, 34972, 34973, 34974, 34996, 35002, 35008, 35032, 35056, 35063, 35091, 35098, 35110, 35115], 'M5': [34912, 34914, 34979, 35011, 35015, 35018, 35041, 35044, 35047, 35067, 35071, 35073, 35075, 35076, 35077, 35100, 35117, 35154, 35155, 35157, 35158, 35159, 35160, 35156], 'M7': [34915, 34937, 34952, 34953, 34978, 34980, 34982, 35013, 35016, 35021, 35043, 35046, 35070, 35103, 35107, 35119, 35120, 35121, 35201, 35202, 35203, 35204, 35205, 35206, 35207, 35208, 35209, 35210, 35242, 35122, 34271, 34151, 34211], 'T5': [34918, 34919, 34920, 34922, 34939, 34959, 35055, 35125, 35126, 35127, 35182, 35214, 35243], 'M2': [34924, 35116, 34930, 34944, 34960, 34963, 34989, 34990, 35005, 35009, 35049, 35064, 35066, 35082, 35094, 34924, 35116, 35123, 35004], 'M3': [34926, 34957, 34928, 34943, 34970, 35006, 35037, 35060, 35130, 35089, 35174, 35177, 35178, 35180, 35181, 35211, 35212, 35227, 35228, 35229, 35230, 35061, 34669, 34671], 'M6': [34949, 35059, 35088, 35040, 34480], 'M1B': [34926, 34957, 35036, 35038, 35052, 35095, 35175, 35176, 35179, 35213, 35216, 35221, 35222, 35188, 35226, 35219, 34279, 34189, 34127], 'M8': [35118, 35171, 35173, 35192, 35193, 35194, 35195, 35196, 35197, 35198, 35199, 35200, 35172], 'M11': [35140, 35141, 35142, 35143, 35144, 35145, 35146, 35147, 35218, 35220, 35223, 35224, 35225, 35215, 34097], 'M12': [35231, 35232, 35233, 35234, 35235, 35236, 35237, 35238, 35239, 35240, 35241]}\n"
     ]
    }
   ],
   "source": [
    "print(chromosome)"
   ]
  },
  {
   "cell_type": "code",
   "execution_count": 67,
   "id": "18488da9-df2c-4296-90d4-361b90356c0b",
   "metadata": {},
   "outputs": [],
   "source": [
    "m_n = visualize_chromosome(chromosome , all_stations)"
   ]
  },
  {
   "cell_type": "code",
   "execution_count": 68,
   "id": "f79c1e67-44f4-45da-b360-f5de30abe80f",
   "metadata": {},
   "outputs": [],
   "source": [
    "m_n.save(\"chromosome_map_new.html\")"
   ]
  },
  {
   "cell_type": "code",
   "execution_count": 51,
   "id": "5d191ba6-2e13-4705-9db0-2d25bb4d83f2",
   "metadata": {},
   "outputs": [],
   "source": [
    "m_old = visualize_chromosome(existing_stations_dict , all_stations)\n",
    "m_old.save(\"chromosome_map_old.html\")"
   ]
  },
  {
   "cell_type": "code",
   "execution_count": 52,
   "id": "6079a511-4967-4d19-a218-479f264e7076",
   "metadata": {},
   "outputs": [
    {
     "name": "stdout",
     "output_type": "stream",
     "text": [
      "18821358\n"
     ]
    }
   ],
   "source": [
    "print(GeneticAlgorithm.calculate_population_for_chromosome(chromosome))"
   ]
  },
  {
   "cell_type": "code",
   "execution_count": 53,
   "id": "153dd460-3e84-46a0-9bcb-09a06ff30d1a",
   "metadata": {},
   "outputs": [],
   "source": [
    "GeneticAlgorithm.generate_initial_population()"
   ]
  },
  {
   "cell_type": "code",
   "execution_count": 54,
   "id": "0e4479bf-47eb-42a0-bfed-12e24a5dd7ec",
   "metadata": {},
   "outputs": [
    {
     "name": "stdout",
     "output_type": "stream",
     "text": [
      "10\n"
     ]
    }
   ],
   "source": [
    "print(len(GeneticAlgorithm.population))"
   ]
  },
  {
   "cell_type": "code",
   "execution_count": 55,
   "id": "40152a55-5c49-4f01-8dfe-bcdde2b56e2f",
   "metadata": {},
   "outputs": [],
   "source": [
    "GeneticAlgorithm.fitness_population()"
   ]
  },
  {
   "cell_type": "code",
   "execution_count": 56,
   "id": "512cf8b2-d0b7-4567-9363-46f2d5287fbf",
   "metadata": {},
   "outputs": [
    {
     "name": "stdout",
     "output_type": "stream",
     "text": [
      "[np.int64(19432534), np.int64(18833850), np.int64(19028021), np.int64(20017027), np.int64(19241998), np.int64(19601074), np.int64(19403789), np.int64(19309268), np.int64(19183988), np.int64(18701182)]\n"
     ]
    }
   ],
   "source": [
    "print(GeneticAlgorithm.fitness_values)"
   ]
  },
  {
   "cell_type": "code",
   "execution_count": 57,
   "id": "b9c33ba5-5307-411e-8e34-d7a6bbc505ac",
   "metadata": {},
   "outputs": [],
   "source": [
    "planner = GeneticMetroPlanner(\n",
    "    all_stations_df=all_stations,\n",
    "    connectivity_dict=connectivity_dict,\n",
    "    existing_lines_dict=existing_stations_dict,\n",
    "    mutation_rate=0.2,\n",
    "    generation_number=10,\n",
    "    child_number=20,\n",
    "    new_station_number=50,\n",
    "    max_per_station=5\n",
    ")\n"
   ]
  },
  {
   "cell_type": "code",
   "execution_count": 58,
   "id": "a07f8518-b829-432e-a502-6bb6f782469f",
   "metadata": {},
   "outputs": [
    {
     "name": "stdout",
     "output_type": "stream",
     "text": [
      "Best solution\n",
      "Arrived population 23819672\n",
      "T1: [34901, 34917, 34925, 34927, 34931, 34932, 34933, 34955, 34956, 34965, 34966, 34971, 34975, 34994, 34995, 34997, 35001, 35025, 35026, 35027, 35028, 35031, 35035, 35050, 35051, 35054, 35085, 35093, 35096, 35109, 35124, 35007, 34228, 34226, 34347, 34379, 34290, 34172, 34234, 34356, 34359, 34296, 34418, 34478, 34388, 34449]\n",
      "M4: [34902, 34909, 34910, 34938, 34991, 34999, 35010, 35012, 35029, 35034, 35039, 35053, 35057, 35024, 35058, 35062, 35065, 35081, 35086, 35092, 35161, 35162, 35163, 35164, 35165, 35166, 35168, 35169, 35170, 35167]\n",
      "M1A: [34903, 34941, 34945, 34947, 34958, 34961, 34969, 34998, 35003, 35033, 35083, 35084, 35090, 35097, 35099, 35111, 35112, 35114, 35048, 34044, 34101, 34133, 34012, 34009, 34036, 34094]\n",
      "M9: [34984, 35087, 35060, 35130, 35150, 35183, 35184, 35185, 35186, 35187, 35188, 35226, 35189, 35014, 35190, 35191, 34904, 34426, 34395, 34424, 34453, 34543, 34425, 34393, 34365, 34307, 34250, 34309]\n",
      "T4: [34905, 34906, 34923, 34940, 34942, 34948, 34964, 34967, 34968, 34972, 34973, 34974, 34996, 35002, 35008, 35032, 35056, 35063, 35091, 35098, 35110, 35115, 34558, 34466, 34585, 34553, 34526, 34589, 34499, 34590, 34618, 34681, 34622, 34502, 34469, 34587]\n",
      "M5: [34912, 34914, 34979, 35011, 35015, 35018, 35041, 35044, 35047, 35067, 35071, 35073, 35075, 35076, 35077, 35100, 35117, 35154, 35155, 35157, 35158, 35159, 35160, 35156]\n",
      "M7: [34915, 34937, 34952, 34953, 34978, 34980, 34982, 35013, 35016, 35021, 35043, 35046, 35070, 35103, 35107, 35119, 35120, 35121, 35201, 35202, 35203, 35204, 35205, 35206, 35207, 35208, 35209, 35210, 35242, 35122, 34302, 34245, 34364, 34336, 34339, 34366, 34368, 34311]\n",
      "T5: [34918, 34919, 34920, 34922, 34939, 34959, 35055, 35125, 35126, 35127, 35182, 35214, 35243, 34476, 34564, 34531, 34442, 34323, 34443, 34380]\n",
      "M2: [34924, 35116, 34930, 34944, 34960, 34963, 34989, 34990, 35005, 35009, 35049, 35064, 35066, 35082, 35094, 34924, 35116, 35123, 35004, 34900, 34869, 34777, 34810, 34808, 34867]\n",
      "M3: [34926, 34957, 34928, 34943, 34970, 35006, 35037, 35060, 35130, 35089, 35174, 35177, 35178, 35180, 35181, 35211, 35212, 35227, 35228, 35229, 35230, 35061, 34728, 34606, 34573, 34695, 34604, 34485, 34575, 34512, 34541, 34574]\n",
      "M6: [34949, 35059, 35088, 35040, 34510, 34448, 34508, 34628, 34687, 34568]\n",
      "M1B: [34926, 34957, 35036, 35038, 35052, 35095, 35175, 35176, 35179, 35213, 35216, 35221, 35222, 35188, 35226, 35219, 34156, 34064, 34123, 34066, 34004, 34061, 34001, 34063, 34006, 34095, 34007]\n",
      "M8: [35118, 35171, 35173, 35192, 35193, 35194, 35195, 35196, 35197, 35198, 35199, 35200, 35172]\n",
      "M11: [35140, 35141, 35142, 35143, 35144, 35145, 35146, 35147, 35218, 35220, 35223, 35224, 35225, 35215, 34280, 34251, 34283, 34405, 34374, 34317, 34406, 34345, 34343, 34461, 34373, 34464, 34372, 34313, 34371]\n",
      "M12: [35231, 35232, 35233, 35234, 35235, 35236, 35237, 35238, 35239, 35240, 35241]\n"
     ]
    }
   ],
   "source": [
    "best_solution, best_score = planner.run()\n",
    "print(\"Best solution\")\n",
    "print(\"Arrived population\", best_score)\n",
    "\n",
    "for line, stations in best_solution.items():\n",
    "    print(f\"{line}: {stations}\")"
   ]
  },
  {
   "cell_type": "code",
   "execution_count": 59,
   "id": "1f5c75bb-4794-4683-931f-883995f79502",
   "metadata": {},
   "outputs": [],
   "source": [
    "m_best = visualize_chromosome(best_solution , all_stations)"
   ]
  },
  {
   "cell_type": "code",
   "execution_count": 60,
   "id": "979c141e-265c-42c3-9ad4-062ec4480288",
   "metadata": {},
   "outputs": [],
   "source": [
    "m_best.save(\"best_metro_lines.html\")"
   ]
  },
  {
   "cell_type": "code",
   "execution_count": 64,
   "id": "1d4632f8-33e9-49ad-af81-e70cc6628729",
   "metadata": {},
   "outputs": [],
   "source": [
    "istanbul_poly = Polygon([\n",
    "    (28.6, 41.2),  # kabaca İstanbul'un batısı\n",
    "    (29.0, 41.3),\n",
    "    (29.4, 41.3),\n",
    "    (29.8, 41.0),\n",
    "    (29.3, 40.9),\n",
    "    (28.8, 40.8),\n",
    "    (28.6, 41.0)\n",
    "])\n",
    "\n",
    "points_inside = create_grid_for_polygon(istanbul_poly)"
   ]
  },
  {
   "cell_type": "code",
   "execution_count": 65,
   "id": "3c6ba9ee-903f-4b82-98f4-741fd61ff954",
   "metadata": {},
   "outputs": [
    {
     "name": "stdout",
     "output_type": "stream",
     "text": [
      "1000\n"
     ]
    }
   ],
   "source": [
    "print(len(points_inside))"
   ]
  },
  {
   "cell_type": "code",
   "execution_count": 71,
   "id": "042bfb33-81f0-4344-83a9-89722cce7fa4",
   "metadata": {},
   "outputs": [
    {
     "ename": "AttributeError",
     "evalue": "'list' object has no attribute 'items'",
     "output_type": "error",
     "traceback": [
      "\u001b[0;31m---------------------------------------------------------------------------\u001b[0m",
      "\u001b[0;31mAttributeError\u001b[0m                            Traceback (most recent call last)",
      "Cell \u001b[0;32mIn[71], line 1\u001b[0m\n\u001b[0;32m----> 1\u001b[0m \u001b[43mvisualize_chromosome\u001b[49m\u001b[43m(\u001b[49m\u001b[43mpoints_inside\u001b[49m\u001b[43m \u001b[49m\u001b[43m,\u001b[49m\u001b[43m \u001b[49m\u001b[43mall_stations\u001b[49m\u001b[43m)\u001b[49m\n",
      "File \u001b[0;32m~/Desktop/2024-2025_itu/yzv202/project/github/functions.py:163\u001b[0m, in \u001b[0;36mvisualize_chromosome\u001b[0;34m(chromosome, stations_df)\u001b[0m\n\u001b[1;32m    142\u001b[0m color_palette \u001b[38;5;241m=\u001b[39m [\n\u001b[1;32m    143\u001b[0m \u001b[38;5;124m'\u001b[39m\u001b[38;5;124m#1f77b4\u001b[39m\u001b[38;5;124m'\u001b[39m,  \u001b[38;5;66;03m# koyu mavi\u001b[39;00m\n\u001b[1;32m    144\u001b[0m \u001b[38;5;124m'\u001b[39m\u001b[38;5;124m#ff7f0e\u001b[39m\u001b[38;5;124m'\u001b[39m,  \u001b[38;5;66;03m# turuncu\u001b[39;00m\n\u001b[0;32m   (...)\u001b[0m\n\u001b[1;32m    159\u001b[0m \u001b[38;5;124m'\u001b[39m\u001b[38;5;124m#9c9ede\u001b[39m\u001b[38;5;124m'\u001b[39m   \u001b[38;5;66;03m# açık mor ama yeterince koyu\u001b[39;00m\n\u001b[1;32m    160\u001b[0m             ]\n\u001b[1;32m    161\u001b[0m line_colors \u001b[38;5;241m=\u001b[39m {}\n\u001b[0;32m--> 163\u001b[0m \u001b[38;5;28;01mfor\u001b[39;00m i, (line, station_ids) \u001b[38;5;129;01min\u001b[39;00m \u001b[38;5;28menumerate\u001b[39m(\u001b[43mchromosome\u001b[49m\u001b[38;5;241;43m.\u001b[39;49m\u001b[43mitems\u001b[49m()):\n\u001b[1;32m    164\u001b[0m     color \u001b[38;5;241m=\u001b[39m color_palette[i \u001b[38;5;241m%\u001b[39m \u001b[38;5;28mlen\u001b[39m(color_palette)]\n\u001b[1;32m    165\u001b[0m     line_colors[line] \u001b[38;5;241m=\u001b[39m color\n",
      "\u001b[0;31mAttributeError\u001b[0m: 'list' object has no attribute 'items'"
     ]
    }
   ],
   "source": [
    "visualize_chromosome(points_inside , all_stations)"
   ]
  },
  {
   "cell_type": "code",
   "execution_count": null,
   "id": "20717d19-d0d2-4b08-b01c-89bf99c2d3d8",
   "metadata": {},
   "outputs": [],
   "source": []
  }
 ],
 "metadata": {
  "kernelspec": {
   "display_name": "Python (yzv202)",
   "language": "python",
   "name": "yzv202"
  },
  "language_info": {
   "codemirror_mode": {
    "name": "ipython",
    "version": 3
   },
   "file_extension": ".py",
   "mimetype": "text/x-python",
   "name": "python",
   "nbconvert_exporter": "python",
   "pygments_lexer": "ipython3",
   "version": "3.10.16"
  }
 },
 "nbformat": 4,
 "nbformat_minor": 5
}
